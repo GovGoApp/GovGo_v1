{
 "cells": [
  {
   "cell_type": "markdown",
   "id": "bb5f25f3",
   "metadata": {},
   "source": [
    "## APLICAÇÃO PARA CONSULTAR LICITAÇÕES PUBLICADAS NO PNCP (versão1)\n",
    "### Faz a busca de todos os pregões eletrônicos por estado e data de publicação;\n",
    "#### Filtra as licitações cujo objeto possui alguma/algumas das palavras definidas e salva tudo em Excel, tanto a pesquisa geral quanto a filtrada por palavra chave. ***A aplicação consulta os últimos 500 editais, divididos em páginas de 50 editais por estado.***\n",
    "\n",
    "###### Como usar:\n",
    "        1. Ajuste de data (intervalo de tempo para pesquisa); \n",
    "        2. Defina as UFs; \n",
    "        3. Defina as palvras-chave (palavras_chave);\n",
    "        4. Se necessário, mude o código da modalidade (padrão 6: pregão eletrônico);"
   ]
  },
  {
   "cell_type": "markdown",
   "id": "934e6e66",
   "metadata": {},
   "source": [
    "### Dados do Portal Nacional de Compras Públicas (PNCP):\n",
    "* **A Nova Lei de Licitações 14.133/2021 exige que todos os órgãos da administração pública centralizem as informações de suas contratações em um portal nacional. Com acesso a esse portal através da API, nossa aplicação busca oportunidades de negócios verificando as licitações publicadas.** O processo envolve:\n",
    "\n",
    "### Contribuições:\n",
    "* Contribuições são bem-vindas! Sinta-se à vontade para abrir issues ou enviar pull requests para melhorias e novas funcionalidades.\n",
    "\n",
    "***Com esta aplicação, esperamos facilitar o trabalho dos profissionais que buscam oportunidades de negócios em licitações públicas, oferecendo uma solução automatizada e eficiente para a consulta e análise de pregões eletrônicos.***"
   ]
  },
  {
   "cell_type": "code",
   "execution_count": 3,
   "id": "17f1362b",
   "metadata": {},
   "outputs": [],
   "source": [
    "# importando os módulos \n",
    "import pandas as pd\n",
    "import requests\n",
    "import json\n",
    "from datetime import datetime\n",
    "from dateutil.relativedelta import relativedelta\n",
    "import matplotlib.pyplot as plt\n",
    "plt.style.use('ggplot')\n",
    "import seaborn as sns"
   ]
  },
  {
   "cell_type": "code",
   "execution_count": 4,
   "id": "c68a96ee",
   "metadata": {},
   "outputs": [],
   "source": [
    "# parâmetros - pesquisa por data de publicação \n",
    "\n",
    "data_inicial = 20250101\n",
    "data_final = 20250331\n",
    "codigo_modalidade = 6 # pregão eletrônico\n",
    "codigo_municipio_ibge = '' \n",
    "cnpj = ''  \n",
    "codigo_unidade_administrativa = '' \n",
    "tamanho_pagina = 50"
   ]
  },
  {
   "cell_type": "code",
   "execution_count": 5,
   "id": "80929781",
   "metadata": {},
   "outputs": [],
   "source": [
    "# URL para pesquisa de processos publicados - somente com os parâmetros obrigatórios:\n",
    "# páginas 1 A[a] 10\n",
    "\n",
    "base_url = 'https://pncp.gov.br/api/consulta/v1/contratacoes/publicacao'\n",
    "tamanho_pagina = 50  # Defina o tamanho da página conforme necessário\n",
    "urls = []\n",
    "\n",
    "for pagina in range(1, 11):  \n",
    "    for uf in ['ES','SP']: #['PE', 'PB', 'AL', 'SE', 'BA', 'RN', 'CE']:  \n",
    "        url = f'{base_url}?dataInicial={data_inicial}&dataFinal={data_final}&codigoModalidadeContratacao={codigo_modalidade}&uf={uf}&tamanhoPagina={tamanho_pagina}&pagina={pagina}'\n",
    "        urls.append(url)"
   ]
  },
  {
   "cell_type": "code",
   "execution_count": null,
   "id": "d85a7ab1",
   "metadata": {},
   "outputs": [],
   "source": [
    "urls"
   ]
  },
  {
   "cell_type": "markdown",
   "id": "372a2ab9",
   "metadata": {},
   "source": [
    "# requisitando \n",
    "\n",
    "response1 = requests.get(url_padrao1)\n",
    "response2 = requests.get(url_padrao2)\n",
    "response3 = requests.get(url_padrao3)\n",
    "response4 = requests.get(url_padrao4)\n",
    "response5 = requests.get(url_padrao5)\n",
    "response6 = requests.get(url_padrao6)"
   ]
  },
  {
   "cell_type": "code",
   "execution_count": null,
   "id": "c1ba3713",
   "metadata": {
    "scrolled": true
   },
   "outputs": [],
   "source": [
    "# requisitando e criando o DF com os dados\n",
    "# Lista para armazenar todos os processos\n",
    "processos = []\n",
    "\n",
    "# Iterar sobre as URLs e realizar as requisições\n",
    "for url in urls:\n",
    "    response = requests.get(url)\n",
    "    if response.status_code == 200:\n",
    "        dados_dict = response.json()['data']  # Assumindo que 'data' contém os processos\n",
    "        \n",
    "        # Iterar sobre os processos retornados\n",
    "        for processo in dados_dict:\n",
    "            sequencial = processo['sequencialCompra']\n",
    "            orgao = processo['orgaoEntidade']['razaoSocial']\n",
    "            uf = processo['unidadeOrgao']['ufSigla']\n",
    "            inclusao = processo['dataInclusao']\n",
    "            amparo_legal = processo['amparoLegal']['descricao']\n",
    "            abertura = processo['dataAberturaProposta']\n",
    "            encerramento = processo['dataEncerramentoProposta']\n",
    "            n_processo = processo['processo']\n",
    "            objeto = processo['objetoCompra']\n",
    "            link = processo['linkSistemaOrigem']\n",
    "            valor_estimado = processo['valorTotalEstimado']\n",
    "            valor_homologado = processo['valorTotalHomologado']\n",
    "            disputa = processo['modoDisputaNome']\n",
    "            plataforma = processo['usuarioNome']\n",
    "            situacao = processo['situacaoCompraNome']\n",
    "            srp = processo['srp']\n",
    "            \n",
    "            # Adicionar os dados formatados à lista de processos\n",
    "            processos.append([\n",
    "                sequencial, orgao, uf, inclusao, amparo_legal, abertura, encerramento, n_processo, objeto, link,\n",
    "                valor_estimado, valor_homologado, disputa, plataforma, situacao, srp\n",
    "            ])\n",
    "    #else:\n",
    "        print(f\"Erro na requisição para {url}: {response.status_code} - {response.text}\")\n",
    "\n",
    "# Criar o DataFrame\n",
    "df = pd.DataFrame(processos, columns=[\n",
    "    'sequencial', 'orgao', 'uf', 'inclusao', 'amparo_legal', 'abertura', 'encerramento', 'n_processo', 'objeto', 'link',\n",
    "    'valor_estimado', 'valor_homologado', 'disputa', 'plataforma', 'situacao', 'srp'\n",
    "])"
   ]
  },
  {
   "cell_type": "code",
   "execution_count": null,
   "id": "2abcddc0",
   "metadata": {},
   "outputs": [],
   "source": [
    "print(dados_dict)"
   ]
  },
  {
   "cell_type": "code",
   "execution_count": 9,
   "id": "0e819725",
   "metadata": {
    "scrolled": true
   },
   "outputs": [
    {
     "data": {
      "text/plain": [
       "(1000, 16)"
      ]
     },
     "execution_count": 9,
     "metadata": {},
     "output_type": "execute_result"
    }
   ],
   "source": [
    "pd.set_option('display.max_rows', None)  \n",
    "\n",
    "df.head(1) \n",
    "df.shape"
   ]
  },
  {
   "cell_type": "code",
   "execution_count": 10,
   "id": "fec8cc40",
   "metadata": {},
   "outputs": [],
   "source": [
    "# organizando os dados\n",
    "\n",
    "df['valor_estimado'] = pd.to_numeric(df['valor_estimado'], errors='coerce')\n",
    "\n",
    "# data formatada\n",
    "\n",
    "df['abertura'] = pd.to_datetime(df['abertura'], format='%Y-%m-%dT%H:%M:%S')\n",
    "df['inclusao'] = pd.to_datetime(df['inclusao'], format='%Y-%m-%dT%H:%M:%S')\n",
    "df['encerramento'] = pd.to_datetime(df['encerramento'], format='%Y-%m-%dT%H:%M:%S')"
   ]
  },
  {
   "cell_type": "code",
   "execution_count": null,
   "id": "9e755e34",
   "metadata": {},
   "outputs": [],
   "source": [
    "df"
   ]
  },
  {
   "cell_type": "code",
   "execution_count": 12,
   "id": "fe01bb5a",
   "metadata": {},
   "outputs": [],
   "source": [
    "# filtrando pelas palavras de interesse \n",
    "\n",
    "palavras_chave = [\n",
    "    'alimentício', 'alimento', 'alimentação', 'merenda', 'merenda escolar', 'gênero']\n",
    "\n",
    "palavras_chave = [palavra.lower() for palavra in palavras_chave]\n",
    "\n",
    "filtro = df['objeto'].str.lower().str.contains('|'.join(palavras_chave), na=False)\n",
    "\n",
    "df_filtrado = df[filtro].reset_index()"
   ]
  },
  {
   "cell_type": "code",
   "execution_count": null,
   "id": "e0601971",
   "metadata": {},
   "outputs": [],
   "source": [
    "df_filtrado[['objeto']]"
   ]
  },
  {
   "cell_type": "code",
   "execution_count": null,
   "id": "717444be",
   "metadata": {
    "scrolled": true
   },
   "outputs": [],
   "source": [
    "df_filtrado"
   ]
  },
  {
   "cell_type": "markdown",
   "id": "f418ef89",
   "metadata": {},
   "source": [
    "### Estrutura do Arquivo Excel:\n",
    "* Pesquisa Geral: Contém todas as licitações encontradas na busca.\n",
    "* Pesquisa Filtrada: Apresenta as licitações filtradas por palavras-chave."
   ]
  },
  {
   "cell_type": "code",
   "execution_count": null,
   "id": "a171a498",
   "metadata": {},
   "outputs": [
    {
     "name": "stdout",
     "output_type": "stream",
     "text": [
      "DataFrame salvo com sucesso em C:\\Users\\Haroldo Duraes\\Desktop\\PYTHON\\Python Scripts\\PNCP\\licitações_202503m06d.xlsx\n"
     ]
    }
   ],
   "source": [
    "import re\n",
    "from datetime import datetime\n",
    "\n",
    "def clean_illegal_chars(s):\n",
    "    if isinstance(s, str):\n",
    "        # Remove caracteres de controle (ASCII < 32)\n",
    "        return re.sub(r'[\\x00-\\x1F]+', ' ', s)\n",
    "    return s\n",
    "\n",
    "# Aplicar a limpeza em todas as colunas do DataFrame\n",
    "for col in df.select_dtypes(include='object').columns:\n",
    "    df[col] = df[col].apply(clean_illegal_chars)\n",
    "    df_filtrado[col] = df_filtrado[col].apply(clean_illegal_chars)\n",
    "\n",
    "\n",
    "# salvar o arquivo no excel \n",
    "\n",
    "data_atual = datetime.now().strftime('%Y%m%d')\n",
    "\n",
    "PATH = \"C:\\\\Users\\\\Haroldo Duraes\\\\Desktop\\\\PYTHON\\\\Python Scripts\\\\PNCP\\\\\"\n",
    "\n",
    "nome_arquivo_excel = PATH + f'licitações_{data_atual}.xlsx'\n",
    "\n",
    "with pd.ExcelWriter(nome_arquivo_excel) as writer:\n",
    "    df.to_excel(writer, sheet_name='Todos', index=False)\n",
    "\n",
    "    df_filtrado.to_excel(writer, sheet_name='Filtrados', index=False)\n",
    "\n",
    "print(f'DataFrame salvo com sucesso em {nome_arquivo_excel}')"
   ]
  }
 ],
 "metadata": {
  "kernelspec": {
   "display_name": "base",
   "language": "python",
   "name": "python3"
  },
  "language_info": {
   "codemirror_mode": {
    "name": "ipython",
    "version": 3
   },
   "file_extension": ".py",
   "mimetype": "text/x-python",
   "name": "python",
   "nbconvert_exporter": "python",
   "pygments_lexer": "ipython3",
   "version": "3.12.4"
  }
 },
 "nbformat": 4,
 "nbformat_minor": 5
}
