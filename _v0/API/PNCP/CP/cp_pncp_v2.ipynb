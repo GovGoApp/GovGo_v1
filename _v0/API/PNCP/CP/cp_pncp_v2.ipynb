{
 "cells": [
  {
   "cell_type": "code",
   "execution_count": 1,
   "metadata": {},
   "outputs": [
    {
     "name": "stdout",
     "output_type": "stream",
     "text": [
      "UF: ES - Total de páginas: 2\n",
      "UF: SP - Total de páginas: 18\n"
     ]
    }
   ],
   "source": [
    "# importando os módulos \n",
    "import pandas as pd\n",
    "import requests\n",
    "import json\n",
    "from datetime import datetime\n",
    "from dateutil.relativedelta import relativedelta\n",
    "import matplotlib.pyplot as plt\n",
    "plt.style.use('ggplot')\n",
    "import seaborn as sns\n",
    "import re\n",
    "from datetime import datetime\n",
    "\n",
    "# parâmetros - pesquisa por data de publicação \n",
    "data_inicial = 20250301\n",
    "data_final = 20250331\n",
    "codigo_modalidade = 6  # pregão eletrônico\n",
    "codigo_municipio_ibge = '' \n",
    "cnpj = ''  \n",
    "codigo_unidade_administrativa = '' \n",
    "tamanho_pagina = 50\n",
    "\n",
    "base_url = 'https://pncp.gov.br/api/consulta/v1/contratacoes/publicacao'\n",
    "ufs = ['ES', 'SP']\n",
    "\n",
    "# Lista para armazenar todos os processos (dicionários completos)\n",
    "processos = []\n",
    "\n",
    "for uf in ufs:\n",
    "    # Requisição inicial para obter o total de páginas para o UF atual\n",
    "    url_inicial = f'{base_url}?dataInicial={data_inicial}&dataFinal={data_final}&codigoModalidadeContratacao={codigo_modalidade}&uf={uf}&tamanhoPagina={tamanho_pagina}&pagina=1'\n",
    "    response_inicial = requests.get(url_inicial)\n",
    "    if response_inicial.status_code == 200:\n",
    "        json_inicial = response_inicial.json()\n",
    "        total_paginas = json_inicial.get(\"totalPaginas\", 1)\n",
    "        print(f\"UF: {uf} - Total de páginas: {total_paginas}\")\n",
    "        # Iterar por todas as páginas conforme total_paginas\n",
    "        for pagina in range(1, total_paginas + 1):\n",
    "            url = f'{base_url}?dataInicial={data_inicial}&dataFinal={data_final}&codigoModalidadeContratacao={codigo_modalidade}&uf={uf}&tamanhoPagina={tamanho_pagina}&pagina={pagina}'\n",
    "            response = requests.get(url)\n",
    "            if response.status_code == 200:\n",
    "                dados = response.json().get('data', [])\n",
    "                # Adiciona o dicionário completo de cada processo\n",
    "                processos.extend(dados)\n",
    "            else:\n",
    "                print(f\"Erro na requisição para {url}: {response.status_code} - {response.text}\")\n",
    "    else:\n",
    "        print(f\"Erro na requisição para {url_inicial}: {response_inicial.status_code} - {response_inicial.text}\")\n"
   ]
  },
  {
   "cell_type": "code",
   "execution_count": 3,
   "metadata": {},
   "outputs": [
    {
     "data": {
      "text/plain": [
       "970"
      ]
     },
     "execution_count": 3,
     "metadata": {},
     "output_type": "execute_result"
    }
   ],
   "source": [
    "len(processos)"
   ]
  },
  {
   "cell_type": "code",
   "execution_count": 4,
   "metadata": {},
   "outputs": [],
   "source": [
    "\n",
    "# Criar o DataFrame utilizando pd.json_normalize para capturar todos os campos dos processos\n",
    "df = pd.json_normalize(processos)\n",
    "\n",
    "# Renomear 'objetoCompra' para 'objeto' para manter a consistência com o restante do código\n",
    "if 'objetoCompra' in df.columns:\n",
    "    df.rename(columns={'objetoCompra': 'objeto'}, inplace=True)\n",
    "\n",
    "pd.set_option('display.max_rows', None)  \n",
    "\n",
    "# Organizando os dados: conversões numéricas e de datas, se os campos existirem\n",
    "if 'valorTotalEstimado' in df.columns:\n",
    "    df['valorTotalEstimado'] = pd.to_numeric(df['valorTotalEstimado'], errors='coerce')\n",
    "if 'dataAberturaProposta' in df.columns:\n",
    "    df['dataAberturaProposta'] = pd.to_datetime(df['dataAberturaProposta'], format='%Y-%m-%dT%H:%M:%S', errors='coerce')\n",
    "if 'dataInclusao' in df.columns:\n",
    "    df['dataInclusao'] = pd.to_datetime(df['dataInclusao'], format='%Y-%m-%dT%H:%M:%S', errors='coerce')\n",
    "if 'dataEncerramentoProposta' in df.columns:\n",
    "    df['dataEncerramentoProposta'] = pd.to_datetime(df['dataEncerramentoProposta'], format='%Y-%m-%dT%H:%M:%S', errors='coerce')\n",
    "\n",
    "# Filtrando pelas palavras de interesse utilizando a coluna 'objeto'\n",
    "palavras_chave = ['alimentício', 'alimento', 'alimentação', 'merenda', 'merenda escolar', 'gênero']\n",
    "palavras_chave = [palavra.lower() for palavra in palavras_chave]\n",
    "\n",
    "filtro = df['objeto'].str.lower().str.contains('|'.join(palavras_chave), na=False)\n",
    "df_filtrado = df[filtro].reset_index(drop=True)\n",
    "\n"
   ]
  },
  {
   "cell_type": "code",
   "execution_count": null,
   "metadata": {},
   "outputs": [],
   "source": [
    "df"
   ]
  },
  {
   "cell_type": "code",
   "execution_count": 7,
   "metadata": {},
   "outputs": [
    {
     "name": "stdout",
     "output_type": "stream",
     "text": [
      "DataFrame salvo com sucesso em C:\\Users\\Haroldo Duraes\\Desktop\\PYTHON\\Python Scripts\\#XERXES\\API\\PNCP\\licitações_20250310.xlsx\n"
     ]
    }
   ],
   "source": [
    "def clean_illegal_chars(s):\n",
    "    if isinstance(s, str):\n",
    "        # Remove caracteres de controle (ASCII < 32)\n",
    "        return re.sub(r'[\\x00-\\x1F]+', ' ', s)\n",
    "    return s\n",
    "\n",
    "# Aplicar a limpeza em todas as colunas de tipo objeto do DataFrame principal e do filtrado\n",
    "for col in df.select_dtypes(include='object').columns:\n",
    "    df[col] = df[col].apply(clean_illegal_chars)\n",
    "for col in df_filtrado.select_dtypes(include='object').columns:\n",
    "    df_filtrado[col] = df_filtrado[col].apply(clean_illegal_chars)\n",
    "\n",
    "\n",
    "# Salvar o arquivo em Excel\n",
    "data_atual = datetime.now().strftime('%Y%m%d')\n",
    "PATH = \"C:\\\\Users\\\\Haroldo Duraes\\\\Desktop\\\\PYTHON\\\\Python Scripts\\\\#XERXES\\\\API\\\\PNCP\\\\\"\n",
    "\n",
    "nome_arquivo_excel = PATH + f'licitações_{data_atual}.xlsx'\n",
    "\n",
    "with pd.ExcelWriter(nome_arquivo_excel) as writer:\n",
    "    df.to_excel(writer, sheet_name='Todos', index=False)\n",
    "    df_filtrado.to_excel(writer, sheet_name='Filtrados', index=False)\n",
    "\n",
    "print(f'DataFrame salvo com sucesso em {nome_arquivo_excel}')"
   ]
  }
 ],
 "metadata": {
  "kernelspec": {
   "display_name": "base",
   "language": "python",
   "name": "python3"
  },
  "language_info": {
   "codemirror_mode": {
    "name": "ipython",
    "version": 3
   },
   "file_extension": ".py",
   "mimetype": "text/x-python",
   "name": "python",
   "nbconvert_exporter": "python",
   "pygments_lexer": "ipython3",
   "version": "3.12.4"
  }
 },
 "nbformat": 4,
 "nbformat_minor": 2
}
