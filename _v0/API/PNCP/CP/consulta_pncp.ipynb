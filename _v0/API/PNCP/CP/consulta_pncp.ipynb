{
 "cells": [
  {
   "cell_type": "code",
   "execution_count": 1,
   "metadata": {},
   "outputs": [
    {
     "name": "stderr",
     "output_type": "stream",
     "text": [
      "2025-03-06 10:13:39.216 \n",
      "  \u001b[33m\u001b[1mWarning:\u001b[0m to view this Streamlit app on a browser, run it with the following\n",
      "  command:\n",
      "\n",
      "    streamlit run c:\\ProgramData\\anaconda3\\Lib\\site-packages\\ipykernel_launcher.py [ARGUMENTS]\n"
     ]
    }
   ],
   "source": [
    "import requests\n",
    "import streamlit as st\n",
    "\n",
    "# URL base da API (ajuste conforme necessário, consulte a documentação oficial)\n",
    "API_URL = \"https://pncp.gov.br/api/consulta\"\n",
    "\n",
    "def call_pncp_api(keywords):\n",
    "    \"\"\"\n",
    "    Chama a API do PNCP utilizando as palavras-chave fornecidas.\n",
    "    Retorna a resposta em JSON ou None em caso de erro.\n",
    "    \"\"\"\n",
    "    # Parâmetros da consulta – aqui assumimos que a API espera um parâmetro 'q'\n",
    "    params = {\n",
    "        'q': keywords\n",
    "    }\n",
    "    try:\n",
    "        response = requests.get(API_URL, params=params)\n",
    "        response.raise_for_status()  # Lança exceção se o status não for 200 OK\n",
    "        return response.json()\n",
    "    except Exception as e:\n",
    "        st.error(f\"Erro ao chamar a API: {e}\")\n",
    "        return None\n",
    "\n",
    "def display_card(item):\n",
    "    \"\"\"\n",
    "    Formata e exibe um único \"card\" com os dados do item.\n",
    "    É assumido que o item possui os campos 'titulo' e 'descricao'.\n",
    "    Ajuste os nomes dos campos conforme o retorno real da API.\n",
    "    \"\"\"\n",
    "    title = item.get('titulo', 'Sem Título')\n",
    "    description = item.get('descricao', 'Sem descrição')\n",
    "    \n",
    "    card_html = f\"\"\"\n",
    "    <div style=\"border: 1px solid #ccc; border-radius: 5px; padding: 15px; margin-bottom: 10px;\">\n",
    "        <h3 style=\"margin-bottom: 5px;\">{title}</h3>\n",
    "        <p style=\"margin: 0;\">{description}</p>\n",
    "    </div>\n",
    "    \"\"\"\n",
    "    st.markdown(card_html, unsafe_allow_html=True)\n",
    "\n",
    "def display_cards(results):\n",
    "    \"\"\"\n",
    "    Percorre a lista de resultados e exibe cada um em um \"card\".\n",
    "    \"\"\"\n",
    "    if isinstance(results, list):\n",
    "        for item in results:\n",
    "            display_card(item)\n",
    "    else:\n",
    "        st.write(\"Formato de resposta inesperado.\")\n",
    "\n",
    "def main():\n",
    "    st.title(\"Consulta PNCP\")\n",
    "    st.write(\"Insira palavras-chave para buscar informações via API do PNCP.\")\n",
    "    \n",
    "    # Input para as palavras-chave\n",
    "    keywords = st.text_input(\"Palavras-chave:\")\n",
    "    \n",
    "    if st.button(\"Buscar\"):\n",
    "        if keywords.strip() == \"\":\n",
    "            st.warning(\"Por favor, insira uma palavra-chave.\")\n",
    "        else:\n",
    "            with st.spinner(\"Buscando resultados...\"):\n",
    "                results = call_pncp_api(keywords)\n",
    "            if results:\n",
    "                st.success(\"Consulta realizada com sucesso!\")\n",
    "                display_cards(results)\n",
    "            else:\n",
    "                st.info(\"Nenhum resultado encontrado ou erro na consulta.\")\n",
    "\n",
    "if __name__ == \"__main__\":\n",
    "    main()\n"
   ]
  },
  {
   "cell_type": "code",
   "execution_count": 2,
   "metadata": {},
   "outputs": [
    {
     "name": "stdout",
     "output_type": "stream",
     "text": [
      "Resposta da API:\n",
      "Erro ao chamar a API: 403 Client Error:  for url: https://pncp.gov.br/pncp-consulta/?palavraChave=merenda\n"
     ]
    }
   ],
   "source": [
    "import requests\n",
    "\n",
    "def chamar_api_pncp(palavra_chave):\n",
    "    \"\"\"\n",
    "    Chama a API do PNCP utilizando uma palavra-chave e retorna a resposta como string.\n",
    "    Ajuste a URL e os parâmetros conforme as especificações da API.\n",
    "    \"\"\"\n",
    "    # URL base da API (confira o endpoint correto na documentação ou Swagger)\n",
    "    url = \"https://pncp.gov.br/api/consulta\"\n",
    "    \n",
    "    # Parâmetros para a requisição (exemplo: 'palavraChave'; pode ser modificado se necessário)\n",
    "    params = {\n",
    "        \"palavraChave\": palavra_chave\n",
    "    }\n",
    "    \n",
    "    try:\n",
    "        response = requests.get(url, params=params)\n",
    "        response.raise_for_status()  # Levanta exceção para erros HTTP\n",
    "        return response.text  # Retorna a resposta em formato string\n",
    "    except requests.RequestException as e:\n",
    "        return f\"Erro ao chamar a API: {e}\"\n",
    "\n",
    "if __name__ == '__main__':\n",
    "    # Solicita a palavra-chave para consulta ao usuário\n",
    "    palavra = input(\"Digite a palavra-chave para consulta na API do PNCP: \")\n",
    "    resultado = chamar_api_pncp(palavra)\n",
    "    print(\"Resposta da API:\")\n",
    "    print(resultado)\n"
   ]
  },
  {
   "cell_type": "code",
   "execution_count": 5,
   "metadata": {},
   "outputs": [
    {
     "name": "stdout",
     "output_type": "stream",
     "text": [
      "Erro na requisição: 404\n"
     ]
    }
   ],
   "source": [
    "import requests\n",
    "\n",
    "# Defina a URL base da API\n",
    "base_url = 'https://pncp.gov.br/api/consulta/v1/'\n",
    "\n",
    "# Parâmetros da consulta\n",
    "params = {\n",
    "    'palavraChave': 'sua_palavra_chave_aqui',\n",
    "    'pagina': 1,\n",
    "    'tamanhoPagina': 10\n",
    "}\n",
    "\n",
    "# Realize a requisição GET\n",
    "response = requests.get(base_url, params=params)\n",
    "\n",
    "# Verifique o status da resposta\n",
    "if response.status_code == 200:\n",
    "    # Parseie a resposta JSON\n",
    "    dados = response.json()\n",
    "    # Exiba os resultados\n",
    "    for item in dados.get('data', []):\n",
    "        print(f\"ID: {item.get('id')}\")\n",
    "        print(f\"Descrição: {item.get('descricao')}\")\n",
    "        print(f\"Data: {item.get('dataPublicacao')}\")\n",
    "        print('-' * 40)\n",
    "else:\n",
    "    print(f\"Erro na requisição: {response.status_code}\")\n"
   ]
  },
  {
   "cell_type": "code",
   "execution_count": 1,
   "metadata": {},
   "outputs": [
    {
     "name": "stdout",
     "output_type": "stream",
     "text": [
      "Modalidades de contratação: 200 [{'id': 1, 'nome': 'Leilão - Eletrônico', 'descricao': None, 'dataInclusao': '1900-01-01T00:00:00', 'dataAtualizacao': '2021-07-28T09:11:47', 'statusAtivo': True}, {'id': 2, 'nome': 'Diálogo Competitivo', 'descricao': None, 'dataInclusao': '1900-01-01T00:00:00', 'dataAtualizacao': '2021-07-28T09:11:47', 'statusAtivo': True}, {'id': 3, 'nome': 'Concurso', 'descricao': None, 'dataInclusao': '1900-01-01T00:00:00', 'dataAtualizacao': '2021-07-28T09:11:47', 'statusAtivo': True}, {'id': 4, 'nome': 'Concorrência - Eletrônica', 'descricao': None, 'dataInclusao': '1900-01-01T00:00:00', 'dataAtualizacao': '2021-07-28T09:11:47', 'statusAtivo': True}, {'id': 5, 'nome': 'Concorrência - Presencial', 'descricao': None, 'dataInclusao': '1900-01-01T00:00:00', 'dataAtualizacao': '2021-07-28T09:11:47', 'statusAtivo': True}, {'id': 6, 'nome': 'Pregão - Eletrônico', 'descricao': None, 'dataInclusao': '1900-01-01T00:00:00', 'dataAtualizacao': '2021-07-28T09:11:47', 'statusAtivo': True}, {'id': 7, 'nome': 'Pregão - Presencial', 'descricao': None, 'dataInclusao': '1900-01-01T00:00:00', 'dataAtualizacao': '2021-07-28T09:11:47', 'statusAtivo': True}, {'id': 8, 'nome': 'Dispensa', 'descricao': None, 'dataInclusao': '1900-01-01T00:00:00', 'dataAtualizacao': '2021-07-28T09:11:47', 'statusAtivo': True}, {'id': 9, 'nome': 'Inexigibilidade', 'descricao': None, 'dataInclusao': '1900-01-01T00:00:00', 'dataAtualizacao': '2021-07-28T09:11:47', 'statusAtivo': True}, {'id': 10, 'nome': 'Manifestação de Interesse', 'descricao': None, 'dataInclusao': '1900-01-01T00:00:00', 'dataAtualizacao': '2021-07-28T09:11:47', 'statusAtivo': True}, {'id': 11, 'nome': 'Pré-qualificação', 'descricao': None, 'dataInclusao': '1900-01-01T00:00:00', 'dataAtualizacao': '2021-07-29T12:44:48', 'statusAtivo': True}, {'id': 12, 'nome': 'Credenciamento', 'descricao': None, 'dataInclusao': '1900-01-01T00:00:00', 'dataAtualizacao': '2021-07-29T12:44:48', 'statusAtivo': True}, {'id': 13, 'nome': 'Leilão - Presencial', 'descricao': 'Modalidade de licitação realizada sob a forma presencial para alienação de bens imóveis ou de bens móveis inservíveis ou legalmente apreendidos a quem oferecer o maior lance', 'dataInclusao': '1900-01-01T00:00:00', 'dataAtualizacao': '2023-03-31T22:34:09', 'statusAtivo': True}, {'id': 14, 'nome': 'Inaplicabilidade da Licitação', 'descricao': 'Situação em que, por especificidades da legislação ou natureza da atividade, não se exige o processo licitatório. Refere-se aos casos em que a lei determina que a licitação não é aplicável, seja pela natureza única do objeto ou pela impossibilidade de competição.', 'dataInclusao': '1900-01-01T00:00:00', 'dataAtualizacao': '2023-11-01T10:57:42', 'statusAtivo': True}]\n",
      "Instrumentos convocatórios: 200 [{'id': 1, 'nome': 'Edital', 'descricao': 'Instrumento convocatório utilizado no leilão, no diálogo competitivo, no concurso, na concorrência e no pregão.', 'obrigatoriedadeDataAberturaPropostaNome': 'Obrigatório', 'obrigatoriedadeDataEncerramentoPropostaNome': 'Obrigatório', 'dataInclusao': '2021-07-28T09:11:47', 'dataAtualizacao': '2023-12-15T14:59:42', 'statusAtivo': True}, {'id': 2, 'nome': 'Aviso de Contratação Direta', 'descricao': 'Instrumento convocatório utilizado na Dispensa com Disputa.', 'obrigatoriedadeDataAberturaPropostaNome': 'Obrigatório', 'obrigatoriedadeDataEncerramentoPropostaNome': 'Obrigatório', 'dataInclusao': '2021-07-28T09:11:47', 'dataAtualizacao': '2023-12-15T14:59:42', 'statusAtivo': True}, {'id': 3, 'nome': 'Ato que autoriza a Contratação Direta', 'descricao': 'Instrumento convocatório utilizado na Dispensa sem Disputa ou Inexigibilidade.', 'obrigatoriedadeDataAberturaPropostaNome': 'Não se aplica', 'obrigatoriedadeDataEncerramentoPropostaNome': 'Não se aplica', 'dataInclusao': '2021-07-28T09:11:47', 'dataAtualizacao': '2023-12-15T14:59:42', 'statusAtivo': True}, {'id': 4, 'nome': 'Edital de Chamamento Público', 'descricao': 'Instrumento convocatório utilizado para processos auxiliares de manifestação de interesse, de pré-qualificação e de credenciamento.', 'obrigatoriedadeDataAberturaPropostaNome': 'Obrigatório', 'obrigatoriedadeDataEncerramentoPropostaNome': 'Não obrigatório', 'dataInclusao': '2023-12-15T14:59:42', 'dataAtualizacao': '2023-12-15T14:59:42', 'statusAtivo': True}]\n",
      "Modos de disputa: 200 [{'id': 1, 'nome': 'Aberto', 'descricao': None, 'dataInclusao': '2021-07-28T09:11:47', 'dataAtualizacao': '2021-07-28T09:11:47', 'statusAtivo': True}, {'id': 2, 'nome': 'Fechado', 'descricao': None, 'dataInclusao': '2021-07-28T09:11:47', 'dataAtualizacao': '2021-07-28T09:11:47', 'statusAtivo': True}, {'id': 3, 'nome': 'Aberto-Fechado', 'descricao': None, 'dataInclusao': '2021-07-28T09:11:47', 'dataAtualizacao': '2021-07-28T09:11:47', 'statusAtivo': True}, {'id': 4, 'nome': 'Dispensa Com Disputa', 'descricao': None, 'dataInclusao': '2021-07-28T09:11:47', 'dataAtualizacao': '2021-07-28T09:11:47', 'statusAtivo': True}, {'id': 5, 'nome': 'Não se aplica', 'descricao': None, 'dataInclusao': '2021-07-28T09:11:47', 'dataAtualizacao': '2021-07-28T09:11:47', 'statusAtivo': True}, {'id': 6, 'nome': 'Fechado-Aberto', 'descricao': None, 'dataInclusao': '2022-12-15T15:43:44', 'dataAtualizacao': '2022-12-15T15:43:44', 'statusAtivo': True}]\n",
      "Categorias Item PCAs: 200 [{'id': 1, 'nome': 'Material', 'descricao': None, 'dataInclusao': '2021-12-22T20:10:19', 'dataAtualizacao': '2021-12-22T20:10:19', 'statusAtivo': True}, {'id': 2, 'nome': 'Serviço', 'descricao': None, 'dataInclusao': '2021-12-22T20:10:19', 'dataAtualizacao': '2021-12-22T20:10:19', 'statusAtivo': True}, {'id': 3, 'nome': 'Obra', 'descricao': None, 'dataInclusao': '2021-12-22T20:10:19', 'dataAtualizacao': '2021-12-22T20:10:19', 'statusAtivo': True}, {'id': 4, 'nome': 'Serviços de Engenharia', 'descricao': None, 'dataInclusao': '2021-12-22T20:10:19', 'dataAtualizacao': '2021-12-22T20:10:19', 'statusAtivo': True}, {'id': 5, 'nome': 'Soluções de TIC', 'descricao': None, 'dataInclusao': '2021-12-22T20:10:19', 'dataAtualizacao': '2021-12-22T20:10:19', 'statusAtivo': True}, {'id': 6, 'nome': 'Locação de Imóveis', 'descricao': None, 'dataInclusao': '2022-02-21T11:40:01', 'dataAtualizacao': '2022-02-21T11:40:01', 'statusAtivo': True}, {'id': 7, 'nome': 'Alienação/Concessão/Permissão', 'descricao': None, 'dataInclusao': '2022-02-21T11:40:01', 'dataAtualizacao': '2022-02-21T11:40:01', 'statusAtivo': True}, {'id': 8, 'nome': 'Obras e Serviços de Engenharia', 'descricao': None, 'dataInclusao': '2022-05-12T17:44:53', 'dataAtualizacao': '2022-05-12T17:44:53', 'statusAtivo': True}]\n",
      "Orgaos: 200 [{'id': 5003049, 'orgao': {'id': 75867, 'cnpj': '27080563000193', 'razaoSocial': 'ESPIRITO SANTO SECRETARIA DE ESTADO DA EDUCACAO', 'cnpjEnteResponsavel': None, 'poderId': 'E', 'esferaId': 'E', 'validado': True, 'dataValidacao': '2021-07-28T09:13:50'}, 'codigoUnidade': '235', 'nomeUnidade': 'SECRETARIA DE ESTADO DA EDUCAÇÃO', 'municipio': {'id': 3175, 'uf': {'siglaUF': 'ES', 'nomeUF': 'Espírito Santo', 'dataHoraRegistro': '2021-07-28T09:11:47'}, 'nome': 'Vitória', 'codigoIbge': '3205309', 'dataHoraRegistro': '2021-07-28T09:12:08'}, 'dataInclusao': '2025-01-21T10:09:35', 'dataAtualizacao': '2025-01-21T10:09:35'}, {'id': 2829382, 'orgao': {'id': 75867, 'cnpj': '27080563000193', 'razaoSocial': 'ESPIRITO SANTO SECRETARIA DE ESTADO DA EDUCACAO', 'cnpjEnteResponsavel': None, 'poderId': 'E', 'esferaId': 'E', 'validado': True, 'dataValidacao': '2021-07-28T09:13:50'}, 'codigoUnidade': '925715', 'nomeUnidade': 'EES - SECRETARIA ESTADUAL DA EDUCAÇÃO', 'municipio': {'id': 3175, 'uf': {'siglaUF': 'ES', 'nomeUF': 'Espírito Santo', 'dataHoraRegistro': '2021-07-28T09:11:47'}, 'nome': 'Vitória', 'codigoIbge': '3205309', 'dataHoraRegistro': '2021-07-28T09:12:08'}, 'dataInclusao': '2024-10-31T11:44:08', 'dataAtualizacao': '2024-10-31T11:44:08'}]\n",
      "Catalogos: 200 [{'id': 1, 'nome': 'Catálogo do Compras.gov.br', 'descricao': 'Catálogo de bens e serviços do Compras.gov.br', 'dataInclusao': '2021-12-22T20:10:19', 'dataAtualizacao': '2024-11-13T21:21:13', 'statusAtivo': True, 'url': 'https://catalogo.compras.gov.br/cnbs-web/busca'}, {'id': 2, 'nome': 'Outros', 'descricao': None, 'dataInclusao': '2021-12-22T20:10:19', 'dataAtualizacao': '2024-11-19T09:48:47', 'statusAtivo': True, 'url': None}]\n",
      "Publicações: 200 {'data': [{'srp': True, 'orgaoEntidade': {'cnpj': '27080530000143', 'razaoSocial': 'ESTADO DO ESPIRITO SANTO', 'poderId': 'N', 'esferaId': 'E'}, 'anoCompra': 2024, 'sequencialCompra': 2676, 'dataInclusao': '2025-01-02T09:05:34', 'dataPublicacaoPncp': '2025-01-02T09:05:34', 'dataAtualizacao': '2025-01-02T09:05:34', 'numeroCompra': '90013', 'unidadeOrgao': {'ufNome': 'Espírito Santo', 'codigoUnidade': '927155', 'nomeUnidade': 'DIRETORIA DE SAÚDE DA POLÍCIA MILITAR DO ES', 'ufSigla': 'ES', 'municipioNome': 'Vitória', 'codigoIbge': '3205309'}, 'amparoLegal': {'descricao': 'pregão: modalidade de licitação obrigatória para aquisição de bens e serviços comuns', 'nome': 'Lei 14.133/2021, Art. 28, I', 'codigo': 1}, 'dataAberturaProposta': '2025-01-02T08:00:00', 'dataEncerramentoProposta': '2025-01-20T09:00:00', 'informacaoComplementar': ' Para as respostas de esclarecimentos e impugnações deste edital acesse o link: https://cnetmobile.estaleiro.serpro.gov.br/comprasnet-web/public/landing?destino=quadro-informativo&compra=92715505900132024', 'processo': '2024-NQP8X', 'objetoCompra': 'Registro de Preços para Exames de Angiotomografia de Coronária e Ressonância Cardiaca para a Diretoria de Saúde da Polícia Militar do Estado do Espírito Santo (DSPMES) e Órgão Participante (SESP).', 'linkSistemaOrigem': 'https://cnetmobile.estaleiro.serpro.gov.br/comprasnet-web/public/landing?destino=acompanhamento-compra&compra=92715505900132024', 'justificativaPresencial': None, 'unidadeSubRogada': None, 'orgaoSubRogado': None, 'valorTotalHomologado': 72000.0, 'linkProcessoEletronico': None, 'dataAtualizacaoGlobal': '2025-01-28T08:44:58', 'numeroControlePNCP': '27080530000143-1-002676/2024', 'modoDisputaId': 3, 'modalidadeId': 6, 'modalidadeNome': 'Pregão - Eletrônico', 'modoDisputaNome': 'Aberto-Fechado', 'situacaoCompraId': 1, 'situacaoCompraNome': 'Divulgada no PNCP', 'usuarioNome': 'Compras.gov.br', 'tipoInstrumentoConvocatorioNome': 'Edital', 'tipoInstrumentoConvocatorioCodigo': 1, 'valorTotalEstimado': 131508.28}, {'srp': True, 'orgaoEntidade': {'cnpj': '16899018000107', 'razaoSocial': 'FMAS-FUNDO MUNICIPAL DE ASSISTENCIA SOCIAL DE PRES. KENNEDY', 'poderId': 'E', 'esferaId': 'M'}, 'anoCompra': 2024, 'sequencialCompra': 21, 'dataInclusao': '2025-01-02T09:07:10', 'dataPublicacaoPncp': '2025-01-02T09:07:10', 'dataAtualizacao': '2025-01-02T09:07:10', 'numeroCompra': '90054', 'unidadeOrgao': {'ufNome': 'Espírito Santo', 'codigoUnidade': '930442', 'nomeUnidade': 'FUNDO MUN.ASSIST.SOCIAL PRESIDENTE KENNEDY-ES', 'ufSigla': 'ES', 'municipioNome': 'Presidente Kennedy', 'codigoIbge': '3204302'}, 'amparoLegal': {'descricao': 'pregão: modalidade de licitação obrigatória para aquisição de bens e serviços comuns', 'nome': 'Lei 14.133/2021, Art. 28, I', 'codigo': 1}, 'dataAberturaProposta': '2025-01-02T08:00:00', 'dataEncerramentoProposta': '2025-01-16T09:00:00', 'informacaoComplementar': 'Licitação Pregão  Fone: (28) 3535-1948  Ramais: 1948 / 2014  E-mail: pregao@presidentekennedy.es.gov.br Para as respostas de esclarecimentos e impugnações deste edital acesse o link: https://cnetmobile.estaleiro.serpro.gov.br/comprasnet-web/public/landing?destino=quadro-informativo&compra=93044205900542024', 'processo': '01449/2024', 'objetoCompra': 'Aquisição de material de expediente,  visando atender as necessidades das secretarias municipais da prefeitura municipal de presidente kennedy/es.', 'linkSistemaOrigem': 'https://cnetmobile.estaleiro.serpro.gov.br/comprasnet-web/public/landing?destino=acompanhamento-compra&compra=93044205900542024', 'justificativaPresencial': None, 'unidadeSubRogada': None, 'orgaoSubRogado': None, 'valorTotalHomologado': None, 'linkProcessoEletronico': None, 'dataAtualizacaoGlobal': '2025-01-02T09:07:11', 'numeroControlePNCP': '16899018000107-1-000021/2024', 'modoDisputaId': 3, 'modalidadeId': 6, 'modalidadeNome': 'Pregão - Eletrônico', 'modoDisputaNome': 'Aberto-Fechado', 'situacaoCompraId': 1, 'situacaoCompraNome': 'Divulgada no PNCP', 'usuarioNome': 'Compras.gov.br', 'tipoInstrumentoConvocatorioNome': 'Edital', 'tipoInstrumentoConvocatorioCodigo': 1, 'valorTotalEstimado': 2309055.85}, {'srp': True, 'orgaoEntidade': {'cnpj': '27142058000126', 'razaoSocial': 'MUNICIPIO DE VITORIA', 'poderId': 'N', 'esferaId': 'M'}, 'anoCompra': 2024, 'sequencialCompra': 926, 'dataInclusao': '2025-01-02T09:17:06', 'dataPublicacaoPncp': '2025-01-02T09:17:06', 'dataAtualizacao': '2025-01-02T09:17:06', 'numeroCompra': '278', 'unidadeOrgao': {'ufNome': 'Espírito Santo', 'codigoUnidade': '1', 'nomeUnidade': 'PREFEITURA MUNICIPAL DE VITORIA', 'ufSigla': 'ES', 'municipioNome': 'Vitória', 'codigoIbge': '3205309'}, 'amparoLegal': {'descricao': 'pregão: modalidade de licitação obrigatória para aquisição de bens e serviços comuns', 'nome': 'Lei 14.133/2021, Art. 28, I', 'codigo': 1}, 'dataAberturaProposta': '2025-01-03T08:00:00', 'dataEncerramentoProposta': '2025-01-20T08:30:00', 'informacaoComplementar': None, 'processo': '8486984/2024', 'objetoCompra': 'Registro de Preços visando futura e eventual locação de carros tipo Hatch, Sedan, Picape Leve, Caminhonete 4X4 Pesada, Van e Minivan de passageiros, sem motoristas, sem combustível, sem franquia, com seguro total e outros encargos.', 'linkSistemaOrigem': None, 'justificativaPresencial': '', 'unidadeSubRogada': None, 'orgaoSubRogado': None, 'valorTotalHomologado': 2108302.08, 'linkProcessoEletronico': None, 'dataAtualizacaoGlobal': '2025-02-07T10:40:53', 'numeroControlePNCP': '27142058000126-1-000926/2024', 'modoDisputaId': 3, 'modalidadeId': 6, 'modalidadeNome': 'Pregão - Eletrônico', 'modoDisputaNome': 'Aberto-Fechado', 'situacaoCompraId': 1, 'situacaoCompraNome': 'Divulgada no PNCP', 'usuarioNome': 'SMARAPD INFORMATICA LTDA', 'tipoInstrumentoConvocatorioNome': 'Edital', 'tipoInstrumentoConvocatorioCodigo': 1, 'valorTotalEstimado': 2644561.92}, {'srp': True, 'orgaoEntidade': {'cnpj': '00671513000124', 'razaoSocial': 'DEFENSORIA PUBLICA DO ESTADO DO ESPIRITO SANTO', 'poderId': 'E', 'esferaId': 'E'}, 'anoCompra': 2024, 'sequencialCompra': 51, 'dataInclusao': '2025-01-02T09:24:08', 'dataPublicacaoPncp': '2025-01-02T09:24:08', 'dataAtualizacao': '2025-01-02T09:24:08', 'numeroCompra': '000020', 'unidadeOrgao': {'ufNome': 'Espírito Santo', 'codigoUnidade': '00671513000124-001', 'nomeUnidade': 'DEFENSORIA PUBLICA DO ESTADO DO ESPIRITO SANTO', 'ufSigla': 'ES', 'municipioNome': 'Vitória', 'codigoIbge': '3205309'}, 'amparoLegal': {'descricao': 'pregão: modalidade de licitação obrigatória para aquisição de bens e serviços comuns', 'nome': 'Lei 14.133/2021, Art. 28, I', 'codigo': 1}, 'dataAberturaProposta': '2024-12-09T09:30:00', 'dataEncerramentoProposta': '2024-12-09T09:30:00', 'informacaoComplementar': 'AQUISIÇÃO DE MATERIAL DE CONSUMO E EQUIPAMENTOS PARA MANUTENÇÃO ELÉTRICA.', 'processo': '00006557/2024', 'objetoCompra': 'AQUISIÇÃO DE MATERIAL DE CONSUMO E EQUIPAMENTOS PARA MANUTENÇÃO ELÉTRICA.', 'linkSistemaOrigem': '', 'justificativaPresencial': '', 'unidadeSubRogada': None, 'orgaoSubRogado': None, 'valorTotalHomologado': 49168.54, 'linkProcessoEletronico': None, 'dataAtualizacaoGlobal': '2025-01-02T09:29:48', 'numeroControlePNCP': '00671513000124-1-000051/2024', 'modoDisputaId': 3, 'modalidadeId': 6, 'modalidadeNome': 'Pregão - Eletrônico', 'modoDisputaNome': 'Aberto-Fechado', 'situacaoCompraId': 1, 'situacaoCompraNome': 'Divulgada no PNCP', 'usuarioNome': 'E & L PRODUCOES DE SOFTWARE LTDA', 'tipoInstrumentoConvocatorioNome': 'Edital', 'tipoInstrumentoConvocatorioCodigo': 1, 'valorTotalEstimado': 94086.25}, {'srp': False, 'orgaoEntidade': {'cnpj': '27167444000172', 'razaoSocial': 'MUNICIPIO DE SANTA TERESA', 'poderId': 'N', 'esferaId': 'M'}, 'anoCompra': 2024, 'sequencialCompra': 282, 'dataInclusao': '2025-01-02T09:36:12', 'dataPublicacaoPncp': '2025-01-02T09:36:12', 'dataAtualizacao': '2025-01-02T09:36:12', 'numeroCompra': '000062', 'unidadeOrgao': {'ufNome': 'Espírito Santo', 'codigoUnidade': '27167444000172-001', 'nomeUnidade': 'Prefeitura Municipal de Santa Teresa', 'ufSigla': 'ES', 'municipioNome': 'Santa Teresa', 'codigoIbge': '3204609'}, 'amparoLegal': {'descricao': 'pregão: modalidade de licitação obrigatória para aquisição de bens e serviços comuns', 'nome': 'Lei 14.133/2021, Art. 28, I', 'codigo': 1}, 'dataAberturaProposta': '2025-01-02T11:00:00', 'dataEncerramentoProposta': '2025-01-14T08:59:00', 'informacaoComplementar': '2. FUNDAMENTAÇÃO E DESCRIÇÃO DA NECESSIDADE DA CONTRATAÇÃO2.1. O presente Termo visa criar condições para a contratação de empresa especializada para o fornecimento de material de pintura, conforme necessidade, destinado a atender as demandas das secr', 'processo': '011910/2024', 'objetoCompra': 'Aquisição de material de pintura sob demanda, destinados a atender as necessidades das seguintes secretarias: Secretaria Municipal de Obras e Infraestrutura, Secretaria Municipal de Educação, Secretaria Municipal de Esporte e Lazer e Secretaria Municipal de Turismo e Cultura para o exercício de 2025', 'linkSistemaOrigem': '', 'justificativaPresencial': '', 'unidadeSubRogada': None, 'orgaoSubRogado': None, 'valorTotalHomologado': 60400.0, 'linkProcessoEletronico': None, 'dataAtualizacaoGlobal': '2025-01-29T09:19:58', 'numeroControlePNCP': '27167444000172-1-000282/2024', 'modoDisputaId': 1, 'modalidadeId': 6, 'modalidadeNome': 'Pregão - Eletrônico', 'modoDisputaNome': 'Aberto', 'situacaoCompraId': 1, 'situacaoCompraNome': 'Divulgada no PNCP', 'usuarioNome': 'E & L PRODUCOES DE SOFTWARE LTDA', 'tipoInstrumentoConvocatorioNome': 'Edital', 'tipoInstrumentoConvocatorioCodigo': 1, 'valorTotalEstimado': 74301.13}, {'srp': True, 'orgaoEntidade': {'cnpj': '36901264000163', 'razaoSocial': 'FUNDACAO ESTADUAL DE  INOVACAO EM SAUDE - INOVA CAPIXABA', 'poderId': 'E', 'esferaId': 'E'}, 'anoCompra': 2025, 'sequencialCompra': 1, 'dataInclusao': '2025-01-02T09:36:13', 'dataPublicacaoPncp': '2025-01-02T09:36:13', 'dataAtualizacao': '2025-01-02T09:36:13', 'numeroCompra': '001', 'unidadeOrgao': {'ufNome': 'Espírito Santo', 'codigoUnidade': '1', 'nomeUnidade': 'Fundação Inova Capixaba', 'ufSigla': 'ES', 'municipioNome': 'Vila Velha', 'codigoIbge': '3205200'}, 'amparoLegal': {'descricao': 'pregão: modalidade de licitação obrigatória para aquisição de bens e serviços comuns', 'nome': 'Lei 14.133/2021, Art. 28, I', 'codigo': 1}, 'dataAberturaProposta': '2025-01-02T10:00:00', 'dataEncerramentoProposta': '2025-01-14T10:00:00', 'informacaoComplementar': '', 'processo': '2024-HFB1G', 'objetoCompra': '[Portal de Compras Públicas] - REGISTRO DE PREÇO PARA AQUISIÇÃO DE GÊNEROS ALIMENTÍCIOS (BISCOITOS) PARA ATENDER AS DEMANDAS DO HOSPITAL ESTADUAL CENTRAL “BENÍCIO TAVARES PEREIRA” (HEC),', 'linkSistemaOrigem': 'https://portaldecompraspublicas.com.br/processos/ES/Fundacao-Inova-Capixaba-2904/RPE-001-2025-2025-356891', 'justificativaPresencial': '', 'unidadeSubRogada': None, 'orgaoSubRogado': None, 'valorTotalHomologado': None, 'linkProcessoEletronico': None, 'dataAtualizacaoGlobal': '2025-01-02T09:36:13', 'numeroControlePNCP': '36901264000163-1-000001/2025', 'modoDisputaId': 3, 'modalidadeId': 6, 'modalidadeNome': 'Pregão - Eletrônico', 'modoDisputaNome': 'Aberto-Fechado', 'situacaoCompraId': 1, 'situacaoCompraNome': 'Divulgada no PNCP', 'usuarioNome': 'ECustomize Consultoria em Software S.A', 'tipoInstrumentoConvocatorioNome': 'Edital', 'tipoInstrumentoConvocatorioCodigo': 1, 'valorTotalEstimado': 29889.6}, {'srp': True, 'orgaoEntidade': {'cnpj': '27142058000126', 'razaoSocial': 'MUNICIPIO DE VITORIA', 'poderId': 'N', 'esferaId': 'M'}, 'anoCompra': 2024, 'sequencialCompra': 927, 'dataInclusao': '2025-01-02T09:40:51', 'dataPublicacaoPncp': '2025-01-02T09:40:51', 'dataAtualizacao': '2025-01-02T09:40:51', 'numeroCompra': '280', 'unidadeOrgao': {'ufNome': 'Espírito Santo', 'codigoUnidade': '1', 'nomeUnidade': 'PREFEITURA MUNICIPAL DE VITORIA', 'ufSigla': 'ES', 'municipioNome': 'Vitória', 'codigoIbge': '3205309'}, 'amparoLegal': {'descricao': 'pregão: modalidade de licitação obrigatória para aquisição de bens e serviços comuns', 'nome': 'Lei 14.133/2021, Art. 28, I', 'codigo': 1}, 'dataAberturaProposta': '2025-01-03T08:00:00', 'dataEncerramentoProposta': '2025-01-15T09:00:00', 'informacaoComplementar': None, 'processo': '3418875/2024', 'objetoCompra': 'Aquisição de Workstations e Monitores', 'linkSistemaOrigem': None, 'justificativaPresencial': '', 'unidadeSubRogada': None, 'orgaoSubRogado': None, 'valorTotalHomologado': None, 'linkProcessoEletronico': None, 'dataAtualizacaoGlobal': '2025-01-02T10:26:18', 'numeroControlePNCP': '27142058000126-1-000927/2024', 'modoDisputaId': 3, 'modalidadeId': 6, 'modalidadeNome': 'Pregão - Eletrônico', 'modoDisputaNome': 'Aberto-Fechado', 'situacaoCompraId': 1, 'situacaoCompraNome': 'Divulgada no PNCP', 'usuarioNome': 'SMARAPD INFORMATICA LTDA', 'tipoInstrumentoConvocatorioNome': 'Edital', 'tipoInstrumentoConvocatorioCodigo': 1, 'valorTotalEstimado': 120752.85}, {'srp': True, 'orgaoEntidade': {'cnpj': '36388445000138', 'razaoSocial': 'MUNICIPIO DE SANTA MARIA DE JETIBA', 'poderId': 'N', 'esferaId': 'M'}, 'anoCompra': 2025, 'sequencialCompra': 1, 'dataInclusao': '2025-01-02T09:41:48', 'dataPublicacaoPncp': '2025-01-02T09:41:48', 'dataAtualizacao': '2025-02-14T13:56:19', 'numeroCompra': '008', 'unidadeOrgao': {'ufNome': 'Espírito Santo', 'codigoUnidade': '1', 'nomeUnidade': 'PREFEITURA MUNICIPAL DE SANTA MARIA DE JETIBÁ - ES', 'ufSigla': 'ES', 'municipioNome': 'Santa Maria de Jetibá', 'codigoIbge': '3204559'}, 'amparoLegal': {'descricao': 'pregão: modalidade de licitação obrigatória para aquisição de bens e serviços comuns', 'nome': 'Lei 14.133/2021, Art. 28, I', 'codigo': 1}, 'dataAberturaProposta': '2025-01-03T08:00:00', 'dataEncerramentoProposta': '2025-01-16T07:59:00', 'informacaoComplementar': None, 'processo': '010452/2024', 'objetoCompra': 'Registro de preços para aquisição de gêneros alimentícios secos para merenda escolar', 'linkSistemaOrigem': 'https://bllcompras.com/Process/ProcessView?param1=[gkz]QiLKS2T8qYDDYhLiKfXTrYMp9A7EYd5bUVVkDGhNz6WM6z1mivbmz/0fdI8nnT/nzguM7aPbTkOfN6H8FNK7DEfKr8_4NfqzbJDRBL7DBZo=', 'justificativaPresencial': None, 'unidadeSubRogada': None, 'orgaoSubRogado': None, 'valorTotalHomologado': 791007.8, 'linkProcessoEletronico': None, 'dataAtualizacaoGlobal': '2025-02-14T13:58:47', 'numeroControlePNCP': '36388445000138-1-000001/2025', 'modoDisputaId': 1, 'modalidadeId': 6, 'modalidadeNome': 'Pregão - Eletrônico', 'modoDisputaNome': 'Aberto', 'situacaoCompraId': 1, 'situacaoCompraNome': 'Divulgada no PNCP', 'usuarioNome': 'BLL Compras', 'tipoInstrumentoConvocatorioNome': 'Edital', 'tipoInstrumentoConvocatorioCodigo': 1, 'valorTotalEstimado': 940762.2}, {'srp': True, 'orgaoEntidade': {'cnpj': '11822633000100', 'razaoSocial': 'FUNDO MUNICIPAL DE SAUDE DE JAGUARE', 'poderId': 'E', 'esferaId': 'M'}, 'anoCompra': 2024, 'sequencialCompra': 32, 'dataInclusao': '2025-01-02T09:46:40', 'dataPublicacaoPncp': '2025-01-02T09:46:40', 'dataAtualizacao': '2025-01-02T09:46:40', 'numeroCompra': '000026', 'unidadeOrgao': {'ufNome': 'Espírito Santo', 'codigoUnidade': '11822633000100-002', 'nomeUnidade': 'FUNDO MUNICIPAL DE SAÚDE', 'ufSigla': 'ES', 'municipioNome': 'Jaguaré', 'codigoIbge': '3203056'}, 'amparoLegal': {'descricao': 'pregão: modalidade de licitação obrigatória para aquisição de bens e serviços comuns', 'nome': 'Lei 14.133/2021, Art. 28, I', 'codigo': 1}, 'dataAberturaProposta': '2025-01-03T08:00:00', 'dataEncerramentoProposta': '2025-01-21T08:59:00', 'informacaoComplementar': 'A contratação do serviço é necessária para atender à demanda da Unidade Hospitalar do município, que possui um Centro Cirúrgico e oferece serviços de internação. É preciso fornecer refeições diariamente, de segunda a domingo, para profissionais planto', 'processo': '005911/2024', 'objetoCompra': 'Formalização de registro de preços, para aquisição de refeições (marmitex) ', 'linkSistemaOrigem': '', 'justificativaPresencial': '', 'unidadeSubRogada': None, 'orgaoSubRogado': None, 'valorTotalHomologado': None, 'linkProcessoEletronico': None, 'dataAtualizacaoGlobal': '2025-01-02T09:46:41', 'numeroControlePNCP': '11822633000100-1-000032/2024', 'modoDisputaId': 1, 'modalidadeId': 6, 'modalidadeNome': 'Pregão - Eletrônico', 'modoDisputaNome': 'Aberto', 'situacaoCompraId': 1, 'situacaoCompraNome': 'Divulgada no PNCP', 'usuarioNome': 'E & L PRODUCOES DE SOFTWARE LTDA', 'tipoInstrumentoConvocatorioNome': 'Edital', 'tipoInstrumentoConvocatorioCodigo': 1, 'valorTotalEstimado': 1350693.92}, {'srp': True, 'orgaoEntidade': {'cnpj': '36901264000163', 'razaoSocial': 'FUNDACAO ESTADUAL DE  INOVACAO EM SAUDE - INOVA CAPIXABA', 'poderId': 'E', 'esferaId': 'E'}, 'anoCompra': 2025, 'sequencialCompra': 2, 'dataInclusao': '2025-01-02T09:46:41', 'dataPublicacaoPncp': '2025-01-02T09:46:41', 'dataAtualizacao': '2025-02-26T10:46:55', 'numeroCompra': '003', 'unidadeOrgao': {'ufNome': 'Espírito Santo', 'codigoUnidade': '1', 'nomeUnidade': 'Fundação Inova Capixaba', 'ufSigla': 'ES', 'municipioNome': 'Vila Velha', 'codigoIbge': '3205200'}, 'amparoLegal': {'descricao': 'pregão: modalidade de licitação obrigatória para aquisição de bens e serviços comuns', 'nome': 'Lei 14.133/2021, Art. 28, I', 'codigo': 1}, 'dataAberturaProposta': '2025-01-02T10:00:00', 'dataEncerramentoProposta': '2025-01-14T10:00:00', 'informacaoComplementar': '', 'processo': '2024-XFK9G', 'objetoCompra': '[Portal de Compras Públicas] - REGISTRO DE PREÇO PARA AQUISIÇÃO DE CRACHÁS E ACESSÓRIOS DE IDENTIFICAÇÃO PARA ATENDER A SEDE DA FUNDAÇÃO INOVA E SUAS UNIDADES HOSPITALARES', 'linkSistemaOrigem': 'https://portaldecompraspublicas.com.br/processos/ES/Fundacao-Inova-Capixaba-2904/RPE-003-2025-2025-356771', 'justificativaPresencial': '', 'unidadeSubRogada': None, 'orgaoSubRogado': None, 'valorTotalHomologado': 43990.0, 'linkProcessoEletronico': None, 'dataAtualizacaoGlobal': '2025-02-26T10:47:24', 'numeroControlePNCP': '36901264000163-1-000002/2025', 'modoDisputaId': 3, 'modalidadeId': 6, 'modalidadeNome': 'Pregão - Eletrônico', 'modoDisputaNome': 'Aberto-Fechado', 'situacaoCompraId': 1, 'situacaoCompraNome': 'Divulgada no PNCP', 'usuarioNome': 'ECustomize Consultoria em Software S.A', 'tipoInstrumentoConvocatorioNome': 'Edital', 'tipoInstrumentoConvocatorioCodigo': 1, 'valorTotalEstimado': 71150.1}], 'totalRegistros': 1142, 'totalPaginas': 115, 'numeroPagina': 1, 'paginasRestantes': 114, 'empty': False}\n"
     ]
    }
   ],
   "source": [
    "import requests\n",
    "\n",
    "BASE_URL = \"https://pncp.gov.br/api\"\n",
    "\n",
    "# Consultar modalidades de contratação\n",
    "response = requests.get(f\"{BASE_URL}/pncp/v1/modalidades\")\n",
    "print(\"Modalidades de contratação:\", response.status_code, response.json())\n",
    "\n",
    "# Consultar tipos de instrumentos convocatórios\n",
    "response = requests.get(f\"{BASE_URL}/pncp/v1/tipos-instrumentos-convocatorios\")\n",
    "print(\"Instrumentos convocatórios:\", response.status_code, response.json())\n",
    "\n",
    "# Consultar modos de disputa\n",
    "response = requests.get(f\"{BASE_URL}/pncp/v1/modos-disputas\")\n",
    "print(\"Modos de disputa:\", response.status_code, response.json())\n",
    "\n",
    "# Consultar categorias item PCAs\n",
    "response = requests.get(f\"{BASE_URL}/pncp/v1/categoriaItemPcas\")\n",
    "print(\"Categorias Item PCAs:\", response.status_code, response.json())\n",
    "\n",
    "\n",
    "# Consultar Orgaos\n",
    "response = requests.get(f\"{BASE_URL}/pncp/v1/orgaos/27080563000193/unidades\")\n",
    "\n",
    "print(\"Orgaos:\", response.status_code, response.json())\n",
    "\n",
    "# Consultar catalogos\n",
    "response = requests.get(f\"{BASE_URL}/pncp/v1/catalogos\")\n",
    "print(\"Catalogos:\", response.status_code, response.json())\n",
    "\n",
    " \n",
    "\n",
    "# Consultar publicações com todos os parâmetros obrigatórios\n",
    "response = requests.get(f\"{BASE_URL}/consulta/v1/contratacoes/publicacao\", params={\n",
    "    \"dataInicial\": \"20250101\",\n",
    "    \"dataFinal\": \"20250331\",\n",
    "    \"codigoModalidadeContratacao\": 6,  # parâmetro obrigatório adicionado\n",
    "    \"uf\": \"ES\",                         # exemplo adicional opcional: Unidade Federativa\n",
    "    \"pagina\": 1,\n",
    "    \"tamanhoPagina\": 10\n",
    "})\n",
    "print(\"Publicações:\", response.status_code, response.json())\n"
   ]
  }
 ],
 "metadata": {
  "kernelspec": {
   "display_name": "base",
   "language": "python",
   "name": "python3"
  },
  "language_info": {
   "codemirror_mode": {
    "name": "ipython",
    "version": 3
   },
   "file_extension": ".py",
   "mimetype": "text/x-python",
   "name": "python",
   "nbconvert_exporter": "python",
   "pygments_lexer": "ipython3",
   "version": "3.12.4"
  }
 },
 "nbformat": 4,
 "nbformat_minor": 2
}
