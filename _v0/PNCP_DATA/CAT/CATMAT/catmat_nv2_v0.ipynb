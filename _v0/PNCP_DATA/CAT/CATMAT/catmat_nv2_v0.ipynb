{
 "cells": [
  {
   "cell_type": "code",
   "execution_count": 1,
   "metadata": {},
   "outputs": [],
   "source": [
    "import pandas as pd\n",
    "\n",
    "BASE_PATH = \"C:\\\\Users\\\\Haroldo Duraes\\\\Desktop\\\\GOvGO\\\\v0\\\\#DATA\\\\PNCP\\\\\"\n",
    "CAT_PATH = BASE_PATH + \"CAT\\\\\"\n",
    "FILE = CAT_PATH + \"Lista CATMAT.xlsx\"\n",
    "ABA = \"Materiais\""
   ]
  },
  {
   "cell_type": "code",
   "execution_count": 2,
   "metadata": {},
   "outputs": [
    {
     "data": {
      "text/html": [
       "<div>\n",
       "<style scoped>\n",
       "    .dataframe tbody tr th:only-of-type {\n",
       "        vertical-align: middle;\n",
       "    }\n",
       "\n",
       "    .dataframe tbody tr th {\n",
       "        vertical-align: top;\n",
       "    }\n",
       "\n",
       "    .dataframe thead th {\n",
       "        text-align: right;\n",
       "    }\n",
       "</style>\n",
       "<table border=\"1\" class=\"dataframe\">\n",
       "  <thead>\n",
       "    <tr style=\"text-align: right;\">\n",
       "      <th></th>\n",
       "      <th>Código do Grupo</th>\n",
       "      <th>Nome do Grupo</th>\n",
       "      <th>Código da Classe</th>\n",
       "      <th>Nome da Classe</th>\n",
       "      <th>Código do PDM</th>\n",
       "      <th>Nome do PDM</th>\n",
       "      <th>Código do Item</th>\n",
       "      <th>Descrição do Item</th>\n",
       "      <th>Código NCM</th>\n",
       "    </tr>\n",
       "  </thead>\n",
       "  <tbody>\n",
       "    <tr>\n",
       "      <th>0</th>\n",
       "      <td>10</td>\n",
       "      <td>ARMAMENTO</td>\n",
       "      <td>1005</td>\n",
       "      <td>ARMAS DE FOGO DE CALIBRE ATÉ 120MM</td>\n",
       "      <td>1712</td>\n",
       "      <td>PEÇAS / ACESSÓRIOS ARMAMENTO</td>\n",
       "      <td>446820</td>\n",
       "      <td>PEÇAS / ACESSÓRIOS ARMAMENTO, MATERIAL:AÇO, TI...</td>\n",
       "      <td>-</td>\n",
       "    </tr>\n",
       "    <tr>\n",
       "      <th>1</th>\n",
       "      <td>10</td>\n",
       "      <td>ARMAMENTO</td>\n",
       "      <td>1005</td>\n",
       "      <td>ARMAS DE FOGO DE CALIBRE ATÉ 120MM</td>\n",
       "      <td>1712</td>\n",
       "      <td>PEÇAS / ACESSÓRIOS ARMAMENTO</td>\n",
       "      <td>446821</td>\n",
       "      <td>PEÇAS / ACESSÓRIOS ARMAMENTO, MATERIAL:AÇO, TI...</td>\n",
       "      <td>-</td>\n",
       "    </tr>\n",
       "    <tr>\n",
       "      <th>2</th>\n",
       "      <td>10</td>\n",
       "      <td>ARMAMENTO</td>\n",
       "      <td>1005</td>\n",
       "      <td>ARMAS DE FOGO DE CALIBRE ATÉ 120MM</td>\n",
       "      <td>1712</td>\n",
       "      <td>PEÇAS / ACESSÓRIOS ARMAMENTO</td>\n",
       "      <td>446823</td>\n",
       "      <td>PEÇAS / ACESSÓRIOS ARMAMENTO, MATERIAL:AÇO, TI...</td>\n",
       "      <td>-</td>\n",
       "    </tr>\n",
       "    <tr>\n",
       "      <th>3</th>\n",
       "      <td>10</td>\n",
       "      <td>ARMAMENTO</td>\n",
       "      <td>1005</td>\n",
       "      <td>ARMAS DE FOGO DE CALIBRE ATÉ 120MM</td>\n",
       "      <td>1712</td>\n",
       "      <td>PEÇAS / ACESSÓRIOS ARMAMENTO</td>\n",
       "      <td>446840</td>\n",
       "      <td>PEÇAS / ACESSÓRIOS ARMAMENTO, MATERIAL:AÇO, TI...</td>\n",
       "      <td>-</td>\n",
       "    </tr>\n",
       "    <tr>\n",
       "      <th>4</th>\n",
       "      <td>10</td>\n",
       "      <td>ARMAMENTO</td>\n",
       "      <td>1005</td>\n",
       "      <td>ARMAS DE FOGO DE CALIBRE ATÉ 120MM</td>\n",
       "      <td>1712</td>\n",
       "      <td>PEÇAS / ACESSÓRIOS ARMAMENTO</td>\n",
       "      <td>446842</td>\n",
       "      <td>PEÇAS / ACESSÓRIOS ARMAMENTO, MATERIAL:AÇO, TI...</td>\n",
       "      <td>-</td>\n",
       "    </tr>\n",
       "  </tbody>\n",
       "</table>\n",
       "</div>"
      ],
      "text/plain": [
       "   Código do Grupo Nome do Grupo  Código da Classe  \\\n",
       "0               10     ARMAMENTO              1005   \n",
       "1               10     ARMAMENTO              1005   \n",
       "2               10     ARMAMENTO              1005   \n",
       "3               10     ARMAMENTO              1005   \n",
       "4               10     ARMAMENTO              1005   \n",
       "\n",
       "                       Nome da Classe  Código do PDM  \\\n",
       "0  ARMAS DE FOGO DE CALIBRE ATÉ 120MM           1712   \n",
       "1  ARMAS DE FOGO DE CALIBRE ATÉ 120MM           1712   \n",
       "2  ARMAS DE FOGO DE CALIBRE ATÉ 120MM           1712   \n",
       "3  ARMAS DE FOGO DE CALIBRE ATÉ 120MM           1712   \n",
       "4  ARMAS DE FOGO DE CALIBRE ATÉ 120MM           1712   \n",
       "\n",
       "                    Nome do PDM  Código do Item  \\\n",
       "0  PEÇAS / ACESSÓRIOS ARMAMENTO          446820   \n",
       "1  PEÇAS / ACESSÓRIOS ARMAMENTO          446821   \n",
       "2  PEÇAS / ACESSÓRIOS ARMAMENTO          446823   \n",
       "3  PEÇAS / ACESSÓRIOS ARMAMENTO          446840   \n",
       "4  PEÇAS / ACESSÓRIOS ARMAMENTO          446842   \n",
       "\n",
       "                                   Descrição do Item Código NCM  \n",
       "0  PEÇAS / ACESSÓRIOS ARMAMENTO, MATERIAL:AÇO, TI...          -  \n",
       "1  PEÇAS / ACESSÓRIOS ARMAMENTO, MATERIAL:AÇO, TI...          -  \n",
       "2  PEÇAS / ACESSÓRIOS ARMAMENTO, MATERIAL:AÇO, TI...          -  \n",
       "3  PEÇAS / ACESSÓRIOS ARMAMENTO, MATERIAL:AÇO, TI...          -  \n",
       "4  PEÇAS / ACESSÓRIOS ARMAMENTO, MATERIAL:AÇO, TI...          -  "
      ]
     },
     "metadata": {},
     "output_type": "display_data"
    }
   ],
   "source": [
    "df = pd.read_excel(FILE, sheet_name=ABA)\n",
    "display(df.head())"
   ]
  },
  {
   "cell_type": "code",
   "execution_count": 5,
   "metadata": {},
   "outputs": [
    {
     "data": {
      "text/plain": [
       "(157853, 4)"
      ]
     },
     "execution_count": 5,
     "metadata": {},
     "output_type": "execute_result"
    }
   ],
   "source": [
    "catmat_df.shape"
   ]
  },
  {
   "cell_type": "code",
   "execution_count": null,
   "metadata": {},
   "outputs": [
    {
     "name": "stderr",
     "output_type": "stream",
     "text": [
      "C:\\Users\\Haroldo Duraes\\AppData\\Local\\Temp\\ipykernel_33060\\2519318170.py:18: DeprecationWarning: DataFrameGroupBy.apply operated on the grouping columns. This behavior is deprecated, and in a future version of pandas the grouping columns will be excluded from the operation. Either pass `include_groups=False` to exclude the groupings or explicitly select the grouping columns after groupby to silence this warning.\n",
      "  sample_df = sample_df.groupby(['CATEGORIA', 'PDM']).apply(sample_group).reset_index(drop=True)\n"
     ]
    },
    {
     "data": {
      "text/plain": [
       "(32803, 5)"
      ]
     },
     "execution_count": 9,
     "metadata": {},
     "output_type": "execute_result"
    }
   ],
   "source": [
    "# Criando uma cópia do dataframe original para não modificá-lo\n",
    "sample_df = catmat_df.copy()\n",
    "\n",
    "# Adicionando a coluna CATEGORIA como concatenação de GRUPO e CLASSE\n",
    "sample_df['CATEGORIA'] = sample_df['GRUPO'] + '; ' + sample_df['CLASSE']\n",
    "\n",
    "# Definindo o número máximo de itens por PDM para cada categoria\n",
    "n = 5  # Você pode ajustar este valor conforme necessário\n",
    "\n",
    "# Função para selecionar no máximo n itens por grupo\n",
    "def sample_group(group):\n",
    "    if len(group) <= n:\n",
    "        return group\n",
    "    else:\n",
    "        return group.sample(n, random_state=42)  # Usando random_state para reprodutibilidade\n",
    "\n",
    "# Aplicar a amostragem por CATEGORIA e PDM\n",
    "sample_df = sample_df.groupby(['CATEGORIA', 'PDM']).apply(sample_group).reset_index(drop=True)\n",
    "\n",
    "sample_df.shape\n"
   ]
  },
  {
   "cell_type": "code",
   "execution_count": 11,
   "metadata": {},
   "outputs": [
    {
     "name": "stdout",
     "output_type": "stream",
     "text": [
      "Conjunto de Treinamento: 10260 itens\n",
      "Conjunto de Validação: 25399 itens\n",
      "\n",
      "Exemplos do conjunto de treinamento:\n"
     ]
    },
    {
     "name": "stderr",
     "output_type": "stream",
     "text": [
      "C:\\Users\\Haroldo Duraes\\AppData\\Local\\Temp\\ipykernel_33060\\2920078618.py:45: DeprecationWarning: DataFrameGroupBy.apply operated on the grouping columns. This behavior is deprecated, and in a future version of pandas the grouping columns will be excluded from the operation. Either pass `include_groups=False` to exclude the groupings or explicitly select the grouping columns after groupby to silence this warning.\n",
      "  sample_df.groupby(['CATEGORIA', 'PDM']).apply(split_group)\n"
     ]
    },
    {
     "data": {
      "text/html": [
       "<div>\n",
       "<style scoped>\n",
       "    .dataframe tbody tr th:only-of-type {\n",
       "        vertical-align: middle;\n",
       "    }\n",
       "\n",
       "    .dataframe tbody tr th {\n",
       "        vertical-align: top;\n",
       "    }\n",
       "\n",
       "    .dataframe thead th {\n",
       "        text-align: right;\n",
       "    }\n",
       "</style>\n",
       "<table border=\"1\" class=\"dataframe\">\n",
       "  <thead>\n",
       "    <tr style=\"text-align: right;\">\n",
       "      <th></th>\n",
       "      <th>ITEM</th>\n",
       "      <th>CATEGORIA</th>\n",
       "    </tr>\n",
       "  </thead>\n",
       "  <tbody>\n",
       "    <tr>\n",
       "      <th>0</th>\n",
       "      <td>227505 - ANEL FERROLHO, MATERIAL:AÇO, FUNÇÃO:V...</td>\n",
       "      <td>10 - ARMAMENTO; 1005 - ARMAS DE FOGO DE CALIBR...</td>\n",
       "    </tr>\n",
       "    <tr>\n",
       "      <th>1</th>\n",
       "      <td>227507 - EXTRATOR CÁPSULA, MATERIAL:AÇO CARBON...</td>\n",
       "      <td>10 - ARMAMENTO; 1005 - ARMAS DE FOGO DE CALIBR...</td>\n",
       "    </tr>\n",
       "    <tr>\n",
       "      <th>2</th>\n",
       "      <td>227487 - PINO SEGURANÇA MIRA, MATERIAL:AÇO CAR...</td>\n",
       "      <td>10 - ARMAMENTO; 1005 - ARMAS DE FOGO DE CALIBR...</td>\n",
       "    </tr>\n",
       "    <tr>\n",
       "      <th>3</th>\n",
       "      <td>230202 - MOLA RECUPERADORA, MATERIAL MOLA ESPI...</td>\n",
       "      <td>10 - ARMAMENTO; 1005 - ARMAS DE FOGO DE CALIBR...</td>\n",
       "    </tr>\n",
       "    <tr>\n",
       "      <th>4</th>\n",
       "      <td>359171 - BANDOLEIRA, MATERIAL:CADARÇO DE NYLON...</td>\n",
       "      <td>10 - ARMAMENTO; 1005 - ARMAS DE FOGO DE CALIBR...</td>\n",
       "    </tr>\n",
       "  </tbody>\n",
       "</table>\n",
       "</div>"
      ],
      "text/plain": [
       "                                                ITEM  \\\n",
       "0  227505 - ANEL FERROLHO, MATERIAL:AÇO, FUNÇÃO:V...   \n",
       "1  227507 - EXTRATOR CÁPSULA, MATERIAL:AÇO CARBON...   \n",
       "2  227487 - PINO SEGURANÇA MIRA, MATERIAL:AÇO CAR...   \n",
       "3  230202 - MOLA RECUPERADORA, MATERIAL MOLA ESPI...   \n",
       "4  359171 - BANDOLEIRA, MATERIAL:CADARÇO DE NYLON...   \n",
       "\n",
       "                                           CATEGORIA  \n",
       "0  10 - ARMAMENTO; 1005 - ARMAS DE FOGO DE CALIBR...  \n",
       "1  10 - ARMAMENTO; 1005 - ARMAS DE FOGO DE CALIBR...  \n",
       "2  10 - ARMAMENTO; 1005 - ARMAS DE FOGO DE CALIBR...  \n",
       "3  10 - ARMAMENTO; 1005 - ARMAS DE FOGO DE CALIBR...  \n",
       "4  10 - ARMAMENTO; 1005 - ARMAS DE FOGO DE CALIBR...  "
      ]
     },
     "metadata": {},
     "output_type": "display_data"
    },
    {
     "name": "stdout",
     "output_type": "stream",
     "text": [
      "\n",
      "Exemplos do conjunto de validação:\n"
     ]
    },
    {
     "data": {
      "text/html": [
       "<div>\n",
       "<style scoped>\n",
       "    .dataframe tbody tr th:only-of-type {\n",
       "        vertical-align: middle;\n",
       "    }\n",
       "\n",
       "    .dataframe tbody tr th {\n",
       "        vertical-align: top;\n",
       "    }\n",
       "\n",
       "    .dataframe thead th {\n",
       "        text-align: right;\n",
       "    }\n",
       "</style>\n",
       "<table border=\"1\" class=\"dataframe\">\n",
       "  <thead>\n",
       "    <tr style=\"text-align: right;\">\n",
       "      <th></th>\n",
       "      <th>ITEM</th>\n",
       "      <th>CATEGORIA</th>\n",
       "    </tr>\n",
       "  </thead>\n",
       "  <tbody>\n",
       "    <tr>\n",
       "      <th>0</th>\n",
       "      <td>227505 - ANEL FERROLHO, MATERIAL:AÇO, FUNÇÃO:V...</td>\n",
       "      <td>10 - ARMAMENTO; 1005 - ARMAS DE FOGO DE CALIBR...</td>\n",
       "    </tr>\n",
       "    <tr>\n",
       "      <th>1</th>\n",
       "      <td>227507 - EXTRATOR CÁPSULA, MATERIAL:AÇO CARBON...</td>\n",
       "      <td>10 - ARMAMENTO; 1005 - ARMAS DE FOGO DE CALIBR...</td>\n",
       "    </tr>\n",
       "    <tr>\n",
       "      <th>2</th>\n",
       "      <td>227487 - PINO SEGURANÇA MIRA, MATERIAL:AÇO CAR...</td>\n",
       "      <td>10 - ARMAMENTO; 1005 - ARMAS DE FOGO DE CALIBR...</td>\n",
       "    </tr>\n",
       "    <tr>\n",
       "      <th>3</th>\n",
       "      <td>230202 - MOLA RECUPERADORA, MATERIAL MOLA ESPI...</td>\n",
       "      <td>10 - ARMAMENTO; 1005 - ARMAS DE FOGO DE CALIBR...</td>\n",
       "    </tr>\n",
       "    <tr>\n",
       "      <th>4</th>\n",
       "      <td>376320 - BANDOLEIRA, MATERIAL:NÁILON, COR:VERD...</td>\n",
       "      <td>10 - ARMAMENTO; 1005 - ARMAS DE FOGO DE CALIBR...</td>\n",
       "    </tr>\n",
       "  </tbody>\n",
       "</table>\n",
       "</div>"
      ],
      "text/plain": [
       "                                                ITEM  \\\n",
       "0  227505 - ANEL FERROLHO, MATERIAL:AÇO, FUNÇÃO:V...   \n",
       "1  227507 - EXTRATOR CÁPSULA, MATERIAL:AÇO CARBON...   \n",
       "2  227487 - PINO SEGURANÇA MIRA, MATERIAL:AÇO CAR...   \n",
       "3  230202 - MOLA RECUPERADORA, MATERIAL MOLA ESPI...   \n",
       "4  376320 - BANDOLEIRA, MATERIAL:NÁILON, COR:VERD...   \n",
       "\n",
       "                                           CATEGORIA  \n",
       "0  10 - ARMAMENTO; 1005 - ARMAS DE FOGO DE CALIBR...  \n",
       "1  10 - ARMAMENTO; 1005 - ARMAS DE FOGO DE CALIBR...  \n",
       "2  10 - ARMAMENTO; 1005 - ARMAS DE FOGO DE CALIBR...  \n",
       "3  10 - ARMAMENTO; 1005 - ARMAS DE FOGO DE CALIBR...  \n",
       "4  10 - ARMAMENTO; 1005 - ARMAS DE FOGO DE CALIBR...  "
      ]
     },
     "metadata": {},
     "output_type": "display_data"
    },
    {
     "name": "stdout",
     "output_type": "stream",
     "text": [
      "\n",
      "Número de categorias em treinamento: 460\n",
      "Número de categorias em validação: 460\n"
     ]
    }
   ],
   "source": [
    "# Contar quantos itens existem para cada combinação CATEGORIA+PDM\n",
    "counts = sample_df.groupby(['CATEGORIA', 'PDM']).size()\n",
    "\n",
    "# Criar uma coluna que identifica se o grupo CATEGORIA+PDM tem apenas um item\n",
    "sample_df['single_item_group'] = sample_df.apply(\n",
    "    lambda x: counts[(x['CATEGORIA'], x['PDM'])] == 1, \n",
    "    axis=1\n",
    ")\n",
    "\n",
    "# Inicializar os dataframes de treinamento e validação\n",
    "training_df = pd.DataFrame(columns=['ITEM', 'CATEGORIA'])\n",
    "validation_df = pd.DataFrame(columns=['ITEM', 'CATEGORIA'])\n",
    "\n",
    "# Função para separar os itens em treinamento e validação\n",
    "def split_group(group):\n",
    "    global training_df, validation_df\n",
    "    \n",
    "    # Se o grupo tiver apenas um item\n",
    "    if group['single_item_group'].iloc[0]:\n",
    "        # Adicionar o item tanto em treinamento quanto em validação\n",
    "        item_data = pd.DataFrame({\n",
    "            'ITEM': [group['ITEM'].iloc[0]],\n",
    "            'CATEGORIA': [group['CATEGORIA'].iloc[0]]\n",
    "        })\n",
    "        training_df = pd.concat([training_df, item_data], ignore_index=True)\n",
    "        validation_df = pd.concat([validation_df, item_data], ignore_index=True)\n",
    "    else:\n",
    "        # Pegar 1 item para treinamento\n",
    "        training_item = group.iloc[[0]]\n",
    "        training_data = pd.DataFrame({\n",
    "            'ITEM': [training_item['ITEM'].iloc[0]],\n",
    "            'CATEGORIA': [training_item['CATEGORIA'].iloc[0]]\n",
    "        })\n",
    "        training_df = pd.concat([training_df, training_data], ignore_index=True)\n",
    "        \n",
    "        # Pegar o restante para validação\n",
    "        validation_items = group.iloc[1:]\n",
    "        validation_data = pd.DataFrame({\n",
    "            'ITEM': validation_items['ITEM'].tolist(),\n",
    "            'CATEGORIA': validation_items['CATEGORIA'].tolist()\n",
    "        })\n",
    "        validation_df = pd.concat([validation_df, validation_data], ignore_index=True)\n",
    "\n",
    "# Aplicar a divisão para cada grupo CATEGORIA+PDM\n",
    "sample_df.groupby(['CATEGORIA', 'PDM']).apply(split_group)\n",
    "\n",
    "# Exibir informações sobre os conjuntos\n",
    "print(f\"Conjunto de Treinamento: {training_df.shape[0]} itens\")\n",
    "print(f\"Conjunto de Validação: {validation_df.shape[0]} itens\")\n",
    "\n",
    "# Mostrar exemplos de ambos os conjuntos\n",
    "print(\"\\nExemplos do conjunto de treinamento:\")\n",
    "display(training_df.head())\n",
    "\n",
    "print(\"\\nExemplos do conjunto de validação:\")\n",
    "display(validation_df.head())\n",
    "\n",
    "# Verificar número de categorias em cada conjunto\n",
    "print(f\"\\nNúmero de categorias em treinamento: {training_df['CATEGORIA'].nunique()}\")\n",
    "print(f\"Número de categorias em validação: {validation_df['CATEGORIA'].nunique()}\")"
   ]
  },
  {
   "cell_type": "code",
   "execution_count": 12,
   "metadata": {},
   "outputs": [
    {
     "name": "stdout",
     "output_type": "stream",
     "text": [
      "Formato original:\n"
     ]
    },
    {
     "data": {
      "text/plain": [
       "0    227505 - ANEL FERROLHO, MATERIAL:AÇO, FUNÇÃO:V...\n",
       "1    227507 - EXTRATOR CÁPSULA, MATERIAL:AÇO CARBON...\n",
       "2    227487 - PINO SEGURANÇA MIRA, MATERIAL:AÇO CAR...\n",
       "3    230202 - MOLA RECUPERADORA, MATERIAL MOLA ESPI...\n",
       "4    359171 - BANDOLEIRA, MATERIAL:CADARÇO DE NYLON...\n",
       "Name: ITEM, dtype: object"
      ]
     },
     "metadata": {},
     "output_type": "display_data"
    },
    {
     "name": "stdout",
     "output_type": "stream",
     "text": [
      "\n",
      "Formato modificado (sem códigos):\n"
     ]
    },
    {
     "data": {
      "text/plain": [
       "0    ANEL FERROLHO, MATERIAL:AÇO, FUNÇÃO:VEDAR GASE...\n",
       "1    EXTRATOR CÁPSULA, MATERIAL:AÇO CARBONO, TIPO:G...\n",
       "2    PINO SEGURANÇA MIRA, MATERIAL:AÇO CARBONO, FUN...\n",
       "3    MOLA RECUPERADORA, MATERIAL MOLA ESPIRAL:AÇO F...\n",
       "4    BANDOLEIRA, MATERIAL:CADARÇO DE NYLON, APLICAÇ...\n",
       "Name: ITEM, dtype: object"
      ]
     },
     "metadata": {},
     "output_type": "display_data"
    },
    {
     "name": "stdout",
     "output_type": "stream",
     "text": [
      "\n",
      "Exemplos do conjunto de treinamento após modificação:\n"
     ]
    },
    {
     "data": {
      "text/html": [
       "<div>\n",
       "<style scoped>\n",
       "    .dataframe tbody tr th:only-of-type {\n",
       "        vertical-align: middle;\n",
       "    }\n",
       "\n",
       "    .dataframe tbody tr th {\n",
       "        vertical-align: top;\n",
       "    }\n",
       "\n",
       "    .dataframe thead th {\n",
       "        text-align: right;\n",
       "    }\n",
       "</style>\n",
       "<table border=\"1\" class=\"dataframe\">\n",
       "  <thead>\n",
       "    <tr style=\"text-align: right;\">\n",
       "      <th></th>\n",
       "      <th>ITEM</th>\n",
       "      <th>CATEGORIA</th>\n",
       "    </tr>\n",
       "  </thead>\n",
       "  <tbody>\n",
       "    <tr>\n",
       "      <th>0</th>\n",
       "      <td>ANEL FERROLHO, MATERIAL:AÇO, FUNÇÃO:VEDAR GASE...</td>\n",
       "      <td>10 - ARMAMENTO; 1005 - ARMAS DE FOGO DE CALIBR...</td>\n",
       "    </tr>\n",
       "    <tr>\n",
       "      <th>1</th>\n",
       "      <td>EXTRATOR CÁPSULA, MATERIAL:AÇO CARBONO, TIPO:G...</td>\n",
       "      <td>10 - ARMAMENTO; 1005 - ARMAS DE FOGO DE CALIBR...</td>\n",
       "    </tr>\n",
       "    <tr>\n",
       "      <th>2</th>\n",
       "      <td>PINO SEGURANÇA MIRA, MATERIAL:AÇO CARBONO, FUN...</td>\n",
       "      <td>10 - ARMAMENTO; 1005 - ARMAS DE FOGO DE CALIBR...</td>\n",
       "    </tr>\n",
       "    <tr>\n",
       "      <th>3</th>\n",
       "      <td>MOLA RECUPERADORA, MATERIAL MOLA ESPIRAL:AÇO F...</td>\n",
       "      <td>10 - ARMAMENTO; 1005 - ARMAS DE FOGO DE CALIBR...</td>\n",
       "    </tr>\n",
       "    <tr>\n",
       "      <th>4</th>\n",
       "      <td>BANDOLEIRA, MATERIAL:CADARÇO DE NYLON, APLICAÇ...</td>\n",
       "      <td>10 - ARMAMENTO; 1005 - ARMAS DE FOGO DE CALIBR...</td>\n",
       "    </tr>\n",
       "  </tbody>\n",
       "</table>\n",
       "</div>"
      ],
      "text/plain": [
       "                                                ITEM  \\\n",
       "0  ANEL FERROLHO, MATERIAL:AÇO, FUNÇÃO:VEDAR GASE...   \n",
       "1  EXTRATOR CÁPSULA, MATERIAL:AÇO CARBONO, TIPO:G...   \n",
       "2  PINO SEGURANÇA MIRA, MATERIAL:AÇO CARBONO, FUN...   \n",
       "3  MOLA RECUPERADORA, MATERIAL MOLA ESPIRAL:AÇO F...   \n",
       "4  BANDOLEIRA, MATERIAL:CADARÇO DE NYLON, APLICAÇ...   \n",
       "\n",
       "                                           CATEGORIA  \n",
       "0  10 - ARMAMENTO; 1005 - ARMAS DE FOGO DE CALIBR...  \n",
       "1  10 - ARMAMENTO; 1005 - ARMAS DE FOGO DE CALIBR...  \n",
       "2  10 - ARMAMENTO; 1005 - ARMAS DE FOGO DE CALIBR...  \n",
       "3  10 - ARMAMENTO; 1005 - ARMAS DE FOGO DE CALIBR...  \n",
       "4  10 - ARMAMENTO; 1005 - ARMAS DE FOGO DE CALIBR...  "
      ]
     },
     "metadata": {},
     "output_type": "display_data"
    },
    {
     "name": "stdout",
     "output_type": "stream",
     "text": [
      "\n",
      "Exemplos do conjunto de validação após modificação:\n"
     ]
    },
    {
     "data": {
      "text/html": [
       "<div>\n",
       "<style scoped>\n",
       "    .dataframe tbody tr th:only-of-type {\n",
       "        vertical-align: middle;\n",
       "    }\n",
       "\n",
       "    .dataframe tbody tr th {\n",
       "        vertical-align: top;\n",
       "    }\n",
       "\n",
       "    .dataframe thead th {\n",
       "        text-align: right;\n",
       "    }\n",
       "</style>\n",
       "<table border=\"1\" class=\"dataframe\">\n",
       "  <thead>\n",
       "    <tr style=\"text-align: right;\">\n",
       "      <th></th>\n",
       "      <th>ITEM</th>\n",
       "      <th>CATEGORIA</th>\n",
       "    </tr>\n",
       "  </thead>\n",
       "  <tbody>\n",
       "    <tr>\n",
       "      <th>0</th>\n",
       "      <td>ANEL FERROLHO, MATERIAL:AÇO, FUNÇÃO:VEDAR GASE...</td>\n",
       "      <td>10 - ARMAMENTO; 1005 - ARMAS DE FOGO DE CALIBR...</td>\n",
       "    </tr>\n",
       "    <tr>\n",
       "      <th>1</th>\n",
       "      <td>EXTRATOR CÁPSULA, MATERIAL:AÇO CARBONO, TIPO:G...</td>\n",
       "      <td>10 - ARMAMENTO; 1005 - ARMAS DE FOGO DE CALIBR...</td>\n",
       "    </tr>\n",
       "    <tr>\n",
       "      <th>2</th>\n",
       "      <td>PINO SEGURANÇA MIRA, MATERIAL:AÇO CARBONO, FUN...</td>\n",
       "      <td>10 - ARMAMENTO; 1005 - ARMAS DE FOGO DE CALIBR...</td>\n",
       "    </tr>\n",
       "    <tr>\n",
       "      <th>3</th>\n",
       "      <td>MOLA RECUPERADORA, MATERIAL MOLA ESPIRAL:AÇO F...</td>\n",
       "      <td>10 - ARMAMENTO; 1005 - ARMAS DE FOGO DE CALIBR...</td>\n",
       "    </tr>\n",
       "    <tr>\n",
       "      <th>4</th>\n",
       "      <td>BANDOLEIRA, MATERIAL:NÁILON, COR:VERDE-OLIVA, ...</td>\n",
       "      <td>10 - ARMAMENTO; 1005 - ARMAS DE FOGO DE CALIBR...</td>\n",
       "    </tr>\n",
       "  </tbody>\n",
       "</table>\n",
       "</div>"
      ],
      "text/plain": [
       "                                                ITEM  \\\n",
       "0  ANEL FERROLHO, MATERIAL:AÇO, FUNÇÃO:VEDAR GASE...   \n",
       "1  EXTRATOR CÁPSULA, MATERIAL:AÇO CARBONO, TIPO:G...   \n",
       "2  PINO SEGURANÇA MIRA, MATERIAL:AÇO CARBONO, FUN...   \n",
       "3  MOLA RECUPERADORA, MATERIAL MOLA ESPIRAL:AÇO F...   \n",
       "4  BANDOLEIRA, MATERIAL:NÁILON, COR:VERDE-OLIVA, ...   \n",
       "\n",
       "                                           CATEGORIA  \n",
       "0  10 - ARMAMENTO; 1005 - ARMAS DE FOGO DE CALIBR...  \n",
       "1  10 - ARMAMENTO; 1005 - ARMAS DE FOGO DE CALIBR...  \n",
       "2  10 - ARMAMENTO; 1005 - ARMAS DE FOGO DE CALIBR...  \n",
       "3  10 - ARMAMENTO; 1005 - ARMAS DE FOGO DE CALIBR...  \n",
       "4  10 - ARMAMENTO; 1005 - ARMAS DE FOGO DE CALIBR...  "
      ]
     },
     "metadata": {},
     "output_type": "display_data"
    },
    {
     "name": "stdout",
     "output_type": "stream",
     "text": [
      "\n",
      "Conjunto de Treinamento: 10260 itens\n",
      "Conjunto de Validação: 25399 itens\n"
     ]
    }
   ],
   "source": [
    "# Verificar o formato atual antes da modificação\n",
    "print(\"Formato original:\")\n",
    "display(training_df['ITEM'].head())\n",
    "\n",
    "# Função para extrair apenas a descrição do item (parte após o \" - \")\n",
    "def extrair_descricao(item_string):\n",
    "    if \" - \" in item_string:\n",
    "        return item_string.split(\" - \", 1)[1]  # Pega a parte após o primeiro \" - \"\n",
    "    return item_string  # Caso não tenha o separador, retorna o texto original\n",
    "\n",
    "# Aplicar a função aos DataFrames de treinamento e validação\n",
    "training_df['ITEM'] = training_df['ITEM'].apply(extrair_descricao)\n",
    "validation_df['ITEM'] = validation_df['ITEM'].apply(extrair_descricao)\n",
    "\n",
    "# Verificar o resultado após a modificação\n",
    "print(\"\\nFormato modificado (sem códigos):\")\n",
    "display(training_df['ITEM'].head())\n",
    "\n",
    "# Mostrar exemplos de ambos os conjuntos após a modificação\n",
    "print(\"\\nExemplos do conjunto de treinamento após modificação:\")\n",
    "display(training_df.head())\n",
    "\n",
    "print(\"\\nExemplos do conjunto de validação após modificação:\")\n",
    "display(validation_df.head())\n",
    "\n",
    "# Verificar as dimensões finais\n",
    "print(f\"\\nConjunto de Treinamento: {training_df.shape[0]} itens\")\n",
    "print(f\"Conjunto de Validação: {validation_df.shape[0]} itens\")"
   ]
  },
  {
   "cell_type": "code",
   "execution_count": 16,
   "metadata": {},
   "outputs": [
    {
     "name": "stdout",
     "output_type": "stream",
     "text": [
      "Formato original das categorias:\n"
     ]
    },
    {
     "data": {
      "text/plain": [
       "0    10 - ARMAMENTO; 1005 - ARMAS DE FOGO DE CALIBR...\n",
       "1    10 - ARMAMENTO; 1005 - ARMAS DE FOGO DE CALIBR...\n",
       "2    10 - ARMAMENTO; 1005 - ARMAS DE FOGO DE CALIBR...\n",
       "3    10 - ARMAMENTO; 1005 - ARMAS DE FOGO DE CALIBR...\n",
       "4    10 - ARMAMENTO; 1005 - ARMAS DE FOGO DE CALIBR...\n",
       "Name: CATEGORIA, dtype: object"
      ]
     },
     "metadata": {},
     "output_type": "display_data"
    },
    {
     "name": "stdout",
     "output_type": "stream",
     "text": [
      "\n",
      "Formato modificado (com prefixo MATERIAL):\n"
     ]
    },
    {
     "data": {
      "text/plain": [
       "0    MATERIAL; 10 - ARMAMENTO; 1005 - ARMAS DE FOGO...\n",
       "1    MATERIAL; 10 - ARMAMENTO; 1005 - ARMAS DE FOGO...\n",
       "2    MATERIAL; 10 - ARMAMENTO; 1005 - ARMAS DE FOGO...\n",
       "3    MATERIAL; 10 - ARMAMENTO; 1005 - ARMAS DE FOGO...\n",
       "4    MATERIAL; 10 - ARMAMENTO; 1005 - ARMAS DE FOGO...\n",
       "Name: CATEGORIA, dtype: object"
      ]
     },
     "metadata": {},
     "output_type": "display_data"
    },
    {
     "name": "stdout",
     "output_type": "stream",
     "text": [
      "\n",
      "Exemplos do conjunto de treinamento após modificação:\n"
     ]
    },
    {
     "data": {
      "text/html": [
       "<div>\n",
       "<style scoped>\n",
       "    .dataframe tbody tr th:only-of-type {\n",
       "        vertical-align: middle;\n",
       "    }\n",
       "\n",
       "    .dataframe tbody tr th {\n",
       "        vertical-align: top;\n",
       "    }\n",
       "\n",
       "    .dataframe thead th {\n",
       "        text-align: right;\n",
       "    }\n",
       "</style>\n",
       "<table border=\"1\" class=\"dataframe\">\n",
       "  <thead>\n",
       "    <tr style=\"text-align: right;\">\n",
       "      <th></th>\n",
       "      <th>ITEM</th>\n",
       "      <th>CATEGORIA</th>\n",
       "    </tr>\n",
       "  </thead>\n",
       "  <tbody>\n",
       "    <tr>\n",
       "      <th>0</th>\n",
       "      <td>ANEL FERROLHO, MATERIAL:AÇO, FUNÇÃO:VEDAR GASE...</td>\n",
       "      <td>MATERIAL; 10 - ARMAMENTO; 1005 - ARMAS DE FOGO...</td>\n",
       "    </tr>\n",
       "    <tr>\n",
       "      <th>1</th>\n",
       "      <td>EXTRATOR CÁPSULA, MATERIAL:AÇO CARBONO, TIPO:G...</td>\n",
       "      <td>MATERIAL; 10 - ARMAMENTO; 1005 - ARMAS DE FOGO...</td>\n",
       "    </tr>\n",
       "    <tr>\n",
       "      <th>2</th>\n",
       "      <td>PINO SEGURANÇA MIRA, MATERIAL:AÇO CARBONO, FUN...</td>\n",
       "      <td>MATERIAL; 10 - ARMAMENTO; 1005 - ARMAS DE FOGO...</td>\n",
       "    </tr>\n",
       "    <tr>\n",
       "      <th>3</th>\n",
       "      <td>MOLA RECUPERADORA, MATERIAL MOLA ESPIRAL:AÇO F...</td>\n",
       "      <td>MATERIAL; 10 - ARMAMENTO; 1005 - ARMAS DE FOGO...</td>\n",
       "    </tr>\n",
       "    <tr>\n",
       "      <th>4</th>\n",
       "      <td>BANDOLEIRA, MATERIAL:CADARÇO DE NYLON, APLICAÇ...</td>\n",
       "      <td>MATERIAL; 10 - ARMAMENTO; 1005 - ARMAS DE FOGO...</td>\n",
       "    </tr>\n",
       "  </tbody>\n",
       "</table>\n",
       "</div>"
      ],
      "text/plain": [
       "                                                ITEM  \\\n",
       "0  ANEL FERROLHO, MATERIAL:AÇO, FUNÇÃO:VEDAR GASE...   \n",
       "1  EXTRATOR CÁPSULA, MATERIAL:AÇO CARBONO, TIPO:G...   \n",
       "2  PINO SEGURANÇA MIRA, MATERIAL:AÇO CARBONO, FUN...   \n",
       "3  MOLA RECUPERADORA, MATERIAL MOLA ESPIRAL:AÇO F...   \n",
       "4  BANDOLEIRA, MATERIAL:CADARÇO DE NYLON, APLICAÇ...   \n",
       "\n",
       "                                           CATEGORIA  \n",
       "0  MATERIAL; 10 - ARMAMENTO; 1005 - ARMAS DE FOGO...  \n",
       "1  MATERIAL; 10 - ARMAMENTO; 1005 - ARMAS DE FOGO...  \n",
       "2  MATERIAL; 10 - ARMAMENTO; 1005 - ARMAS DE FOGO...  \n",
       "3  MATERIAL; 10 - ARMAMENTO; 1005 - ARMAS DE FOGO...  \n",
       "4  MATERIAL; 10 - ARMAMENTO; 1005 - ARMAS DE FOGO...  "
      ]
     },
     "metadata": {},
     "output_type": "display_data"
    },
    {
     "name": "stdout",
     "output_type": "stream",
     "text": [
      "\n",
      "Exemplos do conjunto de validação após modificação:\n"
     ]
    },
    {
     "data": {
      "text/html": [
       "<div>\n",
       "<style scoped>\n",
       "    .dataframe tbody tr th:only-of-type {\n",
       "        vertical-align: middle;\n",
       "    }\n",
       "\n",
       "    .dataframe tbody tr th {\n",
       "        vertical-align: top;\n",
       "    }\n",
       "\n",
       "    .dataframe thead th {\n",
       "        text-align: right;\n",
       "    }\n",
       "</style>\n",
       "<table border=\"1\" class=\"dataframe\">\n",
       "  <thead>\n",
       "    <tr style=\"text-align: right;\">\n",
       "      <th></th>\n",
       "      <th>ITEM</th>\n",
       "      <th>CATEGORIA</th>\n",
       "    </tr>\n",
       "  </thead>\n",
       "  <tbody>\n",
       "    <tr>\n",
       "      <th>0</th>\n",
       "      <td>ANEL FERROLHO, MATERIAL:AÇO, FUNÇÃO:VEDAR GASE...</td>\n",
       "      <td>MATERIAL; 10 - ARMAMENTO; 1005 - ARMAS DE FOGO...</td>\n",
       "    </tr>\n",
       "    <tr>\n",
       "      <th>1</th>\n",
       "      <td>EXTRATOR CÁPSULA, MATERIAL:AÇO CARBONO, TIPO:G...</td>\n",
       "      <td>MATERIAL; 10 - ARMAMENTO; 1005 - ARMAS DE FOGO...</td>\n",
       "    </tr>\n",
       "    <tr>\n",
       "      <th>2</th>\n",
       "      <td>PINO SEGURANÇA MIRA, MATERIAL:AÇO CARBONO, FUN...</td>\n",
       "      <td>MATERIAL; 10 - ARMAMENTO; 1005 - ARMAS DE FOGO...</td>\n",
       "    </tr>\n",
       "    <tr>\n",
       "      <th>3</th>\n",
       "      <td>MOLA RECUPERADORA, MATERIAL MOLA ESPIRAL:AÇO F...</td>\n",
       "      <td>MATERIAL; 10 - ARMAMENTO; 1005 - ARMAS DE FOGO...</td>\n",
       "    </tr>\n",
       "    <tr>\n",
       "      <th>4</th>\n",
       "      <td>BANDOLEIRA, MATERIAL:NÁILON, COR:VERDE-OLIVA, ...</td>\n",
       "      <td>MATERIAL; 10 - ARMAMENTO; 1005 - ARMAS DE FOGO...</td>\n",
       "    </tr>\n",
       "  </tbody>\n",
       "</table>\n",
       "</div>"
      ],
      "text/plain": [
       "                                                ITEM  \\\n",
       "0  ANEL FERROLHO, MATERIAL:AÇO, FUNÇÃO:VEDAR GASE...   \n",
       "1  EXTRATOR CÁPSULA, MATERIAL:AÇO CARBONO, TIPO:G...   \n",
       "2  PINO SEGURANÇA MIRA, MATERIAL:AÇO CARBONO, FUN...   \n",
       "3  MOLA RECUPERADORA, MATERIAL MOLA ESPIRAL:AÇO F...   \n",
       "4  BANDOLEIRA, MATERIAL:NÁILON, COR:VERDE-OLIVA, ...   \n",
       "\n",
       "                                           CATEGORIA  \n",
       "0  MATERIAL; 10 - ARMAMENTO; 1005 - ARMAS DE FOGO...  \n",
       "1  MATERIAL; 10 - ARMAMENTO; 1005 - ARMAS DE FOGO...  \n",
       "2  MATERIAL; 10 - ARMAMENTO; 1005 - ARMAS DE FOGO...  \n",
       "3  MATERIAL; 10 - ARMAMENTO; 1005 - ARMAS DE FOGO...  \n",
       "4  MATERIAL; 10 - ARMAMENTO; 1005 - ARMAS DE FOGO...  "
      ]
     },
     "metadata": {},
     "output_type": "display_data"
    },
    {
     "name": "stdout",
     "output_type": "stream",
     "text": [
      "\n",
      "Conjunto de Treinamento: 10260 itens\n",
      "Conjunto de Validação: 25399 itens\n"
     ]
    }
   ],
   "source": [
    "# Exibir alguns exemplos antes da modificação\n",
    "print(\"Formato original das categorias:\")\n",
    "display(training_df['CATEGORIA'].head())\n",
    "\n",
    "# Adicionar a palavra \"MATERIAL\" no início de cada categoria\n",
    "training_df['CATEGORIA'] = \"MATERIAL; \" + training_df['CATEGORIA']\n",
    "validation_df['CATEGORIA'] = \"MATERIAL; \" + validation_df['CATEGORIA']\n",
    "\n",
    "# Verificar o resultado após a modificação\n",
    "print(\"\\nFormato modificado (com prefixo MATERIAL):\")\n",
    "display(training_df['CATEGORIA'].head())\n",
    "\n",
    "# Mostrar exemplos de ambos os conjuntos após a modificação\n",
    "print(\"\\nExemplos do conjunto de treinamento após modificação:\")\n",
    "display(training_df.head())\n",
    "\n",
    "print(\"\\nExemplos do conjunto de validação após modificação:\")\n",
    "display(validation_df.head())\n",
    "\n",
    "# Verificar as dimensões finais (não devem mudar)\n",
    "print(f\"\\nConjunto de Treinamento: {training_df.shape[0]} itens\")\n",
    "print(f\"Conjunto de Validação: {validation_df.shape[0]} itens\")"
   ]
  },
  {
   "cell_type": "code",
   "execution_count": 17,
   "metadata": {},
   "outputs": [
    {
     "name": "stdout",
     "output_type": "stream",
     "text": [
      "Datasets salvos em: C:\\Users\\Haroldo Duraes\\Desktop\\GOvGO\\v0\\#DATA\\PNCP\\CAT\\catmat_datasets.xlsx\n",
      "Abas salvas:\n",
      "- training: conjunto de treinamento com prefixo MATERIAL\n",
      "- validation: conjunto de validação com prefixo MATERIAL\n",
      "- sample: dataset reduzido por amostragem\n"
     ]
    }
   ],
   "source": [
    "# Definir o caminho para salvar o arquivo Excel\n",
    "OUT_FILE = CAT_PATH + \"catmat_datasets.xlsx\"\n",
    "\n",
    "# Criar um ExcelWriter para salvar múltiplas abas em um único arquivo Excel\n",
    "with pd.ExcelWriter(OUT_FILE) as writer:\n",
    "    # Salvar cada DataFrame em uma aba separada\n",
    "    training_df.to_excel(writer, sheet_name=\"training\", index=False)\n",
    "    validation_df.to_excel(writer, sheet_name=\"validation\", index=False)\n",
    "    sample_df.to_excel(writer, sheet_name=\"sample\", index=False)\n",
    "    \n",
    "\n",
    "\n",
    "print(f\"Datasets salvos em: {OUT_FILE}\")\n",
    "print(\"Abas salvas:\")\n",
    "print(\"- training: conjunto de treinamento com prefixo MATERIAL\")\n",
    "print(\"- validation: conjunto de validação com prefixo MATERIAL\")\n",
    "print(\"- sample: dataset reduzido por amostragem\")"
   ]
  }
 ],
 "metadata": {
  "kernelspec": {
   "display_name": "base",
   "language": "python",
   "name": "python3"
  },
  "language_info": {
   "codemirror_mode": {
    "name": "ipython",
    "version": 3
   },
   "file_extension": ".py",
   "mimetype": "text/x-python",
   "name": "python",
   "nbconvert_exporter": "python",
   "pygments_lexer": "ipython3",
   "version": "3.12.4"
  }
 },
 "nbformat": 4,
 "nbformat_minor": 2
}
