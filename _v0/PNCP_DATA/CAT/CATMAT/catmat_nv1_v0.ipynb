{
 "cells": [
  {
   "cell_type": "code",
   "execution_count": 2,
   "metadata": {},
   "outputs": [
    {
     "data": {
      "text/html": [
       "<pre style=\"white-space:pre;overflow-x:auto;line-height:normal;font-family:Menlo,'DejaVu Sans Mono',consolas,'Courier New',monospace\"><span style=\"color: #000080; text-decoration-color: #000080; font-weight: bold\">Carregando dados CATMAT...</span>\n",
       "</pre>\n"
      ],
      "text/plain": [
       "\u001b[1;34mCarregando dados CATMAT\u001b[0m\u001b[1;34m...\u001b[0m\n"
      ]
     },
     "metadata": {},
     "output_type": "display_data"
    },
    {
     "data": {
      "text/html": [
       "<pre style=\"white-space:pre;overflow-x:auto;line-height:normal;font-family:Menlo,'DejaVu Sans Mono',consolas,'Courier New',monospace\"><span style=\"color: #008000; text-decoration-color: #008000\">DataFrame carregado: </span><span style=\"color: #008000; text-decoration-color: #008000; font-weight: bold\">157853</span><span style=\"color: #008000; text-decoration-color: #008000\"> linhas, </span><span style=\"color: #008000; text-decoration-color: #008000; font-weight: bold\">9</span><span style=\"color: #008000; text-decoration-color: #008000\"> colunas</span>\n",
       "</pre>\n"
      ],
      "text/plain": [
       "\u001b[32mDataFrame carregado: \u001b[0m\u001b[1;32m157853\u001b[0m\u001b[32m linhas, \u001b[0m\u001b[1;32m9\u001b[0m\u001b[32m colunas\u001b[0m\n"
      ]
     },
     "metadata": {},
     "output_type": "display_data"
    },
    {
     "data": {
      "text/html": [
       "<pre style=\"white-space:pre;overflow-x:auto;line-height:normal;font-family:Menlo,'DejaVu Sans Mono',consolas,'Courier New',monospace\">Primeiras linhas:\n",
       "</pre>\n"
      ],
      "text/plain": [
       "Primeiras linhas:\n"
      ]
     },
     "metadata": {},
     "output_type": "display_data"
    },
    {
     "data": {
      "text/html": [
       "<div>\n",
       "<style scoped>\n",
       "    .dataframe tbody tr th:only-of-type {\n",
       "        vertical-align: middle;\n",
       "    }\n",
       "\n",
       "    .dataframe tbody tr th {\n",
       "        vertical-align: top;\n",
       "    }\n",
       "\n",
       "    .dataframe thead th {\n",
       "        text-align: right;\n",
       "    }\n",
       "</style>\n",
       "<table border=\"1\" class=\"dataframe\">\n",
       "  <thead>\n",
       "    <tr style=\"text-align: right;\">\n",
       "      <th></th>\n",
       "      <th>Código do Grupo</th>\n",
       "      <th>Nome do Grupo</th>\n",
       "      <th>Código da Classe</th>\n",
       "      <th>Nome da Classe</th>\n",
       "      <th>Código do PDM</th>\n",
       "      <th>Nome do PDM</th>\n",
       "      <th>Código do Item</th>\n",
       "      <th>Descrição do Item</th>\n",
       "      <th>Código NCM</th>\n",
       "    </tr>\n",
       "  </thead>\n",
       "  <tbody>\n",
       "    <tr>\n",
       "      <th>0</th>\n",
       "      <td>10</td>\n",
       "      <td>ARMAMENTO</td>\n",
       "      <td>1005</td>\n",
       "      <td>ARMAS DE FOGO DE CALIBRE ATÉ 120MM</td>\n",
       "      <td>1712</td>\n",
       "      <td>PEÇAS / ACESSÓRIOS ARMAMENTO</td>\n",
       "      <td>446820</td>\n",
       "      <td>PEÇAS / ACESSÓRIOS ARMAMENTO, MATERIAL:AÇO, TI...</td>\n",
       "      <td>-</td>\n",
       "    </tr>\n",
       "    <tr>\n",
       "      <th>1</th>\n",
       "      <td>10</td>\n",
       "      <td>ARMAMENTO</td>\n",
       "      <td>1005</td>\n",
       "      <td>ARMAS DE FOGO DE CALIBRE ATÉ 120MM</td>\n",
       "      <td>1712</td>\n",
       "      <td>PEÇAS / ACESSÓRIOS ARMAMENTO</td>\n",
       "      <td>446821</td>\n",
       "      <td>PEÇAS / ACESSÓRIOS ARMAMENTO, MATERIAL:AÇO, TI...</td>\n",
       "      <td>-</td>\n",
       "    </tr>\n",
       "    <tr>\n",
       "      <th>2</th>\n",
       "      <td>10</td>\n",
       "      <td>ARMAMENTO</td>\n",
       "      <td>1005</td>\n",
       "      <td>ARMAS DE FOGO DE CALIBRE ATÉ 120MM</td>\n",
       "      <td>1712</td>\n",
       "      <td>PEÇAS / ACESSÓRIOS ARMAMENTO</td>\n",
       "      <td>446823</td>\n",
       "      <td>PEÇAS / ACESSÓRIOS ARMAMENTO, MATERIAL:AÇO, TI...</td>\n",
       "      <td>-</td>\n",
       "    </tr>\n",
       "    <tr>\n",
       "      <th>3</th>\n",
       "      <td>10</td>\n",
       "      <td>ARMAMENTO</td>\n",
       "      <td>1005</td>\n",
       "      <td>ARMAS DE FOGO DE CALIBRE ATÉ 120MM</td>\n",
       "      <td>1712</td>\n",
       "      <td>PEÇAS / ACESSÓRIOS ARMAMENTO</td>\n",
       "      <td>446840</td>\n",
       "      <td>PEÇAS / ACESSÓRIOS ARMAMENTO, MATERIAL:AÇO, TI...</td>\n",
       "      <td>-</td>\n",
       "    </tr>\n",
       "    <tr>\n",
       "      <th>4</th>\n",
       "      <td>10</td>\n",
       "      <td>ARMAMENTO</td>\n",
       "      <td>1005</td>\n",
       "      <td>ARMAS DE FOGO DE CALIBRE ATÉ 120MM</td>\n",
       "      <td>1712</td>\n",
       "      <td>PEÇAS / ACESSÓRIOS ARMAMENTO</td>\n",
       "      <td>446842</td>\n",
       "      <td>PEÇAS / ACESSÓRIOS ARMAMENTO, MATERIAL:AÇO, TI...</td>\n",
       "      <td>-</td>\n",
       "    </tr>\n",
       "  </tbody>\n",
       "</table>\n",
       "</div>"
      ],
      "text/plain": [
       "   Código do Grupo Nome do Grupo  Código da Classe  \\\n",
       "0               10     ARMAMENTO              1005   \n",
       "1               10     ARMAMENTO              1005   \n",
       "2               10     ARMAMENTO              1005   \n",
       "3               10     ARMAMENTO              1005   \n",
       "4               10     ARMAMENTO              1005   \n",
       "\n",
       "                       Nome da Classe  Código do PDM  \\\n",
       "0  ARMAS DE FOGO DE CALIBRE ATÉ 120MM           1712   \n",
       "1  ARMAS DE FOGO DE CALIBRE ATÉ 120MM           1712   \n",
       "2  ARMAS DE FOGO DE CALIBRE ATÉ 120MM           1712   \n",
       "3  ARMAS DE FOGO DE CALIBRE ATÉ 120MM           1712   \n",
       "4  ARMAS DE FOGO DE CALIBRE ATÉ 120MM           1712   \n",
       "\n",
       "                    Nome do PDM  Código do Item  \\\n",
       "0  PEÇAS / ACESSÓRIOS ARMAMENTO          446820   \n",
       "1  PEÇAS / ACESSÓRIOS ARMAMENTO          446821   \n",
       "2  PEÇAS / ACESSÓRIOS ARMAMENTO          446823   \n",
       "3  PEÇAS / ACESSÓRIOS ARMAMENTO          446840   \n",
       "4  PEÇAS / ACESSÓRIOS ARMAMENTO          446842   \n",
       "\n",
       "                                   Descrição do Item Código NCM  \n",
       "0  PEÇAS / ACESSÓRIOS ARMAMENTO, MATERIAL:AÇO, TI...          -  \n",
       "1  PEÇAS / ACESSÓRIOS ARMAMENTO, MATERIAL:AÇO, TI...          -  \n",
       "2  PEÇAS / ACESSÓRIOS ARMAMENTO, MATERIAL:AÇO, TI...          -  \n",
       "3  PEÇAS / ACESSÓRIOS ARMAMENTO, MATERIAL:AÇO, TI...          -  \n",
       "4  PEÇAS / ACESSÓRIOS ARMAMENTO, MATERIAL:AÇO, TI...          -  "
      ]
     },
     "metadata": {},
     "output_type": "display_data"
    }
   ],
   "source": [
    "import pandas as pd\n",
    "import numpy as np\n",
    "from rich.console import Console\n",
    "from rich.progress import track\n",
    "import os\n",
    "\n",
    "BASE_PATH = \"C:\\\\Users\\\\Haroldo Duraes\\\\Desktop\\\\GOvGO\\\\v0\\\\#DATA\\\\PNCP\\\\\"\n",
    "CAT_PATH = BASE_PATH + \"CAT\\\\\"\n",
    "FILE = CAT_PATH + \"Lista CATMAT.xlsx\"\n",
    "ABA = \"Materiais\"\n",
    "\n",
    "# Configurar o console rich para uma melhor visualização\n",
    "console = Console()\n",
    "\n",
    "# Carregar os dados\n",
    "console.print(\"[bold yellow]Carregando dados CATMAT...[/bold yellow]\")\n",
    "df = pd.read_excel(FILE, sheet_name=ABA)\n",
    "\n",
    "# Verificar as dimensões e colunas\n",
    "console.print(f\"[green]DataFrame carregado: {df.shape[0]} linhas, {df.shape[1]} colunas[/green]\")\n",
    "console.print(\"Primeiras linhas:\")\n",
    "display(df.head())"
   ]
  },
  {
   "cell_type": "code",
   "execution_count": 3,
   "metadata": {},
   "outputs": [
    {
     "data": {
      "text/html": [
       "<pre style=\"white-space:pre;overflow-x:auto;line-height:normal;font-family:Menlo,'DejaVu Sans Mono',consolas,'Courier New',monospace\">\n",
       "<span style=\"color: #808000; text-decoration-color: #808000; font-weight: bold\">Criando DataFrame simplificado...</span>\n",
       "</pre>\n"
      ],
      "text/plain": [
       "\n",
       "\u001b[1;33mCriando DataFrame simplificado\u001b[0m\u001b[1;33m...\u001b[0m\n"
      ]
     },
     "metadata": {},
     "output_type": "display_data"
    },
    {
     "data": {
      "text/html": [
       "<pre style=\"white-space:pre;overflow-x:auto;line-height:normal;font-family:Menlo,'DejaVu Sans Mono',consolas,'Courier New',monospace\"><span style=\"color: #008000; text-decoration-color: #008000\">DataFrame simplificado criado</span>\n",
       "</pre>\n"
      ],
      "text/plain": [
       "\u001b[32mDataFrame simplificado criado\u001b[0m\n"
      ]
     },
     "metadata": {},
     "output_type": "display_data"
    },
    {
     "data": {
      "text/html": [
       "<pre style=\"white-space:pre;overflow-x:auto;line-height:normal;font-family:Menlo,'DejaVu Sans Mono',consolas,'Courier New',monospace\">Exemplo de dados:\n",
       "</pre>\n"
      ],
      "text/plain": [
       "Exemplo de dados:\n"
      ]
     },
     "metadata": {},
     "output_type": "display_data"
    },
    {
     "data": {
      "text/html": [
       "<div>\n",
       "<style scoped>\n",
       "    .dataframe tbody tr th:only-of-type {\n",
       "        vertical-align: middle;\n",
       "    }\n",
       "\n",
       "    .dataframe tbody tr th {\n",
       "        vertical-align: top;\n",
       "    }\n",
       "\n",
       "    .dataframe thead th {\n",
       "        text-align: right;\n",
       "    }\n",
       "</style>\n",
       "<table border=\"1\" class=\"dataframe\">\n",
       "  <thead>\n",
       "    <tr style=\"text-align: right;\">\n",
       "      <th></th>\n",
       "      <th>ITEM</th>\n",
       "      <th>GRUPO</th>\n",
       "    </tr>\n",
       "  </thead>\n",
       "  <tbody>\n",
       "    <tr>\n",
       "      <th>0</th>\n",
       "      <td>PEÇAS / ACESSÓRIOS ARMAMENTO, MATERIAL:AÇO, TI...</td>\n",
       "      <td>10 - ARMAMENTO</td>\n",
       "    </tr>\n",
       "    <tr>\n",
       "      <th>1</th>\n",
       "      <td>PEÇAS / ACESSÓRIOS ARMAMENTO, MATERIAL:AÇO, TI...</td>\n",
       "      <td>10 - ARMAMENTO</td>\n",
       "    </tr>\n",
       "    <tr>\n",
       "      <th>2</th>\n",
       "      <td>PEÇAS / ACESSÓRIOS ARMAMENTO, MATERIAL:AÇO, TI...</td>\n",
       "      <td>10 - ARMAMENTO</td>\n",
       "    </tr>\n",
       "    <tr>\n",
       "      <th>3</th>\n",
       "      <td>PEÇAS / ACESSÓRIOS ARMAMENTO, MATERIAL:AÇO, TI...</td>\n",
       "      <td>10 - ARMAMENTO</td>\n",
       "    </tr>\n",
       "    <tr>\n",
       "      <th>4</th>\n",
       "      <td>PEÇAS / ACESSÓRIOS ARMAMENTO, MATERIAL:AÇO, TI...</td>\n",
       "      <td>10 - ARMAMENTO</td>\n",
       "    </tr>\n",
       "  </tbody>\n",
       "</table>\n",
       "</div>"
      ],
      "text/plain": [
       "                                                ITEM           GRUPO\n",
       "0  PEÇAS / ACESSÓRIOS ARMAMENTO, MATERIAL:AÇO, TI...  10 - ARMAMENTO\n",
       "1  PEÇAS / ACESSÓRIOS ARMAMENTO, MATERIAL:AÇO, TI...  10 - ARMAMENTO\n",
       "2  PEÇAS / ACESSÓRIOS ARMAMENTO, MATERIAL:AÇO, TI...  10 - ARMAMENTO\n",
       "3  PEÇAS / ACESSÓRIOS ARMAMENTO, MATERIAL:AÇO, TI...  10 - ARMAMENTO\n",
       "4  PEÇAS / ACESSÓRIOS ARMAMENTO, MATERIAL:AÇO, TI...  10 - ARMAMENTO"
      ]
     },
     "metadata": {},
     "output_type": "display_data"
    }
   ],
   "source": [
    "\n",
    "# Criar o DataFrame simplificado com apenas as colunas necessárias\n",
    "console.print(\"\\n[bold yellow]Criando DataFrame simplificado...[/bold yellow]\")\n",
    "\n",
    "catmat_df = pd.DataFrame()\n",
    "catmat_df['ITEM'] = df['Descrição do Item']\n",
    "catmat_df['GRUPO'] = df['Código do Grupo'].astype(str) + ' - ' + df['Nome do Grupo']\n",
    "\n",
    "console.print(\"[green]DataFrame simplificado criado[/green]\")\n",
    "console.print(\"Exemplo de dados:\")\n",
    "display(catmat_df.head())\n"
   ]
  },
  {
   "cell_type": "code",
   "execution_count": 5,
   "metadata": {},
   "outputs": [
    {
     "data": {
      "text/html": [
       "<pre style=\"white-space:pre;overflow-x:auto;line-height:normal;font-family:Menlo,'DejaVu Sans Mono',consolas,'Courier New',monospace\">\n",
       "<span style=\"color: #808000; text-decoration-color: #808000; font-weight: bold\">Criando amostra representativa e divisão treino/validação...</span>\n",
       "</pre>\n"
      ],
      "text/plain": [
       "\n",
       "\u001b[1;33mCriando amostra representativa e divisão treino/validação\u001b[0m\u001b[1;33m...\u001b[0m\n"
      ]
     },
     "metadata": {},
     "output_type": "display_data"
    },
    {
     "data": {
      "application/vnd.jupyter.widget-view+json": {
       "model_id": "ac24118809fe4860ad685aedff776cc0",
       "version_major": 2,
       "version_minor": 0
      },
      "text/plain": [
       "Output()"
      ]
     },
     "metadata": {},
     "output_type": "display_data"
    },
    {
     "data": {
      "text/html": [
       "<pre style=\"white-space:pre;overflow-x:auto;line-height:normal;font-family:Menlo,'DejaVu Sans Mono',consolas,'Courier New',monospace\"></pre>\n"
      ],
      "text/plain": []
     },
     "metadata": {},
     "output_type": "display_data"
    },
    {
     "data": {
      "text/html": [
       "<pre style=\"white-space:pre;overflow-x:auto;line-height:normal;font-family:Menlo,'DejaVu Sans Mono',consolas,'Courier New',monospace\">\n",
       "<span style=\"color: #008000; text-decoration-color: #008000\">DataFrame original: </span><span style=\"color: #008000; text-decoration-color: #008000; font-weight: bold\">157853</span><span style=\"color: #008000; text-decoration-color: #008000\"> itens</span>\n",
       "</pre>\n"
      ],
      "text/plain": [
       "\n",
       "\u001b[32mDataFrame original: \u001b[0m\u001b[1;32m157853\u001b[0m\u001b[32m itens\u001b[0m\n"
      ]
     },
     "metadata": {},
     "output_type": "display_data"
    },
    {
     "data": {
      "text/html": [
       "<pre style=\"white-space:pre;overflow-x:auto;line-height:normal;font-family:Menlo,'DejaVu Sans Mono',consolas,'Courier New',monospace\"><span style=\"color: #008000; text-decoration-color: #008000\">Amostra total: </span><span style=\"color: #008000; text-decoration-color: #008000; font-weight: bold\">12819</span><span style=\"color: #008000; text-decoration-color: #008000\"> itens </span><span style=\"color: #008000; text-decoration-color: #008000; font-weight: bold\">(</span><span style=\"color: #008000; text-decoration-color: #008000; font-weight: bold\">8.12</span><span style=\"color: #008000; text-decoration-color: #008000\">% do original</span><span style=\"color: #008000; text-decoration-color: #008000; font-weight: bold\">)</span>\n",
       "</pre>\n"
      ],
      "text/plain": [
       "\u001b[32mAmostra total: \u001b[0m\u001b[1;32m12819\u001b[0m\u001b[32m itens \u001b[0m\u001b[1;32m(\u001b[0m\u001b[1;32m8.12\u001b[0m\u001b[32m% do original\u001b[0m\u001b[1;32m)\u001b[0m\n"
      ]
     },
     "metadata": {},
     "output_type": "display_data"
    },
    {
     "data": {
      "text/html": [
       "<pre style=\"white-space:pre;overflow-x:auto;line-height:normal;font-family:Menlo,'DejaVu Sans Mono',consolas,'Courier New',monospace\"><span style=\"color: #008000; text-decoration-color: #008000\">Conjunto de treinamento: </span><span style=\"color: #008000; text-decoration-color: #008000; font-weight: bold\">9607</span><span style=\"color: #008000; text-decoration-color: #008000\"> itens </span><span style=\"color: #008000; text-decoration-color: #008000; font-weight: bold\">(</span><span style=\"color: #008000; text-decoration-color: #008000; font-weight: bold\">74.94</span><span style=\"color: #008000; text-decoration-color: #008000\">% da amostra</span><span style=\"color: #008000; text-decoration-color: #008000; font-weight: bold\">)</span>\n",
       "</pre>\n"
      ],
      "text/plain": [
       "\u001b[32mConjunto de treinamento: \u001b[0m\u001b[1;32m9607\u001b[0m\u001b[32m itens \u001b[0m\u001b[1;32m(\u001b[0m\u001b[1;32m74.94\u001b[0m\u001b[32m% da amostra\u001b[0m\u001b[1;32m)\u001b[0m\n"
      ]
     },
     "metadata": {},
     "output_type": "display_data"
    },
    {
     "data": {
      "text/html": [
       "<pre style=\"white-space:pre;overflow-x:auto;line-height:normal;font-family:Menlo,'DejaVu Sans Mono',consolas,'Courier New',monospace\"><span style=\"color: #008000; text-decoration-color: #008000\">Conjunto de validação: </span><span style=\"color: #008000; text-decoration-color: #008000; font-weight: bold\">3212</span><span style=\"color: #008000; text-decoration-color: #008000\"> itens </span><span style=\"color: #008000; text-decoration-color: #008000; font-weight: bold\">(</span><span style=\"color: #008000; text-decoration-color: #008000; font-weight: bold\">25.06</span><span style=\"color: #008000; text-decoration-color: #008000\">% da amostra</span><span style=\"color: #008000; text-decoration-color: #008000; font-weight: bold\">)</span>\n",
       "</pre>\n"
      ],
      "text/plain": [
       "\u001b[32mConjunto de validação: \u001b[0m\u001b[1;32m3212\u001b[0m\u001b[32m itens \u001b[0m\u001b[1;32m(\u001b[0m\u001b[1;32m25.06\u001b[0m\u001b[32m% da amostra\u001b[0m\u001b[1;32m)\u001b[0m\n"
      ]
     },
     "metadata": {},
     "output_type": "display_data"
    },
    {
     "data": {
      "text/html": [
       "<pre style=\"white-space:pre;overflow-x:auto;line-height:normal;font-family:Menlo,'DejaVu Sans Mono',consolas,'Courier New',monospace\"><span style=\"color: #008000; text-decoration-color: #008000\">Proporção treinamento:validação = </span><span style=\"color: #008000; text-decoration-color: #008000; font-weight: bold\">2.99</span><span style=\"color: #008000; text-decoration-color: #008000\">:</span><span style=\"color: #008000; text-decoration-color: #008000; font-weight: bold\">1</span>\n",
       "</pre>\n"
      ],
      "text/plain": [
       "\u001b[32mProporção treinamento:validação = \u001b[0m\u001b[1;32m2.99\u001b[0m\u001b[32m:\u001b[0m\u001b[1;32m1\u001b[0m\n"
      ]
     },
     "metadata": {},
     "output_type": "display_data"
    },
    {
     "data": {
      "text/html": [
       "<pre style=\"white-space:pre;overflow-x:auto;line-height:normal;font-family:Menlo,'DejaVu Sans Mono',consolas,'Courier New',monospace\"><span style=\"color: #008000; text-decoration-color: #008000\">Número total de grupos: </span><span style=\"color: #008000; text-decoration-color: #008000; font-weight: bold\">74</span>\n",
       "</pre>\n"
      ],
      "text/plain": [
       "\u001b[32mNúmero total de grupos: \u001b[0m\u001b[1;32m74\u001b[0m\n"
      ]
     },
     "metadata": {},
     "output_type": "display_data"
    },
    {
     "data": {
      "text/html": [
       "<pre style=\"white-space:pre;overflow-x:auto;line-height:normal;font-family:Menlo,'DejaVu Sans Mono',consolas,'Courier New',monospace\">\n",
       "Exemplos do conjunto de treinamento:\n",
       "</pre>\n"
      ],
      "text/plain": [
       "\n",
       "Exemplos do conjunto de treinamento:\n"
      ]
     },
     "metadata": {},
     "output_type": "display_data"
    },
    {
     "data": {
      "text/html": [
       "<div>\n",
       "<style scoped>\n",
       "    .dataframe tbody tr th:only-of-type {\n",
       "        vertical-align: middle;\n",
       "    }\n",
       "\n",
       "    .dataframe tbody tr th {\n",
       "        vertical-align: top;\n",
       "    }\n",
       "\n",
       "    .dataframe thead th {\n",
       "        text-align: right;\n",
       "    }\n",
       "</style>\n",
       "<table border=\"1\" class=\"dataframe\">\n",
       "  <thead>\n",
       "    <tr style=\"text-align: right;\">\n",
       "      <th></th>\n",
       "      <th>ITEM</th>\n",
       "      <th>CATEGORIA</th>\n",
       "    </tr>\n",
       "  </thead>\n",
       "  <tbody>\n",
       "    <tr>\n",
       "      <th>0</th>\n",
       "      <td>PEÇAS / ACESSÓRIOS ARMAMENTO, MATERIAL:AÇO, AP...</td>\n",
       "      <td>MATERIAL; 10 - ARMAMENTO</td>\n",
       "    </tr>\n",
       "    <tr>\n",
       "      <th>1</th>\n",
       "      <td>PARAFUSO ARMAMENTO, TIPO:LIMITADOR, MATERIAL:A...</td>\n",
       "      <td>MATERIAL; 10 - ARMAMENTO</td>\n",
       "    </tr>\n",
       "    <tr>\n",
       "      <th>2</th>\n",
       "      <td>PEÇAS / ACESSÓRIOS ARMAMENTO, APLICAÇÃO: VBTP ...</td>\n",
       "      <td>MATERIAL; 10 - ARMAMENTO</td>\n",
       "    </tr>\n",
       "    <tr>\n",
       "      <th>3</th>\n",
       "      <td>PEÇAS / ACESSÓRIOS ARMAMENTO, MATERIAL:AÇO, TI...</td>\n",
       "      <td>MATERIAL; 10 - ARMAMENTO</td>\n",
       "    </tr>\n",
       "    <tr>\n",
       "      <th>4</th>\n",
       "      <td>PEÇAS / ACESSÓRIOS ARMAMENTO, MATERIAL:METAL, ...</td>\n",
       "      <td>MATERIAL; 10 - ARMAMENTO</td>\n",
       "    </tr>\n",
       "  </tbody>\n",
       "</table>\n",
       "</div>"
      ],
      "text/plain": [
       "                                                ITEM                 CATEGORIA\n",
       "0  PEÇAS / ACESSÓRIOS ARMAMENTO, MATERIAL:AÇO, AP...  MATERIAL; 10 - ARMAMENTO\n",
       "1  PARAFUSO ARMAMENTO, TIPO:LIMITADOR, MATERIAL:A...  MATERIAL; 10 - ARMAMENTO\n",
       "2  PEÇAS / ACESSÓRIOS ARMAMENTO, APLICAÇÃO: VBTP ...  MATERIAL; 10 - ARMAMENTO\n",
       "3  PEÇAS / ACESSÓRIOS ARMAMENTO, MATERIAL:AÇO, TI...  MATERIAL; 10 - ARMAMENTO\n",
       "4  PEÇAS / ACESSÓRIOS ARMAMENTO, MATERIAL:METAL, ...  MATERIAL; 10 - ARMAMENTO"
      ]
     },
     "metadata": {},
     "output_type": "display_data"
    },
    {
     "data": {
      "text/html": [
       "<pre style=\"white-space:pre;overflow-x:auto;line-height:normal;font-family:Menlo,'DejaVu Sans Mono',consolas,'Courier New',monospace\">\n",
       "Exemplos do conjunto de validação:\n",
       "</pre>\n"
      ],
      "text/plain": [
       "\n",
       "Exemplos do conjunto de validação:\n"
      ]
     },
     "metadata": {},
     "output_type": "display_data"
    },
    {
     "data": {
      "text/html": [
       "<div>\n",
       "<style scoped>\n",
       "    .dataframe tbody tr th:only-of-type {\n",
       "        vertical-align: middle;\n",
       "    }\n",
       "\n",
       "    .dataframe tbody tr th {\n",
       "        vertical-align: top;\n",
       "    }\n",
       "\n",
       "    .dataframe thead th {\n",
       "        text-align: right;\n",
       "    }\n",
       "</style>\n",
       "<table border=\"1\" class=\"dataframe\">\n",
       "  <thead>\n",
       "    <tr style=\"text-align: right;\">\n",
       "      <th></th>\n",
       "      <th>ITEM</th>\n",
       "      <th>CATEGORIA</th>\n",
       "    </tr>\n",
       "  </thead>\n",
       "  <tbody>\n",
       "    <tr>\n",
       "      <th>0</th>\n",
       "      <td>PEÇAS / ACESSÓRIOS ARMAMENTO, TIPO 3:BIPÉ, MAT...</td>\n",
       "      <td>MATERIAL; 10 - ARMAMENTO</td>\n",
       "    </tr>\n",
       "    <tr>\n",
       "      <th>1</th>\n",
       "      <td>PEÇAS / ACESSÓRIOS ARMAMENTO, MATERIAL:AÇO, AP...</td>\n",
       "      <td>MATERIAL; 10 - ARMAMENTO</td>\n",
       "    </tr>\n",
       "    <tr>\n",
       "      <th>2</th>\n",
       "      <td>PEÇAS / ACESSÓRIOS ARMAMENTO, MATERIAL:METAL, ...</td>\n",
       "      <td>MATERIAL; 10 - ARMAMENTO</td>\n",
       "    </tr>\n",
       "    <tr>\n",
       "      <th>3</th>\n",
       "      <td>PEÇAS / ACESSÓRIOS ARMAMENTO, TIPO 4:PORCA DE ...</td>\n",
       "      <td>MATERIAL; 10 - ARMAMENTO</td>\n",
       "    </tr>\n",
       "    <tr>\n",
       "      <th>4</th>\n",
       "      <td>PEÇAS / ACESSÓRIOS ARMAMENTO, TIPO 3:PARAFUSO ...</td>\n",
       "      <td>MATERIAL; 10 - ARMAMENTO</td>\n",
       "    </tr>\n",
       "  </tbody>\n",
       "</table>\n",
       "</div>"
      ],
      "text/plain": [
       "                                                ITEM                 CATEGORIA\n",
       "0  PEÇAS / ACESSÓRIOS ARMAMENTO, TIPO 3:BIPÉ, MAT...  MATERIAL; 10 - ARMAMENTO\n",
       "1  PEÇAS / ACESSÓRIOS ARMAMENTO, MATERIAL:AÇO, AP...  MATERIAL; 10 - ARMAMENTO\n",
       "2  PEÇAS / ACESSÓRIOS ARMAMENTO, MATERIAL:METAL, ...  MATERIAL; 10 - ARMAMENTO\n",
       "3  PEÇAS / ACESSÓRIOS ARMAMENTO, TIPO 4:PORCA DE ...  MATERIAL; 10 - ARMAMENTO\n",
       "4  PEÇAS / ACESSÓRIOS ARMAMENTO, TIPO 3:PARAFUSO ...  MATERIAL; 10 - ARMAMENTO"
      ]
     },
     "metadata": {},
     "output_type": "display_data"
    },
    {
     "data": {
      "text/html": [
       "<pre style=\"white-space:pre;overflow-x:auto;line-height:normal;font-family:Menlo,'DejaVu Sans Mono',consolas,'Courier New',monospace\">\n",
       "Distribuição de itens por grupo <span style=\"font-weight: bold\">(</span>top <span style=\"color: #008080; text-decoration-color: #008080; font-weight: bold\">10</span><span style=\"font-weight: bold\">)</span>:\n",
       "</pre>\n"
      ],
      "text/plain": [
       "\n",
       "Distribuição de itens por grupo \u001b[1m(\u001b[0mtop \u001b[1;36m10\u001b[0m\u001b[1m)\u001b[0m:\n"
      ]
     },
     "metadata": {},
     "output_type": "display_data"
    },
    {
     "data": {
      "text/html": [
       "<div>\n",
       "<style scoped>\n",
       "    .dataframe tbody tr th:only-of-type {\n",
       "        vertical-align: middle;\n",
       "    }\n",
       "\n",
       "    .dataframe tbody tr th {\n",
       "        vertical-align: top;\n",
       "    }\n",
       "\n",
       "    .dataframe thead th {\n",
       "        text-align: right;\n",
       "    }\n",
       "</style>\n",
       "<table border=\"1\" class=\"dataframe\">\n",
       "  <thead>\n",
       "    <tr style=\"text-align: right;\">\n",
       "      <th></th>\n",
       "      <th>Treinamento</th>\n",
       "      <th>Validação</th>\n",
       "    </tr>\n",
       "    <tr>\n",
       "      <th>CATEGORIA</th>\n",
       "      <th></th>\n",
       "      <th></th>\n",
       "    </tr>\n",
       "  </thead>\n",
       "  <tbody>\n",
       "    <tr>\n",
       "      <th>MATERIAL; 10 - ARMAMENTO</th>\n",
       "      <td>150</td>\n",
       "      <td>50</td>\n",
       "    </tr>\n",
       "    <tr>\n",
       "      <th>MATERIAL; 11 - MATERIAIS BÉLICOS NUCLEARES</th>\n",
       "      <td>3</td>\n",
       "      <td>1</td>\n",
       "    </tr>\n",
       "    <tr>\n",
       "      <th>MATERIAL; 13 - MUNIÇÕES E EXPLOSIVOS</th>\n",
       "      <td>30</td>\n",
       "      <td>10</td>\n",
       "    </tr>\n",
       "    <tr>\n",
       "      <th>MATERIAL; 15 - AERONAVES E SEUS COMPONENTES ESTRUTURAIS</th>\n",
       "      <td>24</td>\n",
       "      <td>8</td>\n",
       "    </tr>\n",
       "    <tr>\n",
       "      <th>MATERIAL; 16 - COMPONENTES E ACESSORIOS DE AERONAVES</th>\n",
       "      <td>1</td>\n",
       "      <td>1</td>\n",
       "    </tr>\n",
       "    <tr>\n",
       "      <th>MATERIAL; 19 - NAVIOS, PEQUENAS EMBARCACOES, PONTOES E DIQUES FLUTUANTES</th>\n",
       "      <td>58</td>\n",
       "      <td>20</td>\n",
       "    </tr>\n",
       "    <tr>\n",
       "      <th>MATERIAL; 20 - EQUIPAMENTOS PARA NAVIOS E EMBARCACOES</th>\n",
       "      <td>15</td>\n",
       "      <td>5</td>\n",
       "    </tr>\n",
       "    <tr>\n",
       "      <th>MATERIAL; 22 - EQUIPAMENTOS FERROVIÁRIOS</th>\n",
       "      <td>16</td>\n",
       "      <td>6</td>\n",
       "    </tr>\n",
       "    <tr>\n",
       "      <th>MATERIAL; 23 - VEíCULOS</th>\n",
       "      <td>150</td>\n",
       "      <td>50</td>\n",
       "    </tr>\n",
       "    <tr>\n",
       "      <th>MATERIAL; 24 - TRATORES</th>\n",
       "      <td>27</td>\n",
       "      <td>10</td>\n",
       "    </tr>\n",
       "  </tbody>\n",
       "</table>\n",
       "</div>"
      ],
      "text/plain": [
       "                                                    Treinamento  Validação\n",
       "CATEGORIA                                                                 \n",
       "MATERIAL; 10 - ARMAMENTO                                    150         50\n",
       "MATERIAL; 11 - MATERIAIS BÉLICOS NUCLEARES                    3          1\n",
       "MATERIAL; 13 - MUNIÇÕES E EXPLOSIVOS                         30         10\n",
       "MATERIAL; 15 - AERONAVES E SEUS COMPONENTES EST...           24          8\n",
       "MATERIAL; 16 - COMPONENTES E ACESSORIOS DE AERO...            1          1\n",
       "MATERIAL; 19 - NAVIOS, PEQUENAS EMBARCACOES, PO...           58         20\n",
       "MATERIAL; 20 - EQUIPAMENTOS PARA NAVIOS E EMBAR...           15          5\n",
       "MATERIAL; 22 - EQUIPAMENTOS FERROVIÁRIOS                     16          6\n",
       "MATERIAL; 23 - VEíCULOS                                     150         50\n",
       "MATERIAL; 24 - TRATORES                                      27         10"
      ]
     },
     "metadata": {},
     "output_type": "display_data"
    }
   ],
   "source": [
    "# Fazer amostragem dos dados - no máximo n itens por GRUPO e divisão na proporção P:1\n",
    "console.print(\"\\n[bold yellow]Criando amostra representativa e divisão treino/validação...[/bold yellow]\")\n",
    "\n",
    "n = 200  # Máximo de itens por grupo\n",
    "p = 3    # Proporção para treinamento:validação (4:1)\n",
    "\n",
    "# Preparar os DataFrames finais\n",
    "training_df = pd.DataFrame(columns=['ITEM', 'CATEGORIA'])\n",
    "validation_df = pd.DataFrame(columns=['ITEM', 'CATEGORIA'])\n",
    "\n",
    "# Função para processar cada grupo\n",
    "def sample_and_split_group(group_name, group_data):\n",
    "    global training_df, validation_df\n",
    "    \n",
    "    # Se o grupo tem mais itens que n, fazer amostragem\n",
    "    if len(group_data) > n:\n",
    "        sampled_group = group_data.sample(n=n, random_state=42)\n",
    "    else:\n",
    "        sampled_group = group_data\n",
    "    \n",
    "    # Calcular o número de itens para treinamento e validação\n",
    "    total_items = len(sampled_group)\n",
    "    train_size = int(total_items * p / (p + 1))\n",
    "    # O restante vai para validação\n",
    "    \n",
    "    # Embaralhar os dados antes de dividir\n",
    "    shuffled_group = sampled_group.sample(frac=1, random_state=42)\n",
    "    \n",
    "    # Dividir em treinamento e validação\n",
    "    train_items = shuffled_group.iloc[:train_size]\n",
    "    val_items = shuffled_group.iloc[train_size:]\n",
    "    \n",
    "    # Adicionar aos DataFrames com a categoria formatada\n",
    "    category = \"MATERIAL; \" + group_name\n",
    "    \n",
    "    # Adicionar ao treinamento\n",
    "    train_data = pd.DataFrame({\n",
    "        'ITEM': train_items['ITEM'].tolist(),\n",
    "        'CATEGORIA': [category] * len(train_items)\n",
    "    })\n",
    "    training_df = pd.concat([training_df, train_data], ignore_index=True)\n",
    "    \n",
    "    # Adicionar à validação\n",
    "    val_data = pd.DataFrame({\n",
    "        'ITEM': val_items['ITEM'].tolist(),\n",
    "        'CATEGORIA': [category] * len(val_items)\n",
    "    })\n",
    "    validation_df = pd.concat([validation_df, val_data], ignore_index=True)\n",
    "    \n",
    "    return sampled_group  # Retorna o grupo amostrado para o sample_df\n",
    "\n",
    "# Criar sample_df para armazenar todos os itens amostrados\n",
    "sample_df = pd.DataFrame(columns=catmat_df.columns)\n",
    "\n",
    "# Processar cada grupo\n",
    "for group_name, group_data in track(catmat_df.groupby('GRUPO'), description=\"Processando grupos\"):\n",
    "    sampled_group = sample_and_split_group(group_name, group_data)\n",
    "    sample_df = pd.concat([sample_df, sampled_group], ignore_index=True)\n",
    "\n",
    "# Estatísticas sobre os conjuntos resultantes\n",
    "console.print(f\"\\n[green]DataFrame original: {catmat_df.shape[0]} itens[/green]\")\n",
    "console.print(f\"[green]Amostra total: {sample_df.shape[0]} itens ({sample_df.shape[0]/catmat_df.shape[0]*100:.2f}% do original)[/green]\")\n",
    "console.print(f\"[green]Conjunto de treinamento: {training_df.shape[0]} itens ({training_df.shape[0]/sample_df.shape[0]*100:.2f}% da amostra)[/green]\")\n",
    "console.print(f\"[green]Conjunto de validação: {validation_df.shape[0]} itens ({validation_df.shape[0]/sample_df.shape[0]*100:.2f}% da amostra)[/green]\")\n",
    "console.print(f\"[green]Proporção treinamento:validação = {training_df.shape[0]/validation_df.shape[0]:.2f}:1[/green]\")\n",
    "\n",
    "# Número de grupos\n",
    "num_grupos = training_df['CATEGORIA'].nunique()\n",
    "console.print(f\"[green]Número total de grupos: {num_grupos}[/green]\")\n",
    "\n",
    "# Exemplos\n",
    "console.print(\"\\nExemplos do conjunto de treinamento:\")\n",
    "display(training_df.head())\n",
    "\n",
    "console.print(\"\\nExemplos do conjunto de validação:\")\n",
    "display(validation_df.head())\n",
    "\n",
    "# Distribuição de grupos\n",
    "console.print(\"\\nDistribuição de itens por grupo (top 10):\")\n",
    "grupo_counts = pd.DataFrame({\n",
    "    'Treinamento': training_df['CATEGORIA'].value_counts(),\n",
    "    'Validação': validation_df['CATEGORIA'].value_counts()\n",
    "}).fillna(0).astype(int)\n",
    "\n",
    "display(grupo_counts.head(10))"
   ]
  },
  {
   "cell_type": "code",
   "execution_count": 6,
   "metadata": {},
   "outputs": [
    {
     "name": "stdout",
     "output_type": "stream",
     "text": [
      "Datasets salvos em: C:\\Users\\Haroldo Duraes\\Desktop\\GOvGO\\v0\\#DATA\\PNCP\\CAT\\catmat_datasets_nv1.xlsx\n",
      "Abas salvas:\n",
      "- training: conjunto de treinamento com prefixo MATERIAL\n",
      "- validation: conjunto de validação com prefixo MATERIAL\n",
      "- sample: dataset reduzido por amostragem\n"
     ]
    }
   ],
   "source": [
    "# Definir o caminho para salvar o arquivo Excel\n",
    "OUT_FILE = CAT_PATH + \"catmat_datasets_nv1.xlsx\"\n",
    "\n",
    "# Criar um ExcelWriter para salvar múltiplas abas em um único arquivo Excel\n",
    "with pd.ExcelWriter(OUT_FILE) as writer:\n",
    "    # Salvar cada DataFrame em uma aba separada\n",
    "    training_df.to_excel(writer, sheet_name=\"training\", index=False)\n",
    "    validation_df.to_excel(writer, sheet_name=\"validation\", index=False)\n",
    "    sample_df.to_excel(writer, sheet_name=\"sample\", index=False)\n",
    "    \n",
    "\n",
    "\n",
    "print(f\"Datasets salvos em: {OUT_FILE}\")\n",
    "print(\"Abas salvas:\")\n",
    "print(\"- training: conjunto de treinamento com prefixo MATERIAL\")\n",
    "print(\"- validation: conjunto de validação com prefixo MATERIAL\")\n",
    "print(\"- sample: dataset reduzido por amostragem\")"
   ]
  }
 ],
 "metadata": {
  "kernelspec": {
   "display_name": "base",
   "language": "python",
   "name": "python3"
  },
  "language_info": {
   "codemirror_mode": {
    "name": "ipython",
    "version": 3
   },
   "file_extension": ".py",
   "mimetype": "text/x-python",
   "name": "python",
   "nbconvert_exporter": "python",
   "pygments_lexer": "ipython3",
   "version": "3.12.4"
  }
 },
 "nbformat": 4,
 "nbformat_minor": 2
}
