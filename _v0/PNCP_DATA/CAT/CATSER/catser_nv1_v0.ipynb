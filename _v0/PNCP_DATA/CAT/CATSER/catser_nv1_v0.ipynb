{
 "cells": [
  {
   "cell_type": "code",
   "execution_count": 1,
   "metadata": {},
   "outputs": [
    {
     "data": {
      "text/html": [
       "<pre style=\"white-space:pre;overflow-x:auto;line-height:normal;font-family:Menlo,'DejaVu Sans Mono',consolas,'Courier New',monospace\"><span style=\"color: #808000; text-decoration-color: #808000; font-weight: bold\">Carregando dados CATSER...</span>\n",
       "</pre>\n"
      ],
      "text/plain": [
       "\u001b[1;33mCarregando dados CATSER\u001b[0m\u001b[1;33m...\u001b[0m\n"
      ]
     },
     "metadata": {},
     "output_type": "display_data"
    },
    {
     "data": {
      "text/html": [
       "<pre style=\"white-space:pre;overflow-x:auto;line-height:normal;font-family:Menlo,'DejaVu Sans Mono',consolas,'Courier New',monospace\"><span style=\"color: #008000; text-decoration-color: #008000\">DataFrame carregado: </span><span style=\"color: #008000; text-decoration-color: #008000; font-weight: bold\">2823</span><span style=\"color: #008000; text-decoration-color: #008000\"> linhas, </span><span style=\"color: #008000; text-decoration-color: #008000; font-weight: bold\">8</span><span style=\"color: #008000; text-decoration-color: #008000\"> colunas</span>\n",
       "</pre>\n"
      ],
      "text/plain": [
       "\u001b[32mDataFrame carregado: \u001b[0m\u001b[1;32m2823\u001b[0m\u001b[32m linhas, \u001b[0m\u001b[1;32m8\u001b[0m\u001b[32m colunas\u001b[0m\n"
      ]
     },
     "metadata": {},
     "output_type": "display_data"
    },
    {
     "data": {
      "text/html": [
       "<pre style=\"white-space:pre;overflow-x:auto;line-height:normal;font-family:Menlo,'DejaVu Sans Mono',consolas,'Courier New',monospace\">Primeiras linhas:\n",
       "</pre>\n"
      ],
      "text/plain": [
       "Primeiras linhas:\n"
      ]
     },
     "metadata": {},
     "output_type": "display_data"
    },
    {
     "data": {
      "text/html": [
       "<div>\n",
       "<style scoped>\n",
       "    .dataframe tbody tr th:only-of-type {\n",
       "        vertical-align: middle;\n",
       "    }\n",
       "\n",
       "    .dataframe tbody tr th {\n",
       "        vertical-align: top;\n",
       "    }\n",
       "\n",
       "    .dataframe thead th {\n",
       "        text-align: right;\n",
       "    }\n",
       "</style>\n",
       "<table border=\"1\" class=\"dataframe\">\n",
       "  <thead>\n",
       "    <tr style=\"text-align: right;\">\n",
       "      <th></th>\n",
       "      <th>Tipo Material Serviço</th>\n",
       "      <th>CodGrupo</th>\n",
       "      <th>Grupo</th>\n",
       "      <th>CodClasse</th>\n",
       "      <th>Classe</th>\n",
       "      <th>CodigoServico</th>\n",
       "      <th>Serviço</th>\n",
       "      <th>Sit Atual Mat Serv</th>\n",
       "    </tr>\n",
       "  </thead>\n",
       "  <tbody>\n",
       "    <tr>\n",
       "      <th>0</th>\n",
       "      <td>Serviço</td>\n",
       "      <td>'-9</td>\n",
       "      <td>NAO SE APLICA</td>\n",
       "      <td>'-7</td>\n",
       "      <td>INVALIDO</td>\n",
       "      <td>15377</td>\n",
       "      <td>INFRA-ESTRUTURA AEROPORTUARIA - OPERACAO INDUS...</td>\n",
       "      <td>Ativo</td>\n",
       "    </tr>\n",
       "    <tr>\n",
       "      <th>1</th>\n",
       "      <td>Serviço</td>\n",
       "      <td>111</td>\n",
       "      <td>SERVIÇOS  DE DESENVOLVIMENTO E MANUTENÇÃO DE S...</td>\n",
       "      <td>1111</td>\n",
       "      <td>SERVIÇOS  DE DESENVOLVIMENTO DE SOFTWARE E OU ...</td>\n",
       "      <td>25852</td>\n",
       "      <td>DESENVOLVIMENTO DE NOVO SOFTWARE - JAVA</td>\n",
       "      <td>Ativo</td>\n",
       "    </tr>\n",
       "    <tr>\n",
       "      <th>2</th>\n",
       "      <td>Serviço</td>\n",
       "      <td>111</td>\n",
       "      <td>SERVIÇOS  DE DESENVOLVIMENTO E MANUTENÇÃO DE S...</td>\n",
       "      <td>1111</td>\n",
       "      <td>SERVIÇOS  DE DESENVOLVIMENTO DE SOFTWARE E OU ...</td>\n",
       "      <td>25860</td>\n",
       "      <td>DESENVOLVIMENTO E OU EVOLUCAO DE SOFTWATE - PHP</td>\n",
       "      <td>Ativo</td>\n",
       "    </tr>\n",
       "    <tr>\n",
       "      <th>3</th>\n",
       "      <td>Serviço</td>\n",
       "      <td>111</td>\n",
       "      <td>SERVIÇOS  DE DESENVOLVIMENTO E MANUTENÇÃO DE S...</td>\n",
       "      <td>1111</td>\n",
       "      <td>SERVIÇOS  DE DESENVOLVIMENTO DE SOFTWARE E OU ...</td>\n",
       "      <td>25879</td>\n",
       "      <td>DESENVOLVIMENTO E OU EVOLUCAO DE SOFTWATE - FR...</td>\n",
       "      <td>Ativo</td>\n",
       "    </tr>\n",
       "    <tr>\n",
       "      <th>4</th>\n",
       "      <td>Serviço</td>\n",
       "      <td>111</td>\n",
       "      <td>SERVIÇOS  DE DESENVOLVIMENTO E MANUTENÇÃO DE S...</td>\n",
       "      <td>1111</td>\n",
       "      <td>SERVIÇOS  DE DESENVOLVIMENTO DE SOFTWARE E OU ...</td>\n",
       "      <td>25887</td>\n",
       "      <td>DESENVOLVIMENTO E OU EVOLUCAO DE SOFTWATE - PY...</td>\n",
       "      <td>Ativo</td>\n",
       "    </tr>\n",
       "  </tbody>\n",
       "</table>\n",
       "</div>"
      ],
      "text/plain": [
       "  Tipo Material Serviço CodGrupo  \\\n",
       "0               Serviço      '-9   \n",
       "1               Serviço      111   \n",
       "2               Serviço      111   \n",
       "3               Serviço      111   \n",
       "4               Serviço      111   \n",
       "\n",
       "                                               Grupo CodClasse  \\\n",
       "0                                      NAO SE APLICA       '-7   \n",
       "1  SERVIÇOS  DE DESENVOLVIMENTO E MANUTENÇÃO DE S...      1111   \n",
       "2  SERVIÇOS  DE DESENVOLVIMENTO E MANUTENÇÃO DE S...      1111   \n",
       "3  SERVIÇOS  DE DESENVOLVIMENTO E MANUTENÇÃO DE S...      1111   \n",
       "4  SERVIÇOS  DE DESENVOLVIMENTO E MANUTENÇÃO DE S...      1111   \n",
       "\n",
       "                                              Classe  CodigoServico  \\\n",
       "0                                           INVALIDO          15377   \n",
       "1  SERVIÇOS  DE DESENVOLVIMENTO DE SOFTWARE E OU ...          25852   \n",
       "2  SERVIÇOS  DE DESENVOLVIMENTO DE SOFTWARE E OU ...          25860   \n",
       "3  SERVIÇOS  DE DESENVOLVIMENTO DE SOFTWARE E OU ...          25879   \n",
       "4  SERVIÇOS  DE DESENVOLVIMENTO DE SOFTWARE E OU ...          25887   \n",
       "\n",
       "                                             Serviço Sit Atual Mat Serv  \n",
       "0  INFRA-ESTRUTURA AEROPORTUARIA - OPERACAO INDUS...              Ativo  \n",
       "1            DESENVOLVIMENTO DE NOVO SOFTWARE - JAVA              Ativo  \n",
       "2    DESENVOLVIMENTO E OU EVOLUCAO DE SOFTWATE - PHP              Ativo  \n",
       "3  DESENVOLVIMENTO E OU EVOLUCAO DE SOFTWATE - FR...              Ativo  \n",
       "4  DESENVOLVIMENTO E OU EVOLUCAO DE SOFTWATE - PY...              Ativo  "
      ]
     },
     "metadata": {},
     "output_type": "display_data"
    }
   ],
   "source": [
    "import pandas as pd\n",
    "import numpy as np\n",
    "from rich.console import Console\n",
    "from rich.progress import track\n",
    "\n",
    "# Criar console para visualização aprimorada\n",
    "console = Console()\n",
    "\n",
    "# Definir caminhos\n",
    "BASE_PATH = \"C:\\\\Users\\\\Haroldo Duraes\\\\Desktop\\\\GOvGO\\\\v0\\\\#DATA\\\\PNCP\\\\\"\n",
    "CAT_PATH = BASE_PATH + \"CAT\\\\\"\n",
    "FILE = CAT_PATH + \"Lista_CATSER_Corrigida_Acentuada.xlsx\"\n",
    "ABA = \"SERVIÇOS\"\n",
    "\n",
    "# Carregar os dados\n",
    "console.print(\"[bold yellow]Carregando dados CATSER...[/bold yellow]\")\n",
    "df = pd.read_excel(FILE, sheet_name=ABA)\n",
    "\n",
    "console.print(f\"[green]DataFrame carregado: {df.shape[0]} linhas, {df.shape[1]} colunas[/green]\")\n",
    "console.print(\"Primeiras linhas:\")\n",
    "display(df.head())"
   ]
  },
  {
   "cell_type": "code",
   "execution_count": 2,
   "metadata": {},
   "outputs": [
    {
     "data": {
      "text/html": [
       "<pre style=\"white-space:pre;overflow-x:auto;line-height:normal;font-family:Menlo,'DejaVu Sans Mono',consolas,'Courier New',monospace\">\n",
       "<span style=\"color: #808000; text-decoration-color: #808000; font-weight: bold\">Tratando casos de INVALIDO...</span>\n",
       "</pre>\n"
      ],
      "text/plain": [
       "\n",
       "\u001b[1;33mTratando casos de INVALIDO\u001b[0m\u001b[1;33m...\u001b[0m\n"
      ]
     },
     "metadata": {},
     "output_type": "display_data"
    },
    {
     "data": {
      "text/html": [
       "<pre style=\"white-space:pre;overflow-x:auto;line-height:normal;font-family:Menlo,'DejaVu Sans Mono',consolas,'Courier New',monospace\">Registros com Classe INVALIDO: <span style=\"color: #008080; text-decoration-color: #008080; font-weight: bold\">688</span>\n",
       "</pre>\n"
      ],
      "text/plain": [
       "Registros com Classe INVALIDO: \u001b[1;36m688\u001b[0m\n"
      ]
     },
     "metadata": {},
     "output_type": "display_data"
    },
    {
     "data": {
      "text/html": [
       "<pre style=\"white-space:pre;overflow-x:auto;line-height:normal;font-family:Menlo,'DejaVu Sans Mono',consolas,'Courier New',monospace\">\n",
       "<span style=\"color: #808000; text-decoration-color: #808000; font-weight: bold\">Criando DataFrame simplificado...</span>\n",
       "</pre>\n"
      ],
      "text/plain": [
       "\n",
       "\u001b[1;33mCriando DataFrame simplificado\u001b[0m\u001b[1;33m...\u001b[0m\n"
      ]
     },
     "metadata": {},
     "output_type": "display_data"
    },
    {
     "data": {
      "text/html": [
       "<pre style=\"white-space:pre;overflow-x:auto;line-height:normal;font-family:Menlo,'DejaVu Sans Mono',consolas,'Courier New',monospace\"><span style=\"color: #008000; text-decoration-color: #008000\">DataFrame simplificado criado</span>\n",
       "</pre>\n"
      ],
      "text/plain": [
       "\u001b[32mDataFrame simplificado criado\u001b[0m\n"
      ]
     },
     "metadata": {},
     "output_type": "display_data"
    },
    {
     "data": {
      "text/html": [
       "<pre style=\"white-space:pre;overflow-x:auto;line-height:normal;font-family:Menlo,'DejaVu Sans Mono',consolas,'Courier New',monospace\">Exemplo de dados:\n",
       "</pre>\n"
      ],
      "text/plain": [
       "Exemplo de dados:\n"
      ]
     },
     "metadata": {},
     "output_type": "display_data"
    },
    {
     "data": {
      "text/html": [
       "<div>\n",
       "<style scoped>\n",
       "    .dataframe tbody tr th:only-of-type {\n",
       "        vertical-align: middle;\n",
       "    }\n",
       "\n",
       "    .dataframe tbody tr th {\n",
       "        vertical-align: top;\n",
       "    }\n",
       "\n",
       "    .dataframe thead th {\n",
       "        text-align: right;\n",
       "    }\n",
       "</style>\n",
       "<table border=\"1\" class=\"dataframe\">\n",
       "  <thead>\n",
       "    <tr style=\"text-align: right;\">\n",
       "      <th></th>\n",
       "      <th>ITEM</th>\n",
       "      <th>GRUPO</th>\n",
       "    </tr>\n",
       "  </thead>\n",
       "  <tbody>\n",
       "    <tr>\n",
       "      <th>0</th>\n",
       "      <td>INFRA-ESTRUTURA AEROPORTUARIA - OPERACAO INDUS...</td>\n",
       "      <td>'-9 - NAO SE APLICA</td>\n",
       "    </tr>\n",
       "    <tr>\n",
       "      <th>1</th>\n",
       "      <td>DESENVOLVIMENTO DE NOVO SOFTWARE - JAVA</td>\n",
       "      <td>111 - SERVIÇOS  DE DESENVOLVIMENTO E MANUTENÇÃ...</td>\n",
       "    </tr>\n",
       "    <tr>\n",
       "      <th>2</th>\n",
       "      <td>DESENVOLVIMENTO E OU EVOLUCAO DE SOFTWATE - PHP</td>\n",
       "      <td>111 - SERVIÇOS  DE DESENVOLVIMENTO E MANUTENÇÃ...</td>\n",
       "    </tr>\n",
       "    <tr>\n",
       "      <th>3</th>\n",
       "      <td>DESENVOLVIMENTO E OU EVOLUCAO DE SOFTWATE - FR...</td>\n",
       "      <td>111 - SERVIÇOS  DE DESENVOLVIMENTO E MANUTENÇÃ...</td>\n",
       "    </tr>\n",
       "    <tr>\n",
       "      <th>4</th>\n",
       "      <td>DESENVOLVIMENTO E OU EVOLUCAO DE SOFTWATE - PY...</td>\n",
       "      <td>111 - SERVIÇOS  DE DESENVOLVIMENTO E MANUTENÇÃ...</td>\n",
       "    </tr>\n",
       "  </tbody>\n",
       "</table>\n",
       "</div>"
      ],
      "text/plain": [
       "                                                ITEM  \\\n",
       "0  INFRA-ESTRUTURA AEROPORTUARIA - OPERACAO INDUS...   \n",
       "1            DESENVOLVIMENTO DE NOVO SOFTWARE - JAVA   \n",
       "2    DESENVOLVIMENTO E OU EVOLUCAO DE SOFTWATE - PHP   \n",
       "3  DESENVOLVIMENTO E OU EVOLUCAO DE SOFTWATE - FR...   \n",
       "4  DESENVOLVIMENTO E OU EVOLUCAO DE SOFTWATE - PY...   \n",
       "\n",
       "                                               GRUPO  \n",
       "0                                '-9 - NAO SE APLICA  \n",
       "1  111 - SERVIÇOS  DE DESENVOLVIMENTO E MANUTENÇÃ...  \n",
       "2  111 - SERVIÇOS  DE DESENVOLVIMENTO E MANUTENÇÃ...  \n",
       "3  111 - SERVIÇOS  DE DESENVOLVIMENTO E MANUTENÇÃ...  \n",
       "4  111 - SERVIÇOS  DE DESENVOLVIMENTO E MANUTENÇÃ...  "
      ]
     },
     "metadata": {},
     "output_type": "display_data"
    }
   ],
   "source": [
    "# Tratar casos de \"INVALIDO\" na coluna \"Classe\"\n",
    "console.print(\"\\n[bold yellow]Tratando casos de INVALIDO...[/bold yellow]\")\n",
    "mask_invalido = df['Classe'] == 'INVALIDO'\n",
    "num_invalidos = mask_invalido.sum()\n",
    "console.print(f\"Registros com Classe INVALIDO: {num_invalidos}\")\n",
    "\n",
    "# Corrigir valores inválidos\n",
    "df_corrigido = df.copy()\n",
    "df_corrigido.loc[mask_invalido, 'Classe'] = df_corrigido.loc[mask_invalido, 'Grupo']\n",
    "df_corrigido.loc[mask_invalido, 'CodClasse'] = df_corrigido.loc[mask_invalido, 'CodGrupo']\n",
    "\n",
    "# Criar DataFrame simplificado com apenas as colunas necessárias\n",
    "console.print(\"\\n[bold yellow]Criando DataFrame simplificado...[/bold yellow]\")\n",
    "catser_df = pd.DataFrame()\n",
    "catser_df['ITEM'] = df_corrigido['Serviço']\n",
    "catser_df['GRUPO'] = df_corrigido['CodGrupo'].astype(str) + ' - ' + df_corrigido['Grupo']\n",
    "\n",
    "console.print(\"[green]DataFrame simplificado criado[/green]\")\n",
    "console.print(\"Exemplo de dados:\")\n",
    "display(catser_df.head())\n"
   ]
  },
  {
   "cell_type": "code",
   "execution_count": null,
   "metadata": {},
   "outputs": [
    {
     "data": {
      "text/html": [
       "<pre style=\"white-space:pre;overflow-x:auto;line-height:normal;font-family:Menlo,'DejaVu Sans Mono',consolas,'Courier New',monospace\">\n",
       "<span style=\"color: #808000; text-decoration-color: #808000; font-weight: bold\">Criando amostra representativa e divisão treino/validação...</span>\n",
       "</pre>\n"
      ],
      "text/plain": [
       "\n",
       "\u001b[1;33mCriando amostra representativa e divisão treino/validação\u001b[0m\u001b[1;33m...\u001b[0m\n"
      ]
     },
     "metadata": {},
     "output_type": "display_data"
    },
    {
     "data": {
      "application/vnd.jupyter.widget-view+json": {
       "model_id": "92241872e06d4e8b930c1063e3d12596",
       "version_major": 2,
       "version_minor": 0
      },
      "text/plain": [
       "Output()"
      ]
     },
     "metadata": {},
     "output_type": "display_data"
    },
    {
     "data": {
      "text/html": [
       "<pre style=\"white-space:pre;overflow-x:auto;line-height:normal;font-family:Menlo,'DejaVu Sans Mono',consolas,'Courier New',monospace\"></pre>\n"
      ],
      "text/plain": []
     },
     "metadata": {},
     "output_type": "display_data"
    },
    {
     "data": {
      "text/html": [
       "<pre style=\"white-space:pre;overflow-x:auto;line-height:normal;font-family:Menlo,'DejaVu Sans Mono',consolas,'Courier New',monospace\">\n",
       "<span style=\"color: #008000; text-decoration-color: #008000\">DataFrame original: </span><span style=\"color: #008000; text-decoration-color: #008000; font-weight: bold\">2823</span><span style=\"color: #008000; text-decoration-color: #008000\"> itens</span>\n",
       "</pre>\n"
      ],
      "text/plain": [
       "\n",
       "\u001b[32mDataFrame original: \u001b[0m\u001b[1;32m2823\u001b[0m\u001b[32m itens\u001b[0m\n"
      ]
     },
     "metadata": {},
     "output_type": "display_data"
    },
    {
     "data": {
      "text/html": [
       "<pre style=\"white-space:pre;overflow-x:auto;line-height:normal;font-family:Menlo,'DejaVu Sans Mono',consolas,'Courier New',monospace\"><span style=\"color: #008000; text-decoration-color: #008000\">Amostra total: </span><span style=\"color: #008000; text-decoration-color: #008000; font-weight: bold\">1844</span><span style=\"color: #008000; text-decoration-color: #008000\"> itens </span><span style=\"color: #008000; text-decoration-color: #008000; font-weight: bold\">(</span><span style=\"color: #008000; text-decoration-color: #008000; font-weight: bold\">65.32</span><span style=\"color: #008000; text-decoration-color: #008000\">% do original</span><span style=\"color: #008000; text-decoration-color: #008000; font-weight: bold\">)</span>\n",
       "</pre>\n"
      ],
      "text/plain": [
       "\u001b[32mAmostra total: \u001b[0m\u001b[1;32m1844\u001b[0m\u001b[32m itens \u001b[0m\u001b[1;32m(\u001b[0m\u001b[1;32m65.32\u001b[0m\u001b[32m% do original\u001b[0m\u001b[1;32m)\u001b[0m\n"
      ]
     },
     "metadata": {},
     "output_type": "display_data"
    },
    {
     "data": {
      "text/html": [
       "<pre style=\"white-space:pre;overflow-x:auto;line-height:normal;font-family:Menlo,'DejaVu Sans Mono',consolas,'Courier New',monospace\"><span style=\"color: #008000; text-decoration-color: #008000\">Conjunto de treinamento: </span><span style=\"color: #008000; text-decoration-color: #008000; font-weight: bold\">1352</span><span style=\"color: #008000; text-decoration-color: #008000\"> itens </span><span style=\"color: #008000; text-decoration-color: #008000; font-weight: bold\">(</span><span style=\"color: #008000; text-decoration-color: #008000; font-weight: bold\">73.32</span><span style=\"color: #008000; text-decoration-color: #008000\">% da amostra</span><span style=\"color: #008000; text-decoration-color: #008000; font-weight: bold\">)</span>\n",
       "</pre>\n"
      ],
      "text/plain": [
       "\u001b[32mConjunto de treinamento: \u001b[0m\u001b[1;32m1352\u001b[0m\u001b[32m itens \u001b[0m\u001b[1;32m(\u001b[0m\u001b[1;32m73.32\u001b[0m\u001b[32m% da amostra\u001b[0m\u001b[1;32m)\u001b[0m\n"
      ]
     },
     "metadata": {},
     "output_type": "display_data"
    },
    {
     "data": {
      "text/html": [
       "<pre style=\"white-space:pre;overflow-x:auto;line-height:normal;font-family:Menlo,'DejaVu Sans Mono',consolas,'Courier New',monospace\"><span style=\"color: #008000; text-decoration-color: #008000\">Conjunto de validação: </span><span style=\"color: #008000; text-decoration-color: #008000; font-weight: bold\">513</span><span style=\"color: #008000; text-decoration-color: #008000\"> itens </span><span style=\"color: #008000; text-decoration-color: #008000; font-weight: bold\">(</span><span style=\"color: #008000; text-decoration-color: #008000; font-weight: bold\">27.82</span><span style=\"color: #008000; text-decoration-color: #008000\">% da amostra</span><span style=\"color: #008000; text-decoration-color: #008000; font-weight: bold\">)</span>\n",
       "</pre>\n"
      ],
      "text/plain": [
       "\u001b[32mConjunto de validação: \u001b[0m\u001b[1;32m513\u001b[0m\u001b[32m itens \u001b[0m\u001b[1;32m(\u001b[0m\u001b[1;32m27.82\u001b[0m\u001b[32m% da amostra\u001b[0m\u001b[1;32m)\u001b[0m\n"
      ]
     },
     "metadata": {},
     "output_type": "display_data"
    },
    {
     "data": {
      "text/html": [
       "<pre style=\"white-space:pre;overflow-x:auto;line-height:normal;font-family:Menlo,'DejaVu Sans Mono',consolas,'Courier New',monospace\"><span style=\"color: #008000; text-decoration-color: #008000\">Proporção treinamento:validação = </span><span style=\"color: #008000; text-decoration-color: #008000; font-weight: bold\">2.64</span><span style=\"color: #008000; text-decoration-color: #008000\">:</span><span style=\"color: #008000; text-decoration-color: #008000; font-weight: bold\">1</span>\n",
       "</pre>\n"
      ],
      "text/plain": [
       "\u001b[32mProporção treinamento:validação = \u001b[0m\u001b[1;32m2.64\u001b[0m\u001b[32m:\u001b[0m\u001b[1;32m1\u001b[0m\n"
      ]
     },
     "metadata": {},
     "output_type": "display_data"
    },
    {
     "data": {
      "text/html": [
       "<pre style=\"white-space:pre;overflow-x:auto;line-height:normal;font-family:Menlo,'DejaVu Sans Mono',consolas,'Courier New',monospace\"><span style=\"color: #008000; text-decoration-color: #008000\">Número total de grupos: </span><span style=\"color: #008000; text-decoration-color: #008000; font-weight: bold\">121</span>\n",
       "</pre>\n"
      ],
      "text/plain": [
       "\u001b[32mNúmero total de grupos: \u001b[0m\u001b[1;32m121\u001b[0m\n"
      ]
     },
     "metadata": {},
     "output_type": "display_data"
    },
    {
     "data": {
      "text/html": [
       "<pre style=\"white-space:pre;overflow-x:auto;line-height:normal;font-family:Menlo,'DejaVu Sans Mono',consolas,'Courier New',monospace\">\n",
       "Exemplos do conjunto de treinamento:\n",
       "</pre>\n"
      ],
      "text/plain": [
       "\n",
       "Exemplos do conjunto de treinamento:\n"
      ]
     },
     "metadata": {},
     "output_type": "display_data"
    },
    {
     "data": {
      "text/html": [
       "<div>\n",
       "<style scoped>\n",
       "    .dataframe tbody tr th:only-of-type {\n",
       "        vertical-align: middle;\n",
       "    }\n",
       "\n",
       "    .dataframe tbody tr th {\n",
       "        vertical-align: top;\n",
       "    }\n",
       "\n",
       "    .dataframe thead th {\n",
       "        text-align: right;\n",
       "    }\n",
       "</style>\n",
       "<table border=\"1\" class=\"dataframe\">\n",
       "  <thead>\n",
       "    <tr style=\"text-align: right;\">\n",
       "      <th></th>\n",
       "      <th>ITEM</th>\n",
       "      <th>CATEGORIA</th>\n",
       "    </tr>\n",
       "  </thead>\n",
       "  <tbody>\n",
       "    <tr>\n",
       "      <th>0</th>\n",
       "      <td>INFRA-ESTRUTURA AEROPORTUARIA - OPERACAO INDUS...</td>\n",
       "      <td>SERVIÇO; '-9 - NAO SE APLICA</td>\n",
       "    </tr>\n",
       "    <tr>\n",
       "      <th>1</th>\n",
       "      <td>MANUTENCAO EVOLUTIVA DE  SOFTWARE (ACRESCIMO D...</td>\n",
       "      <td>SERVIÇO; 111 - SERVIÇOS  DE DESENVOLVIMENTO E ...</td>\n",
       "    </tr>\n",
       "    <tr>\n",
       "      <th>2</th>\n",
       "      <td>MANUTENCAO EVOLUTIVA DE  SOFTWARE (ACRESCIMO D...</td>\n",
       "      <td>SERVIÇO; 111 - SERVIÇOS  DE DESENVOLVIMENTO E ...</td>\n",
       "    </tr>\n",
       "    <tr>\n",
       "      <th>3</th>\n",
       "      <td>DESENVOLVIMENTO DE NOVO SOFTWARE - JAVA</td>\n",
       "      <td>SERVIÇO; 111 - SERVIÇOS  DE DESENVOLVIMENTO E ...</td>\n",
       "    </tr>\n",
       "    <tr>\n",
       "      <th>4</th>\n",
       "      <td>MANUTENCAO EVOLUTIVA DE  SOFTWARE (ACRESCIMO D...</td>\n",
       "      <td>SERVIÇO; 111 - SERVIÇOS  DE DESENVOLVIMENTO E ...</td>\n",
       "    </tr>\n",
       "  </tbody>\n",
       "</table>\n",
       "</div>"
      ],
      "text/plain": [
       "                                                ITEM  \\\n",
       "0  INFRA-ESTRUTURA AEROPORTUARIA - OPERACAO INDUS...   \n",
       "1  MANUTENCAO EVOLUTIVA DE  SOFTWARE (ACRESCIMO D...   \n",
       "2  MANUTENCAO EVOLUTIVA DE  SOFTWARE (ACRESCIMO D...   \n",
       "3            DESENVOLVIMENTO DE NOVO SOFTWARE - JAVA   \n",
       "4  MANUTENCAO EVOLUTIVA DE  SOFTWARE (ACRESCIMO D...   \n",
       "\n",
       "                                           CATEGORIA  \n",
       "0                       SERVIÇO; '-9 - NAO SE APLICA  \n",
       "1  SERVIÇO; 111 - SERVIÇOS  DE DESENVOLVIMENTO E ...  \n",
       "2  SERVIÇO; 111 - SERVIÇOS  DE DESENVOLVIMENTO E ...  \n",
       "3  SERVIÇO; 111 - SERVIÇOS  DE DESENVOLVIMENTO E ...  \n",
       "4  SERVIÇO; 111 - SERVIÇOS  DE DESENVOLVIMENTO E ...  "
      ]
     },
     "metadata": {},
     "output_type": "display_data"
    },
    {
     "data": {
      "text/html": [
       "<pre style=\"white-space:pre;overflow-x:auto;line-height:normal;font-family:Menlo,'DejaVu Sans Mono',consolas,'Courier New',monospace\">\n",
       "Exemplos do conjunto de validação:\n",
       "</pre>\n"
      ],
      "text/plain": [
       "\n",
       "Exemplos do conjunto de validação:\n"
      ]
     },
     "metadata": {},
     "output_type": "display_data"
    },
    {
     "data": {
      "text/html": [
       "<div>\n",
       "<style scoped>\n",
       "    .dataframe tbody tr th:only-of-type {\n",
       "        vertical-align: middle;\n",
       "    }\n",
       "\n",
       "    .dataframe tbody tr th {\n",
       "        vertical-align: top;\n",
       "    }\n",
       "\n",
       "    .dataframe thead th {\n",
       "        text-align: right;\n",
       "    }\n",
       "</style>\n",
       "<table border=\"1\" class=\"dataframe\">\n",
       "  <thead>\n",
       "    <tr style=\"text-align: right;\">\n",
       "      <th></th>\n",
       "      <th>ITEM</th>\n",
       "      <th>CATEGORIA</th>\n",
       "    </tr>\n",
       "  </thead>\n",
       "  <tbody>\n",
       "    <tr>\n",
       "      <th>0</th>\n",
       "      <td>INFRA-ESTRUTURA AEROPORTUARIA - OPERACAO INDUS...</td>\n",
       "      <td>SERVIÇO; '-9 - NAO SE APLICA</td>\n",
       "    </tr>\n",
       "    <tr>\n",
       "      <th>1</th>\n",
       "      <td>MANUTENCAO EVOLUTIVA DE  SOFTWARE (ACRESCIMO D...</td>\n",
       "      <td>SERVIÇO; 111 - SERVIÇOS  DE DESENVOLVIMENTO E ...</td>\n",
       "    </tr>\n",
       "    <tr>\n",
       "      <th>2</th>\n",
       "      <td>MANUTENCAO EVOLUTIVA DE  SOFTWARE (ACRESCIMO D...</td>\n",
       "      <td>SERVIÇO; 111 - SERVIÇOS  DE DESENVOLVIMENTO E ...</td>\n",
       "    </tr>\n",
       "    <tr>\n",
       "      <th>3</th>\n",
       "      <td>DESENVOLVIMENTO E OU EVOLUCAO DE SOFTWATE - PY...</td>\n",
       "      <td>SERVIÇO; 111 - SERVIÇOS  DE DESENVOLVIMENTO E ...</td>\n",
       "    </tr>\n",
       "    <tr>\n",
       "      <th>4</th>\n",
       "      <td>DESENVOLVIMENTO E/OU EVOLUCAO DE SOFTWATE - OU...</td>\n",
       "      <td>SERVIÇO; 111 - SERVIÇOS  DE DESENVOLVIMENTO E ...</td>\n",
       "    </tr>\n",
       "  </tbody>\n",
       "</table>\n",
       "</div>"
      ],
      "text/plain": [
       "                                                ITEM  \\\n",
       "0  INFRA-ESTRUTURA AEROPORTUARIA - OPERACAO INDUS...   \n",
       "1  MANUTENCAO EVOLUTIVA DE  SOFTWARE (ACRESCIMO D...   \n",
       "2  MANUTENCAO EVOLUTIVA DE  SOFTWARE (ACRESCIMO D...   \n",
       "3  DESENVOLVIMENTO E OU EVOLUCAO DE SOFTWATE - PY...   \n",
       "4  DESENVOLVIMENTO E/OU EVOLUCAO DE SOFTWATE - OU...   \n",
       "\n",
       "                                           CATEGORIA  \n",
       "0                       SERVIÇO; '-9 - NAO SE APLICA  \n",
       "1  SERVIÇO; 111 - SERVIÇOS  DE DESENVOLVIMENTO E ...  \n",
       "2  SERVIÇO; 111 - SERVIÇOS  DE DESENVOLVIMENTO E ...  \n",
       "3  SERVIÇO; 111 - SERVIÇOS  DE DESENVOLVIMENTO E ...  \n",
       "4  SERVIÇO; 111 - SERVIÇOS  DE DESENVOLVIMENTO E ...  "
      ]
     },
     "metadata": {},
     "output_type": "display_data"
    },
    {
     "data": {
      "text/html": [
       "<pre style=\"white-space:pre;overflow-x:auto;line-height:normal;font-family:Menlo,'DejaVu Sans Mono',consolas,'Courier New',monospace\">\n",
       "Distribuição de itens por grupo <span style=\"font-weight: bold\">(</span>top <span style=\"color: #008080; text-decoration-color: #008080; font-weight: bold\">10</span><span style=\"font-weight: bold\">)</span>:\n",
       "</pre>\n"
      ],
      "text/plain": [
       "\n",
       "Distribuição de itens por grupo \u001b[1m(\u001b[0mtop \u001b[1;36m10\u001b[0m\u001b[1m)\u001b[0m:\n"
      ]
     },
     "metadata": {},
     "output_type": "display_data"
    },
    {
     "data": {
      "text/html": [
       "<div>\n",
       "<style scoped>\n",
       "    .dataframe tbody tr th:only-of-type {\n",
       "        vertical-align: middle;\n",
       "    }\n",
       "\n",
       "    .dataframe tbody tr th {\n",
       "        vertical-align: top;\n",
       "    }\n",
       "\n",
       "    .dataframe thead th {\n",
       "        text-align: right;\n",
       "    }\n",
       "</style>\n",
       "<table border=\"1\" class=\"dataframe\">\n",
       "  <thead>\n",
       "    <tr style=\"text-align: right;\">\n",
       "      <th></th>\n",
       "      <th>Treinamento</th>\n",
       "      <th>Validação</th>\n",
       "    </tr>\n",
       "    <tr>\n",
       "      <th>CATEGORIA</th>\n",
       "      <th></th>\n",
       "      <th></th>\n",
       "    </tr>\n",
       "  </thead>\n",
       "  <tbody>\n",
       "    <tr>\n",
       "      <th>SERVIÇO; '-9 - NAO SE APLICA</th>\n",
       "      <td>1</td>\n",
       "      <td>1</td>\n",
       "    </tr>\n",
       "    <tr>\n",
       "      <th>SERVIÇO; 111 - SERVIÇOS  DE DESENVOLVIMENTO E MANUTENÇÃO DE SOFTWARE</th>\n",
       "      <td>10</td>\n",
       "      <td>4</td>\n",
       "    </tr>\n",
       "    <tr>\n",
       "      <th>SERVIÇO; 112 - SERVIÇOS DE MANUTENÇÃO E SUSTENTAÇÃO DE SOFTWARE</th>\n",
       "      <td>1</td>\n",
       "      <td>1</td>\n",
       "    </tr>\n",
       "    <tr>\n",
       "      <th>SERVIÇO; 113 - SERVIÇOS DE DOCUMENTAÇÃO DE SOFTWARE</th>\n",
       "      <td>1</td>\n",
       "      <td>1</td>\n",
       "    </tr>\n",
       "    <tr>\n",
       "      <th>SERVIÇO; 114 - SERVIÇOS SE ENGENHARIA DE REQUISITOS DE SOFTWARE</th>\n",
       "      <td>1</td>\n",
       "      <td>1</td>\n",
       "    </tr>\n",
       "    <tr>\n",
       "      <th>SERVIÇO; 115 - SERVIÇOS DE MENSURAÇÃO DE SOFTWARE</th>\n",
       "      <td>1</td>\n",
       "      <td>1</td>\n",
       "    </tr>\n",
       "    <tr>\n",
       "      <th>SERVIÇO; 116 - SERVIÇOS DE QUALIDADE DE SOFTWARE</th>\n",
       "      <td>1</td>\n",
       "      <td>1</td>\n",
       "    </tr>\n",
       "    <tr>\n",
       "      <th>SERVIÇO; 117 - SERVIÇOS DE IMPLEMENTAÇÃO ÁGIL DE SOFTWARE</th>\n",
       "      <td>1</td>\n",
       "      <td>1</td>\n",
       "    </tr>\n",
       "    <tr>\n",
       "      <th>SERVIÇO; 131 - SERVIÇOS DE COMPUTAÇÃO EM NUVEM</th>\n",
       "      <td>2</td>\n",
       "      <td>1</td>\n",
       "    </tr>\n",
       "    <tr>\n",
       "      <th>SERVIÇO; 141 - SERVIÇOS DE TELEFONIA  FIXA COMUTADA  (STFC),  TELECOMUNICAÇÕES MÓVEIS (SMP) E TELECOMUNICAÇÕES SATELITAIS</th>\n",
       "      <td>41</td>\n",
       "      <td>14</td>\n",
       "    </tr>\n",
       "  </tbody>\n",
       "</table>\n",
       "</div>"
      ],
      "text/plain": [
       "                                                    Treinamento  Validação\n",
       "CATEGORIA                                                                 \n",
       "SERVIÇO; '-9 - NAO SE APLICA                                  1          1\n",
       "SERVIÇO; 111 - SERVIÇOS  DE DESENVOLVIMENTO E M...           10          4\n",
       "SERVIÇO; 112 - SERVIÇOS DE MANUTENÇÃO E SUSTENT...            1          1\n",
       "SERVIÇO; 113 - SERVIÇOS DE DOCUMENTAÇÃO DE SOFT...            1          1\n",
       "SERVIÇO; 114 - SERVIÇOS SE ENGENHARIA DE REQUIS...            1          1\n",
       "SERVIÇO; 115 - SERVIÇOS DE MENSURAÇÃO DE SOFTWARE             1          1\n",
       "SERVIÇO; 116 - SERVIÇOS DE QUALIDADE DE SOFTWARE              1          1\n",
       "SERVIÇO; 117 - SERVIÇOS DE IMPLEMENTAÇÃO ÁGIL D...            1          1\n",
       "SERVIÇO; 131 - SERVIÇOS DE COMPUTAÇÃO EM NUVEM                2          1\n",
       "SERVIÇO; 141 - SERVIÇOS DE TELEFONIA  FIXA COMU...           41         14"
      ]
     },
     "metadata": {},
     "output_type": "display_data"
    },
    {
     "data": {
      "text/html": [
       "<pre style=\"white-space:pre;overflow-x:auto;line-height:normal;font-family:Menlo,'DejaVu Sans Mono',consolas,'Courier New',monospace\">\n",
       "<span style=\"color: #808000; text-decoration-color: #808000; font-weight: bold\">Salvando resultados...</span>\n",
       "</pre>\n"
      ],
      "text/plain": [
       "\n",
       "\u001b[1;33mSalvando resultados\u001b[0m\u001b[1;33m...\u001b[0m\n"
      ]
     },
     "metadata": {},
     "output_type": "display_data"
    },
    {
     "data": {
      "text/html": [
       "<pre style=\"white-space:pre;overflow-x:auto;line-height:normal;font-family:Menlo,'DejaVu Sans Mono',consolas,'Courier New',monospace\"><span style=\"color: #008000; text-decoration-color: #008000; font-weight: bold\">Dados salvos em: C:\\Users\\Haroldo Duraes\\Desktop\\GOvGO\\v0\\#DATA\\PNCP\\CAT\\catser_grupo_datasets.xlsx</span>\n",
       "</pre>\n"
      ],
      "text/plain": [
       "\u001b[1;32mDados salvos em: C:\\Users\\Haroldo Duraes\\Desktop\\GOvGO\\v0\\#DATA\\PNCP\\CAT\\catser_grupo_datasets.xlsx\u001b[0m\n"
      ]
     },
     "metadata": {},
     "output_type": "display_data"
    }
   ],
   "source": [
    "# Fazer amostragem dos dados e divisão treino/validação\n",
    "console.print(\"\\n[bold yellow]Criando amostra representativa e divisão treino/validação...[/bold yellow]\")\n",
    "\n",
    "n = 100  # Máximo de itens por grupo\n",
    "p = 3    # Proporção para treinamento:validação (4:1)\n",
    "\n",
    "# Preparar os DataFrames finais\n",
    "training_df = pd.DataFrame(columns=['ITEM', 'CATEGORIA'])\n",
    "validation_df = pd.DataFrame(columns=['ITEM', 'CATEGORIA'])\n",
    "\n",
    "# Função para processar cada grupo\n",
    "def sample_and_split_group(group_name, group_data):\n",
    "    global training_df, validation_df\n",
    "    \n",
    "    # Se o grupo tem mais itens que n, fazer amostragem\n",
    "    if len(group_data) > n:\n",
    "        sampled_group = group_data.sample(n=n, random_state=42)\n",
    "    else:\n",
    "        sampled_group = group_data\n",
    "    \n",
    "    # Adicionar a categoria formatada\n",
    "    category = \"SERVIÇO; \" + group_name\n",
    "    \n",
    "    # Caso especial: grupo com apenas 1 item\n",
    "    if len(sampled_group) == 1:\n",
    "        # Adicionar o mesmo item em ambos os conjuntos\n",
    "        single_item = sampled_group['ITEM'].iloc[0]\n",
    "        \n",
    "        # Adicionar ao treinamento\n",
    "        train_data = pd.DataFrame({\n",
    "            'ITEM': [single_item],\n",
    "            'CATEGORIA': [category]\n",
    "        })\n",
    "        training_df = pd.concat([training_df, train_data], ignore_index=True)\n",
    "        \n",
    "        # Adicionar à validação\n",
    "        val_data = pd.DataFrame({\n",
    "            'ITEM': [single_item],\n",
    "            'CATEGORIA': [category]\n",
    "        })\n",
    "        validation_df = pd.concat([validation_df, val_data], ignore_index=True)\n",
    "        \n",
    "        \n",
    "    else:\n",
    "        # Caso normal: dividir na proporção p:1\n",
    "        total_items = len(sampled_group)\n",
    "        train_size = max(1, int(total_items * p / (p + 1)))  # Garantir pelo menos 1 item para treinamento\n",
    "        \n",
    "        # Embaralhar os dados antes de dividir\n",
    "        shuffled_group = sampled_group.sample(frac=1, random_state=42)\n",
    "        \n",
    "        # Dividir em treinamento e validação\n",
    "        train_items = shuffled_group.iloc[:train_size]\n",
    "        val_items = shuffled_group.iloc[train_size:]\n",
    "        \n",
    "        # Adicionar ao treinamento\n",
    "        train_data = pd.DataFrame({\n",
    "            'ITEM': train_items['ITEM'].tolist(),\n",
    "            'CATEGORIA': [category] * len(train_items)\n",
    "        })\n",
    "        training_df = pd.concat([training_df, train_data], ignore_index=True)\n",
    "        \n",
    "        # Adicionar à validação\n",
    "        val_data = pd.DataFrame({\n",
    "            'ITEM': val_items['ITEM'].tolist(),\n",
    "            'CATEGORIA': [category] * len(val_items)\n",
    "        })\n",
    "        validation_df = pd.concat([validation_df, val_data], ignore_index=True)\n",
    "    \n",
    "    return sampled_group  # Retorna o grupo amostrado para o sample_df\n",
    "\n",
    "\n",
    "# Criar sample_df para armazenar todos os itens amostrados\n",
    "sample_df = pd.DataFrame(columns=catser_df.columns)\n",
    "\n",
    "# Processar cada grupo\n",
    "for group_name, group_data in track(catser_df.groupby('GRUPO'), description=\"Processando grupos\"):\n",
    "    sampled_group = sample_and_split_group(group_name, group_data)\n",
    "    sample_df = pd.concat([sample_df, sampled_group], ignore_index=True)\n",
    "\n",
    "# Estatísticas sobre os conjuntos resultantes\n",
    "console.print(f\"\\n[green]DataFrame original: {catser_df.shape[0]} itens[/green]\")\n",
    "console.print(f\"[green]Amostra total: {sample_df.shape[0]} itens ({sample_df.shape[0]/catser_df.shape[0]*100:.2f}% do original)[/green]\")\n",
    "console.print(f\"[green]Conjunto de treinamento: {training_df.shape[0]} itens ({training_df.shape[0]/sample_df.shape[0]*100:.2f}% da amostra)[/green]\")\n",
    "console.print(f\"[green]Conjunto de validação: {validation_df.shape[0]} itens ({validation_df.shape[0]/sample_df.shape[0]*100:.2f}% da amostra)[/green]\")\n",
    "console.print(f\"[green]Proporção treinamento:validação = {training_df.shape[0]/validation_df.shape[0]:.2f}:1[/green]\")\n",
    "\n",
    "# Número de grupos\n",
    "num_grupos = training_df['CATEGORIA'].nunique()\n",
    "console.print(f\"[green]Número total de grupos: {num_grupos}[/green]\")\n",
    "\n",
    "# Exemplos\n",
    "console.print(\"\\nExemplos do conjunto de treinamento:\")\n",
    "display(training_df.head())\n",
    "\n",
    "console.print(\"\\nExemplos do conjunto de validação:\")\n",
    "display(validation_df.head())\n",
    "\n",
    "# Distribuição de grupos\n",
    "console.print(\"\\nDistribuição de itens por grupo (top 10):\")\n",
    "grupo_counts = pd.DataFrame({\n",
    "    'Treinamento': training_df['CATEGORIA'].value_counts(),\n",
    "    'Validação': validation_df['CATEGORIA'].value_counts()\n",
    "}).fillna(0).astype(int)\n",
    "\n",
    "display(grupo_counts.head(10))\n",
    "\n",
    "# Salvar resultados\n",
    "console.print(\"\\n[bold yellow]Salvando resultados...[/bold yellow]\")\n",
    "output_path = f\"{CAT_PATH}catser_datasets_nv1.xlsx\"\n",
    "\n",
    "with pd.ExcelWriter(output_path) as writer:\n",
    "    training_df.to_excel(writer, sheet_name=\"training\", index=False)\n",
    "    validation_df.to_excel(writer, sheet_name=\"validation\", index=False)\n",
    "    sample_df.to_excel(writer, sheet_name=\"sample\", index=False)\n",
    "\n",
    "console.print(f\"[bold green]Dados salvos em: {output_path}[/bold green]\")"
   ]
  }
 ],
 "metadata": {
  "kernelspec": {
   "display_name": "base",
   "language": "python",
   "name": "python3"
  },
  "language_info": {
   "codemirror_mode": {
    "name": "ipython",
    "version": 3
   },
   "file_extension": ".py",
   "mimetype": "text/x-python",
   "name": "python",
   "nbconvert_exporter": "python",
   "pygments_lexer": "ipython3",
   "version": "3.12.4"
  }
 },
 "nbformat": 4,
 "nbformat_minor": 2
}
