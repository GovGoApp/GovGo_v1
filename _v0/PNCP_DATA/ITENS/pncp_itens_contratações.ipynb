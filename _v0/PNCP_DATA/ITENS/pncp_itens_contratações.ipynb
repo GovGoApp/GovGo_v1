{
 "cells": [
  {
   "cell_type": "code",
   "execution_count": null,
   "metadata": {},
   "outputs": [],
   "source": [
    "import requests\n",
    "import pandas as pd\n",
    "import os\n",
    "import datetime\n",
    "import concurrent.futures\n",
    "import re\n",
    "import json\n",
    "import threading\n",
    "from rich.progress import Progress, BarColumn, TextColumn, TimeElapsedColumn, TimeRemainingColumn\n",
    "from openpyxl import Workbook\n",
    "from openpyxl.utils.dataframe import dataframe_to_rows\n",
    "\n",
    "PATH = \"C:\\\\Users\\\\Haroldo Duraes\\\\Desktop\\\\GOvGO\\\\v0\\\\#DATA\\\\PNCP\\\\\"\n",
    "IN_PATH = PATH + \"CONTRATAÇÕES\\\\\"\n",
    "OUT_PATH = PATH + \"ITENS\\\\\"\n",
    "IN_FILE = \"CONTRATAÇÕES_PNCP_01_2025.xlsx\"\n",
    "OUT_FILE = \"ITENS_CONTRATAÇÕES_PNCP_01_2025.xlsx\"\n",
    "\n",
    "# Lista de campos dos itens conforme o exemplo do arquivo itens.json (fixa)\n",
    "ITEM_FIELDS = [\n",
    "    \"numeroItem\",\n",
    "    \"descricao\",\n",
    "    \"materialOuServico\",\n",
    "    \"materialOuServicoNome\",\n",
    "    \"valorUnitarioEstimado\",\n",
    "    \"valorTotal\",\n",
    "    \"quantidade\",\n",
    "    \"unidadeMedida\",\n",
    "    \"orcamentoSigiloso\",\n",
    "    \"itemCategoriaId\",\n",
    "    \"itemCategoriaNome\",\n",
    "    \"patrimonio\",\n",
    "    \"codigoRegistroImobiliario\",\n",
    "    \"criterioJulgamentoId\",\n",
    "    \"criterioJulgamentoNome\",\n",
    "    \"situacaoCompraItem\",\n",
    "    \"situacaoCompraItemNome\",\n",
    "    \"tipoBeneficio\",\n",
    "    \"tipoBeneficioNome\",\n",
    "    \"incentivoProdutivoBasico\",\n",
    "    \"dataInclusao\",\n",
    "    \"dataAtualizacao\",\n",
    "    \"temResultado\",\n",
    "    \"imagem\",\n",
    "    \"aplicabilidadeMargemPreferenciaNormal\",\n",
    "    \"aplicabilidadeMargemPreferenciaAdicional\",\n",
    "    \"percentualMargemPreferenciaNormal\",\n",
    "    \"percentualMargemPreferenciaAdicional\",\n",
    "    \"ncmNbsCodigo\",\n",
    "    \"ncmNbsDescricao\",\n",
    "    \"catalogo\",\n",
    "    \"categoriaItemCatalogo\",\n",
    "    \"catalogoCodigoItem\",\n",
    "    \"informacaoComplementar\"\n",
    "]\n",
    "\n",
    "def remove_illegal_chars(value):\n",
    "    if isinstance(value, str):\n",
    "        return re.sub(r'[\\x00-\\x08\\x0b\\x0c\\x0e-\\x1f]', '', value)\n",
    "    return value\n",
    "\n",
    "def clean_dataframe(df):\n",
    "    return df.apply(lambda col: col.map(remove_illegal_chars))\n",
    "\n",
    "# Processa uma linha usando apenas o campo \"numeroControlePNCP\".\n",
    "def process_row(row):\n",
    "    numeroControle = str(row.get(\"numeroControlePNCP\", \"\")).strip()\n",
    "    if not numeroControle:\n",
    "        return []\n",
    "    try:\n",
    "        # Tentar reconhecer o formato pelo padrão esperado\n",
    "        if not re.match(r'^\\d+-\\d+-\\d+/\\d+$', numeroControle):\n",
    "            # Formato inválido, pular silenciosamente\n",
    "            return []\n",
    "            \n",
    "        # Resto do código permanece o mesmo...\n",
    "        parts = numeroControle.split(\"-\")\n",
    "        if len(parts) != 3:\n",
    "            return []\n",
    "        cnpj = parts[0]\n",
    "        # Ignora o prefixo (parts[1])\n",
    "        seq_and_year = parts[2].split(\"/\")\n",
    "        if len(seq_and_year) != 2:\n",
    "            return []\n",
    "        seq = seq_and_year[0]\n",
    "        anoCompra = seq_and_year[1]\n",
    "        # Remove zeros à esquerda do sequencial\n",
    "        sequencialCompra = str(int(seq))\n",
    "        # Monta a URL:\n",
    "        url = f\"https://pncp.gov.br/api/pncp//v1/orgaos/{cnpj}/compras/{anoCompra}/{sequencialCompra}/itens\"\n",
    "        # Definindo timeout para evitar travamentos\n",
    "        response = requests.get(url, timeout=20)\n",
    "        if response.status_code != 200:\n",
    "            return []\n",
    "        itens = response.json()  # espera-se que seja uma lista\n",
    "        resultados = []\n",
    "        for item in itens:\n",
    "            registro = {\"numeroControlePNCP\": numeroControle}\n",
    "            for campo in ITEM_FIELDS:\n",
    "                registro[campo] = item.get(campo)\n",
    "            resultados.append(registro)\n",
    "        return resultados\n",
    "    except requests.exceptions.Timeout:\n",
    "        return []\n",
    "    except Exception as e:\n",
    "        return [{\"numeroControlePNCP\": numeroControle, \"erro\": str(e)}]\n",
    "\n",
    "# Processa uma aba (sheet) do IN_FILE.\n",
    "def process_sheet(sheet_name, df, progress):\n",
    "    # Remove linhas totalmente vazias\n",
    "    df = df.dropna(how=\"all\")\n",
    "    progress.console.log(f\"Sheet '{sheet_name}' lida com {len(df)} linhas.\")\n",
    "    resultados = []\n",
    "    total_rows = len(df)\n",
    "    task_id = progress.add_task(f\"[bold yellow]  {sheet_name} (contratações)\", total=total_rows)\n",
    "\n",
    "    with concurrent.futures.ThreadPoolExecutor(max_workers=10) as executor:\n",
    "        future_to_index = {executor.submit(process_row, row): idx for idx, row in df.iterrows()}\n",
    "        for future in concurrent.futures.as_completed(future_to_index):\n",
    "            try:\n",
    "                linhas = future.result()\n",
    "                for linha in linhas:\n",
    "                    if 'erro' in linha:\n",
    "                        progress.console.log(f\"[red]Erro linha '{linha['numeroControlePNCP']}': {linha['erro']}\")\n",
    "                    else:\n",
    "                        resultados.append(linha)\n",
    "            except Exception as e:\n",
    "                progress.console.log(f\"[red]Erro inesperado na execução da thread: {str(e)}\")\n",
    "            progress.update(task_id, advance=1)\n",
    "\n",
    "    progress.remove_task(task_id)\n",
    "\n",
    "    colunas_saida = [\"numeroControlePNCP\"] + ITEM_FIELDS\n",
    "    if resultados:\n",
    "        sheet_df = pd.DataFrame(resultados)\n",
    "        sheet_df = clean_dataframe(sheet_df)\n",
    "        sheet_df = sheet_df.reindex(columns=colunas_saida)\n",
    "    else:\n",
    "        sheet_df = pd.DataFrame(columns=colunas_saida)\n",
    "\n",
    "    return sheet_df\n",
    "\n",
    "# Variáveis globais para escrita imediata\n",
    "workbook_lock = threading.Lock()\n",
    "# Cria um novo workbook e remove a folha padrão.\n",
    "wb = Workbook()\n",
    "wb.remove(wb.active)\n",
    "\n",
    "def write_sheet(sheet_name, df, output_file, progress):\n",
    "    with workbook_lock:\n",
    "        # Se a aba já existir, removê-la.\n",
    "        if sheet_name in wb.sheetnames:\n",
    "            ws = wb[sheet_name]\n",
    "            wb.remove(ws)\n",
    "        ws = wb.create_sheet(title=sheet_name)\n",
    "        from openpyxl.utils.dataframe import dataframe_to_rows\n",
    "        for r in dataframe_to_rows(df, index=False, header=True):\n",
    "            ws.append(r)\n",
    "        wb.save(output_file)\n",
    "        progress.console.log(f\"Sheet '{sheet_name}' gravada com {len(df)} linhas.\")\n",
    "\n",
    "\n"
   ]
  },
  {
   "cell_type": "code",
   "execution_count": null,
   "metadata": {},
   "outputs": [],
   "source": [
    "def debug_sheet(sheet_name):\n",
    "    \"\"\"Função para testar apenas uma aba específica\"\"\"\n",
    "    xls = pd.ExcelFile(IN_PATH + IN_FILE)\n",
    "    \n",
    "    if sheet_name not in xls.sheet_names:\n",
    "        print(f\"Aba '{sheet_name}' não encontrada no arquivo!\")\n",
    "        return\n",
    "    \n",
    "    df_sheet = pd.read_excel(xls, sheet_name=sheet_name)\n",
    "    print(f\"Aba '{sheet_name}' carregada com {len(df_sheet)} linhas.\")\n",
    "    \n",
    "    # Verifique e mostre os primeiros registros para analisar\n",
    "    print(\"\\nPrimeiros 5 registros:\")\n",
    "    print(df_sheet.head())\n",
    "    \n",
    "    # Verificar números de controle\n",
    "    print(\"\\nVerificando números de controle...\")\n",
    "    invalid_controls = []\n",
    "    for idx, row in df_sheet.iterrows():\n",
    "        num_controle = str(row.get(\"numeroControlePNCP\", \"\")).strip()\n",
    "        if num_controle and not re.match(r'^\\d+-\\d+-\\d+/\\d+$', num_controle):\n",
    "            invalid_controls.append((idx, num_controle))\n",
    "    \n",
    "    if invalid_controls:\n",
    "        print(f\"Encontrados {len(invalid_controls)} números de controle com formato inválido:\")\n",
    "        for idx, ctrl in invalid_controls[:10]:\n",
    "            print(f\"  Linha {idx}: '{ctrl}'\")\n",
    "    else:\n",
    "        print(\"Todos os números de controle têm formato válido.\")\n",
    "    \n",
    "    # Adicione mais verificações conforme necessário..."
   ]
  },
  {
   "cell_type": "code",
   "execution_count": null,
   "metadata": {},
   "outputs": [],
   "source": [
    "def main():\n",
    "    # Lê o arquivo Excel com todas as abas\n",
    "    xls = pd.ExcelFile(IN_PATH + IN_FILE)\n",
    "    sheets = xls.sheet_names  # Lista de abas\n",
    "    \n",
    "    # Cria uma instância global de Progress (Rich) com colunas customizadas\n",
    "    progress = Progress(\n",
    "        TextColumn(\"[bold yellow]{task.description}\"),\n",
    "        BarColumn(complete_style=\"green\", finished_style=\"bright_green\"),\n",
    "        \"[progress.percentage]{task.percentage:>3.0f}%\",\n",
    "        TimeElapsedColumn(),\n",
    "        TimeRemainingColumn(),\n",
    "    )\n",
    "    \n",
    "    with progress:\n",
    "        # Task externa: Batch de abas\n",
    "        outer_task = progress.add_task(\"[bold green]Batch mensal\", total=len(sheets))\n",
    "        with concurrent.futures.ThreadPoolExecutor(max_workers=13) as executor:\n",
    "            future_to_sheet = {}\n",
    "            for sheet in sheets:\n",
    "                df_sheet = pd.read_excel(xls, sheet_name=sheet)\n",
    "                future = executor.submit(process_sheet, sheet, df_sheet, progress)\n",
    "                future_to_sheet[future] = sheet\n",
    "            for future in concurrent.futures.as_completed(future_to_sheet):\n",
    "                sheet = future_to_sheet[future]\n",
    "                try:\n",
    "                    sheet_df = future.result()\n",
    "                    # Escreve imediatamente esta aba no arquivo de saída\n",
    "                    write_sheet(sheet, sheet_df, OUT_PATH + OUT_FILE, progress)\n",
    "                except Exception as e:\n",
    "                    # Salvando o dataframe problemático para análise\n",
    "                    try:\n",
    "                        progress.console.log(f\"[red]Erro ao processar a aba '{sheet}': {str(e)}\")\n",
    "                        \n",
    "                        # Salvar o dataframe da aba com problema para análise\n",
    "                        df_problematico = pd.read_excel(xls, sheet_name=sheet)\n",
    "                        debug_file = OUT_PATH + f\"DEBUG_{sheet}_data.xlsx\"\n",
    "                        df_problematico.to_excel(debug_file, index=False)\n",
    "                        progress.console.log(f\"[yellow]DataFrame da aba '{sheet}' salvo em {debug_file} para análise\")\n",
    "                        \n",
    "                        # Verificar se há números de controle com formato inválido\n",
    "                        invalid_controls = []\n",
    "                        for idx, row in df_problematico.iterrows():\n",
    "                            num_controle = str(row.get(\"numeroControlePNCP\", \"\")).strip()\n",
    "                            if num_controle and not re.match(r'^\\d+-\\d+-\\d+/\\d+$', num_controle):\n",
    "                                invalid_controls.append((idx, num_controle))\n",
    "                        \n",
    "                        if invalid_controls:\n",
    "                            progress.console.log(f\"[yellow]Encontrados {len(invalid_controls)} números de controle com formato inválido:\")\n",
    "                            for idx, ctrl in invalid_controls[:5]:  # mostrar apenas os primeiros 5\n",
    "                                progress.console.log(f\"  Linha {idx}: '{ctrl}'\")\n",
    "                            if len(invalid_controls) > 5:\n",
    "                                progress.console.log(f\"  ... (mais {len(invalid_controls)-5} registros)\")\n",
    "                    except Exception as inner_e:\n",
    "                        progress.console.log(f\"[red]Erro ao tentar diagnosticar problema: {str(inner_e)}\")\n",
    "                finally:\n",
    "                    progress.update(outer_task, advance=1)\n",
    "        progress.remove_task(outer_task)\n",
    "    \n",
    "    print(\"\\nPlanilha de itens consolidada salva em:\", OUT_FILE)"
   ]
  },
  {
   "cell_type": "code",
   "execution_count": 8,
   "metadata": {},
   "outputs": [
    {
     "data": {
      "application/vnd.jupyter.widget-view+json": {
       "model_id": "9124b4922c47436185c9b410f8f1d2e0",
       "version_major": 2,
       "version_minor": 0
      },
      "text/plain": [
       "Output()"
      ]
     },
     "metadata": {},
     "output_type": "display_data"
    },
    {
     "data": {
      "text/html": [
       "<pre style=\"white-space:pre;overflow-x:auto;line-height:normal;font-family:Menlo,'DejaVu Sans Mono',consolas,'Courier New',monospace\"><span style=\"color: #7fbfbf; text-decoration-color: #7fbfbf\">[19:23:27] </span>Sheet <span style=\"color: #008000; text-decoration-color: #008000\">'2025-03'</span> lida com <span style=\"color: #008080; text-decoration-color: #008080; font-weight: bold\">35185</span> linhas.                                                 <span style=\"color: #7f7f7f; text-decoration-color: #7f7f7f\">1982207204.py:112</span>\n",
       "</pre>\n"
      ],
      "text/plain": [
       "\u001b[2;36m[19:23:27]\u001b[0m\u001b[2;36m \u001b[0mSheet \u001b[32m'2025-03'\u001b[0m lida com \u001b[1;36m35185\u001b[0m linhas.                                                 \u001b[2m1982207204.py\u001b[0m\u001b[2m:\u001b[0m\u001b[2m112\u001b[0m\n"
      ]
     },
     "metadata": {},
     "output_type": "display_data"
    },
    {
     "data": {
      "text/html": [
       "<pre style=\"white-space:pre;overflow-x:auto;line-height:normal;font-family:Menlo,'DejaVu Sans Mono',consolas,'Courier New',monospace\"><span style=\"color: #7fbfbf; text-decoration-color: #7fbfbf\">[19:52:27] </span><span style=\"color: #800000; text-decoration-color: #800000\">Erro ao processar a aba </span><span style=\"color: #800000; text-decoration-color: #800000\">'2025-03'</span><span style=\"color: #800000; text-decoration-color: #800000\">: Cannot convert </span><span style=\"color: #800000; text-decoration-color: #800000; font-weight: bold\">{</span><span style=\"color: #800000; text-decoration-color: #800000\">'id'</span><span style=\"color: #800000; text-decoration-color: #800000\">: </span><span style=\"color: #800000; text-decoration-color: #800000; font-weight: bold\">1</span><span style=\"color: #800000; text-decoration-color: #800000\">, </span><span style=\"color: #800000; text-decoration-color: #800000\">'nome'</span><span style=\"color: #800000; text-decoration-color: #800000\">: </span><span style=\"color: #800000; text-decoration-color: #800000\">'Catálogo do </span>        <span style=\"color: #7f7f7f; text-decoration-color: #7f7f7f\">566466200.py:33</span>\n",
       "<span style=\"color: #7fbfbf; text-decoration-color: #7fbfbf\">           </span><span style=\"color: #800000; text-decoration-color: #800000\">Compras.gov.br'</span><span style=\"color: #800000; text-decoration-color: #800000\">, </span><span style=\"color: #800000; text-decoration-color: #800000\">'descricao'</span><span style=\"color: #800000; text-decoration-color: #800000\">: </span><span style=\"color: #800000; text-decoration-color: #800000\">'Catálogo de bens e serviços do Compras.gov.br'</span><span style=\"color: #800000; text-decoration-color: #800000\">, </span>          <span style=\"color: #7f7f7f; text-decoration-color: #7f7f7f\">               </span>\n",
       "<span style=\"color: #7fbfbf; text-decoration-color: #7fbfbf\">           </span><span style=\"color: #800000; text-decoration-color: #800000\">'dataInclusao'</span><span style=\"color: #800000; text-decoration-color: #800000\">: </span><span style=\"color: #800000; text-decoration-color: #800000\">'2021-12-22T20:10:19'</span><span style=\"color: #800000; text-decoration-color: #800000\">, </span><span style=\"color: #800000; text-decoration-color: #800000\">'dataAtualizacao'</span><span style=\"color: #800000; text-decoration-color: #800000\">: </span><span style=\"color: #800000; text-decoration-color: #800000\">'2024-11-13T21:21:13'</span><span style=\"color: #800000; text-decoration-color: #800000\">, </span>        <span style=\"color: #7f7f7f; text-decoration-color: #7f7f7f\">               </span>\n",
       "<span style=\"color: #7fbfbf; text-decoration-color: #7fbfbf\">           </span><span style=\"color: #800000; text-decoration-color: #800000\">'statusAtivo'</span><span style=\"color: #800000; text-decoration-color: #800000\">: </span><span style=\"color: #800000; text-decoration-color: #800000; font-style: italic\">True</span><span style=\"color: #800000; text-decoration-color: #800000\">, </span><span style=\"color: #800000; text-decoration-color: #800000\">'url'</span><span style=\"color: #800000; text-decoration-color: #800000\">: </span><span style=\"color: #800000; text-decoration-color: #800000\">'https://catalogo.compras.gov.br/cnbs-web/busca'</span><span style=\"color: #800000; text-decoration-color: #800000; font-weight: bold\">}</span><span style=\"color: #800000; text-decoration-color: #800000\"> to Excel</span>   <span style=\"color: #7f7f7f; text-decoration-color: #7f7f7f\">               </span>\n",
       "</pre>\n"
      ],
      "text/plain": [
       "\u001b[2;36m[19:52:27]\u001b[0m\u001b[2;36m \u001b[0m\u001b[31mErro ao processar a aba \u001b[0m\u001b[31m'2025-03'\u001b[0m\u001b[31m: Cannot convert \u001b[0m\u001b[1;31m{\u001b[0m\u001b[31m'id'\u001b[0m\u001b[31m: \u001b[0m\u001b[1;31m1\u001b[0m\u001b[31m, \u001b[0m\u001b[31m'nome'\u001b[0m\u001b[31m: \u001b[0m\u001b[31m'Catálogo do \u001b[0m        \u001b[2m566466200.py\u001b[0m\u001b[2m:\u001b[0m\u001b[2m33\u001b[0m\n",
       "\u001b[2;36m           \u001b[0m\u001b[31mCompras.gov.br'\u001b[0m\u001b[31m, \u001b[0m\u001b[31m'descricao'\u001b[0m\u001b[31m: \u001b[0m\u001b[31m'Catálogo de bens e serviços do Compras.gov.br'\u001b[0m\u001b[31m, \u001b[0m          \u001b[2m               \u001b[0m\n",
       "\u001b[2;36m           \u001b[0m\u001b[31m'dataInclusao'\u001b[0m\u001b[31m: \u001b[0m\u001b[31m'2021-12-22T20:10:19'\u001b[0m\u001b[31m, \u001b[0m\u001b[31m'dataAtualizacao'\u001b[0m\u001b[31m: \u001b[0m\u001b[31m'2024-11-13T21:21:13'\u001b[0m\u001b[31m, \u001b[0m        \u001b[2m               \u001b[0m\n",
       "\u001b[2;36m           \u001b[0m\u001b[31m'statusAtivo'\u001b[0m\u001b[31m: \u001b[0m\u001b[3;31mTrue\u001b[0m\u001b[31m, \u001b[0m\u001b[31m'url'\u001b[0m\u001b[31m: \u001b[0m\u001b[31m'https://catalogo.compras.gov.br/cnbs-web/busca'\u001b[0m\u001b[1;31m}\u001b[0m\u001b[31m to Excel\u001b[0m   \u001b[2m               \u001b[0m\n"
      ]
     },
     "metadata": {},
     "output_type": "display_data"
    },
    {
     "data": {
      "text/html": [
       "<pre style=\"white-space:pre;overflow-x:auto;line-height:normal;font-family:Menlo,'DejaVu Sans Mono',consolas,'Courier New',monospace\"><span style=\"color: #7fbfbf; text-decoration-color: #7fbfbf\">[19:52:54] </span><span style=\"color: #808000; text-decoration-color: #808000\">DataFrame da aba </span><span style=\"color: #808000; text-decoration-color: #808000\">'2025-03'</span><span style=\"color: #808000; text-decoration-color: #808000\"> salvo em C:\\Users\\Haroldo </span>                                    <span style=\"color: #7f7f7f; text-decoration-color: #7f7f7f\">566466200.py:39</span>\n",
       "<span style=\"color: #7fbfbf; text-decoration-color: #7fbfbf\">           </span><span style=\"color: #808000; text-decoration-color: #808000\">Duraes\\Desktop\\GOvGO\\v0\\#DATA\\PNCP\\ITENS\\DEBUG_2025-03_data.xlsx para análise</span>            <span style=\"color: #7f7f7f; text-decoration-color: #7f7f7f\">               </span>\n",
       "</pre>\n"
      ],
      "text/plain": [
       "\u001b[2;36m[19:52:54]\u001b[0m\u001b[2;36m \u001b[0m\u001b[33mDataFrame da aba \u001b[0m\u001b[33m'2025-03'\u001b[0m\u001b[33m salvo em C:\\Users\\Haroldo \u001b[0m                                    \u001b[2m566466200.py\u001b[0m\u001b[2m:\u001b[0m\u001b[2m39\u001b[0m\n",
       "\u001b[2;36m           \u001b[0m\u001b[33mDuraes\\Desktop\\GOvGO\\v0\\#DATA\\PNCP\\ITENS\\DEBUG_2025-03_data.xlsx para análise\u001b[0m            \u001b[2m               \u001b[0m\n"
      ]
     },
     "metadata": {},
     "output_type": "display_data"
    },
    {
     "data": {
      "text/html": [
       "<pre style=\"white-space:pre;overflow-x:auto;line-height:normal;font-family:Menlo,'DejaVu Sans Mono',consolas,'Courier New',monospace\"></pre>\n"
      ],
      "text/plain": []
     },
     "metadata": {},
     "output_type": "display_data"
    },
    {
     "name": "stdout",
     "output_type": "stream",
     "text": [
      "\n",
      "Planilha de itens consolidada salva em: ITENS_CONTRATAÇÕES_PNCP_01_2025.xlsx\n"
     ]
    }
   ],
   "source": [
    "\n",
    "if __name__ == \"__main__\":\n",
    "    main()"
   ]
  },
  {
   "cell_type": "code",
   "execution_count": 9,
   "metadata": {},
   "outputs": [
    {
     "ename": "NameError",
     "evalue": "name 'df' is not defined",
     "output_type": "error",
     "traceback": [
      "\u001b[1;31m---------------------------------------------------------------------------\u001b[0m",
      "\u001b[1;31mNameError\u001b[0m                                 Traceback (most recent call last)",
      "Cell \u001b[1;32mIn[9], line 1\u001b[0m\n\u001b[1;32m----> 1\u001b[0m df\n",
      "\u001b[1;31mNameError\u001b[0m: name 'df' is not defined"
     ]
    }
   ],
   "source": [
    "df"
   ]
  }
 ],
 "metadata": {
  "kernelspec": {
   "display_name": "base",
   "language": "python",
   "name": "python3"
  },
  "language_info": {
   "codemirror_mode": {
    "name": "ipython",
    "version": 3
   },
   "file_extension": ".py",
   "mimetype": "text/x-python",
   "name": "python",
   "nbconvert_exporter": "python",
   "pygments_lexer": "ipython3",
   "version": "3.12.4"
  }
 },
 "nbformat": 4,
 "nbformat_minor": 2
}
