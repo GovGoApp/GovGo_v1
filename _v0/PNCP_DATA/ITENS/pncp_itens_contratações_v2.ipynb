{
 "cells": [
  {
   "cell_type": "code",
   "execution_count": 7,
   "metadata": {},
   "outputs": [],
   "source": [
    "import requests\n",
    "import pandas as pd\n",
    "import os\n",
    "import datetime\n",
    "import concurrent.futures\n",
    "import re\n",
    "import json\n",
    "import threading\n",
    "from rich.progress import Progress, BarColumn, TextColumn, TimeElapsedColumn, TimeRemainingColumn\n",
    "import openpyxl\n",
    "from openpyxl import Workbook\n",
    "from openpyxl.utils.dataframe import dataframe_to_rows\n",
    "\n",
    "PATH = \"C:\\\\Users\\\\Haroldo Duraes\\\\Desktop\\\\GOvGO\\\\v0\\\\#DATA\\\\PNCP\\\\\"\n",
    "IN_PATH = PATH + \"CONTRATAÇÕES\\\\\"\n",
    "OUT_PATH = PATH + \"ITENS\\\\\"\n",
    "IN_FILE = \"CONTRATAÇÕES_PNCP_02_2025.xlsx\"\n",
    "OUT_FILE = \"ITENS_CONTRATAÇÕES_PNCP_02_2025.xlsx\"\n",
    "\n",
    "# Variáveis globais para escrita imediata\n",
    "workbook_lock = threading.Lock()\n",
    "# Cria um novo workbook e remove a folha padrão.\n",
    "wb = Workbook()\n",
    "wb.remove(wb.active)\n",
    "\n",
    "# Lista de campos dos itens conforme o exemplo do arquivo itens.json (fixa)\n",
    "ITEM_FIELDS = [\n",
    "    \"numeroItem\",\n",
    "    \"descricao\",\n",
    "    \"materialOuServico\",\n",
    "    \"materialOuServicoNome\",\n",
    "    \"valorUnitarioEstimado\",\n",
    "    \"valorTotal\",\n",
    "    \"quantidade\",\n",
    "    \"unidadeMedida\",\n",
    "    \"orcamentoSigiloso\",\n",
    "    \"itemCategoriaId\",\n",
    "    \"itemCategoriaNome\",\n",
    "    \"patrimonio\",\n",
    "    \"codigoRegistroImobiliario\",\n",
    "    \"criterioJulgamentoId\",\n",
    "    \"criterioJulgamentoNome\",\n",
    "    \"situacaoCompraItem\",\n",
    "    \"situacaoCompraItemNome\",\n",
    "    \"tipoBeneficio\",\n",
    "    \"tipoBeneficioNome\",\n",
    "    \"incentivoProdutivoBasico\",\n",
    "    \"dataInclusao\",\n",
    "    \"dataAtualizacao\",\n",
    "    \"temResultado\",\n",
    "    \"imagem\",\n",
    "    \"aplicabilidadeMargemPreferenciaNormal\",\n",
    "    \"aplicabilidadeMargemPreferenciaAdicional\",\n",
    "    \"percentualMargemPreferenciaNormal\",\n",
    "    \"percentualMargemPreferenciaAdicional\",\n",
    "    \"ncmNbsCodigo\",\n",
    "    \"ncmNbsDescricao\",\n",
    "    \"catalogo\",\n",
    "    \"categoriaItemCatalogo\",\n",
    "    \"catalogoCodigoItem\",\n",
    "    \"informacaoComplementar\"\n",
    "]\n"
   ]
  },
  {
   "cell_type": "code",
   "execution_count": 8,
   "metadata": {},
   "outputs": [],
   "source": [
    "\n",
    "def remove_illegal_chars(value):\n",
    "    if isinstance(value, str):\n",
    "        return re.sub(r'[\\x00-\\x08\\x0b\\x0c\\x0e-\\x1f]', '', value)\n",
    "    return value\n",
    "\n",
    "def clean_dataframe(df):\n",
    "    return df.apply(lambda col: col.map(remove_illegal_chars))\n",
    "\n",
    "# Processa uma linha usando apenas o campo \"numeroControlePNCP\".\n",
    "def process_row(row):\n",
    "    numeroControle = str(row.get(\"numeroControlePNCP\", \"\")).strip()\n",
    "    if not numeroControle:\n",
    "        return []\n",
    "    try:\n",
    "        # Tentar reconhecer o formato pelo padrão esperado\n",
    "        if not re.match(r'^\\d+-\\d+-\\d+/\\d+$', numeroControle):\n",
    "            # Formato inválido, pular silenciosamente\n",
    "            return []\n",
    "            \n",
    "        # Resto do código permanece o mesmo...\n",
    "        parts = numeroControle.split(\"-\")\n",
    "        if len(parts) != 3:\n",
    "            return []\n",
    "        cnpj = parts[0]\n",
    "        # Ignora o prefixo (parts[1])\n",
    "        seq_and_year = parts[2].split(\"/\")\n",
    "        if len(seq_and_year) != 2:\n",
    "            return []\n",
    "        seq = seq_and_year[0]\n",
    "        anoCompra = seq_and_year[1]\n",
    "        # Remove zeros à esquerda do sequencial\n",
    "        sequencialCompra = str(int(seq))\n",
    "        # Monta a URL:\n",
    "        url = f\"https://pncp.gov.br/api/pncp//v1/orgaos/{cnpj}/compras/{anoCompra}/{sequencialCompra}/itens\"\n",
    "        # Definindo timeout para evitar travamentos\n",
    "        response = requests.get(url, timeout=20)\n",
    "        if response.status_code != 200:\n",
    "            return []\n",
    "        itens = response.json()  # espera-se que seja uma lista\n",
    "        resultados = []\n",
    "        for item in itens:\n",
    "            registro = {\"numeroControlePNCP\": numeroControle}\n",
    "            for campo in ITEM_FIELDS:\n",
    "                valor = item.get(campo)\n",
    "                # Converter dicionários e listas para string JSON\n",
    "                if isinstance(valor, (dict, list)):\n",
    "                    registro[campo] = json.dumps(valor, ensure_ascii=False)\n",
    "                else:\n",
    "                    registro[campo] = valor\n",
    "            resultados.append(registro)\n",
    "        return resultados\n",
    "    except requests.exceptions.Timeout:\n",
    "        return []\n",
    "    except Exception as e:\n",
    "        return [{\"numeroControlePNCP\": numeroControle, \"erro\": str(e)}]\n",
    "    \n",
    "    \n",
    "# Processa uma aba (sheet) do IN_FILE.\n",
    "def process_sheet(sheet_name, df, progress):\n",
    "    # Remove linhas totalmente vazias\n",
    "    df = df.dropna(how=\"all\")\n",
    "    progress.console.log(f\"Sheet '{sheet_name}' lida com {len(df)} linhas.\")\n",
    "    \n",
    "    total_rows = len(df)\n",
    "    sheet_task_id = progress.add_task(f\"[bold blue]Aba {sheet_name}\", total=total_rows)\n",
    "    \n",
    "    # Dividir o processamento em blocos de 1000 linhas\n",
    "    BATCH_SIZE = 1000\n",
    "    resultados_totais = 0\n",
    "    \n",
    "    for start_idx in range(0, total_rows, BATCH_SIZE):\n",
    "        end_idx = min(start_idx + BATCH_SIZE, total_rows)\n",
    "        batch_df = df.iloc[start_idx:end_idx]\n",
    "        batch_size = len(batch_df)\n",
    "        \n",
    "        # Adicionar barra para o batch atual\n",
    "        batch_id = progress.add_task(\n",
    "            f\"[bold yellow]  Batch {start_idx//BATCH_SIZE + 1} ({start_idx+1}-{end_idx})\", \n",
    "            total=batch_size\n",
    "        )\n",
    "        \n",
    "        resultados = []\n",
    "        \n",
    "        # Processar o lote atual\n",
    "        with concurrent.futures.ThreadPoolExecutor(max_workers=10) as executor:\n",
    "            future_to_index = {executor.submit(process_row, row): idx for idx, row in batch_df.iterrows()}\n",
    "            for future in concurrent.futures.as_completed(future_to_index):\n",
    "                try:\n",
    "                    linhas = future.result()\n",
    "                    for linha in linhas:\n",
    "                        if 'erro' in linha:\n",
    "                            progress.console.log(f\"[red]Erro linha '{linha['numeroControlePNCP']}': {linha['erro']}\")\n",
    "                        else:\n",
    "                            resultados.append(linha)\n",
    "                except Exception as e:\n",
    "                    progress.console.log(f\"[red]Erro inesperado na execução da thread: {str(e)}\")\n",
    "                \n",
    "                # Atualizar ambas as barras de progresso\n",
    "                progress.update(batch_id, advance=1)\n",
    "                progress.update(sheet_task_id, advance=1)\n",
    "        \n",
    "        # Criar DataFrame para o lote atual\n",
    "        colunas_saida = [\"numeroControlePNCP\"] + ITEM_FIELDS\n",
    "        if resultados:\n",
    "            batch_result_df = pd.DataFrame(resultados)\n",
    "            batch_result_df = clean_dataframe(batch_result_df)\n",
    "            batch_result_df = batch_result_df.reindex(columns=colunas_saida)\n",
    "            \n",
    "            # Salvar o lote atual e liberar memória\n",
    "            append_to_sheet(sheet_name, batch_result_df, OUT_PATH + OUT_FILE, progress)\n",
    "            resultados_totais += len(batch_result_df)\n",
    "            \n",
    "            # Remover a barra do batch concluído\n",
    "            progress.remove_task(batch_id)\n",
    "            progress.console.log(f\"[green]✓ Batch {start_idx//BATCH_SIZE + 1}: {len(batch_result_df)} itens ({resultados_totais} total)\")\n",
    "            \n",
    "            # Liberar memória\n",
    "            del batch_result_df\n",
    "            del resultados\n",
    "        else:\n",
    "            progress.remove_task(batch_id)\n",
    "            progress.console.log(f\"[yellow]⚠ Batch {start_idx//BATCH_SIZE + 1}: Sem resultados\")\n",
    "    \n",
    "    progress.remove_task(sheet_task_id)\n",
    "    progress.console.log(f\"[bold green]✅ Concluída a aba {sheet_name} com {resultados_totais} itens\")\n",
    "    \n",
    "    # Retornar uma estrutura vazia apenas para manter compatibilidade\n",
    "    return pd.DataFrame(columns=colunas_saida)\n",
    "\n",
    "# Função para acrescentar dados em uma aba sem recarregar todo o arquivo\n",
    "def append_to_sheet(sheet_name, df, output_file, progress):\n",
    "    with workbook_lock:\n",
    "        # Verifica se o arquivo existe\n",
    "        if not os.path.exists(output_file):\n",
    "            # Se não existe, cria um novo arquivo\n",
    "            temp_wb = Workbook()\n",
    "            # Sempre remover a primeira aba em branco\n",
    "            if \"Sheet\" in temp_wb.sheetnames:\n",
    "                temp_wb.remove(temp_wb[\"Sheet\"])\n",
    "            ws = temp_wb.create_sheet(title=sheet_name)\n",
    "            # Adiciona cabeçalhos\n",
    "            headers_added = False\n",
    "        else:\n",
    "            # Se existe, carrega o arquivo\n",
    "            try:\n",
    "                temp_wb = openpyxl.load_workbook(output_file)\n",
    "                if sheet_name in temp_wb.sheetnames:\n",
    "                    ws = temp_wb[sheet_name]\n",
    "                    headers_added = True\n",
    "                else:\n",
    "                    ws = temp_wb.create_sheet(title=sheet_name)\n",
    "                    headers_added = False\n",
    "            except Exception as e:\n",
    "                progress.console.log(f\"[red]Erro ao carregar arquivo para append: {str(e)}\")\n",
    "                # Criar um novo arquivo se falhar ao carregar\n",
    "                temp_wb = Workbook()\n",
    "                if \"Sheet\" in temp_wb.sheetnames:\n",
    "                    temp_wb.remove(temp_wb[\"Sheet\"])\n",
    "                ws = temp_wb.create_sheet(title=sheet_name)\n",
    "                headers_added = False\n",
    "        \n",
    "        # Adiciona dados\n",
    "        for r_idx, r in enumerate(dataframe_to_rows(df, index=False, header=True)):\n",
    "            if r_idx == 0 and headers_added:\n",
    "                continue  # Pular cabeçalhos se já existirem\n",
    "            ws.append(r)\n",
    "            \n",
    "        # Salva o arquivo\n",
    "        try:\n",
    "            temp_wb.save(output_file)\n",
    "        except Exception as e:\n",
    "            progress.console.log(f\"[red]Erro ao salvar arquivo: {str(e)}\")\n",
    "            # Tenta salvar em um arquivo alternativo\n",
    "            backup_file = output_file.replace('.xlsx', f'_backup_{datetime.datetime.now().strftime(\"%H%M%S\")}.xlsx')\n",
    "            progress.console.log(f\"[yellow]Tentando salvar em arquivo alternativo: {backup_file}\")\n",
    "            temp_wb.save(backup_file)\n",
    "\n",
    "def write_sheet(sheet_name, df, output_file, progress):\n",
    "    with workbook_lock:\n",
    "        # Se a aba já existir, removê-la.\n",
    "        if sheet_name in wb.sheetnames:\n",
    "            ws = wb[sheet_name]\n",
    "            wb.remove(ws)\n",
    "        ws = wb.create_sheet(title=sheet_name)\n",
    "        from openpyxl.utils.dataframe import dataframe_to_rows\n",
    "        for r in dataframe_to_rows(df, index=False, header=True):\n",
    "            ws.append(r)\n",
    "        wb.save(output_file)\n",
    "        progress.console.log(f\"Sheet '{sheet_name}' gravada com {len(df)} linhas.\")\n",
    "\n",
    "\n"
   ]
  },
  {
   "cell_type": "code",
   "execution_count": 9,
   "metadata": {},
   "outputs": [],
   "source": [
    "def debug_sheet(sheet_name):\n",
    "    \"\"\"Função para testar apenas uma aba específica\"\"\"\n",
    "    xls = pd.ExcelFile(IN_PATH + IN_FILE)\n",
    "    \n",
    "    if sheet_name not in xls.sheet_names:\n",
    "        print(f\"Aba '{sheet_name}' não encontrada no arquivo!\")\n",
    "        return\n",
    "    \n",
    "    df_sheet = pd.read_excel(xls, sheet_name=sheet_name)\n",
    "    print(f\"Aba '{sheet_name}' carregada com {len(df_sheet)} linhas.\")\n",
    "    \n",
    "    # Verifique e mostre os primeiros registros para analisar\n",
    "    print(\"\\nPrimeiros 5 registros:\")\n",
    "    print(df_sheet.head())\n",
    "    \n",
    "    # Verificar números de controle\n",
    "    print(\"\\nVerificando números de controle...\")\n",
    "    invalid_controls = []\n",
    "    for idx, row in df_sheet.iterrows():\n",
    "        num_controle = str(row.get(\"numeroControlePNCP\", \"\")).strip()\n",
    "        if num_controle and not re.match(r'^\\d+-\\d+-\\d+/\\d+$', num_controle):\n",
    "            invalid_controls.append((idx, num_controle))\n",
    "    \n",
    "    if invalid_controls:\n",
    "        print(f\"Encontrados {len(invalid_controls)} números de controle com formato inválido:\")\n",
    "        for idx, ctrl in invalid_controls[:10]:\n",
    "            print(f\"  Linha {idx}: '{ctrl}'\")\n",
    "    else:\n",
    "        print(\"Todos os números de controle têm formato válido.\")\n",
    "    \n",
    "    # Adicione mais verificações conforme necessário..."
   ]
  },
  {
   "cell_type": "code",
   "execution_count": 10,
   "metadata": {},
   "outputs": [],
   "source": [
    "def main():\n",
    "    # Lê o arquivo Excel com todas as abas\n",
    "    xls = pd.ExcelFile(IN_PATH + IN_FILE)\n",
    "    sheets = xls.sheet_names  # Lista de abas\n",
    "    \n",
    "    # Cria uma instância global de Progress (Rich) com colunas customizadas\n",
    "    progress = Progress(\n",
    "        TextColumn(\"[bold white]{task.description}\"),\n",
    "        BarColumn(complete_style=\"green\", finished_style=\"bright_green\"),\n",
    "        \"[progress.percentage]{task.percentage:>3.0f}%\",\n",
    "        \"•\",\n",
    "        TimeElapsedColumn(),\n",
    "        \"•\", \n",
    "        TimeRemainingColumn(),\n",
    "    )\n",
    "    \n",
    "    with progress:\n",
    "        # Task externa: Batch de abas\n",
    "        outer_task = progress.add_task(\"[bold green]📊 Processamento PNCP\", total=len(sheets))\n",
    "        \n",
    "        progress.console.log(f\"[bold cyan]🚀 Iniciando processamento de {len(sheets)} abas\")\n",
    "        \n",
    "        # Processar uma aba de cada vez (sequencialmente)\n",
    "        for i, sheet in enumerate(sheets, 1):\n",
    "            try:\n",
    "                progress.console.log(f\"[bold magenta]📋 Aba {i}/{len(sheets)}: {sheet}\")\n",
    "                df_sheet = pd.read_excel(xls, sheet_name=sheet)\n",
    "                process_sheet(sheet, df_sheet, progress)\n",
    "                # Liberar memória\n",
    "                del df_sheet\n",
    "            except Exception as e:\n",
    "                progress.console.log(f\"[bold red]❌ Erro ao processar a aba '{sheet}': {str(e)}\")\n",
    "            progress.update(outer_task, advance=1)\n",
    "            \n",
    "        progress.remove_task(outer_task)\n",
    "        progress.console.log(f\"[bold green]🏁 Processamento concluído!\")\n",
    "    \n",
    "    print(f\"\\n📄 Planilha de itens consolidada salva em: {OUT_PATH + OUT_FILE}\")"
   ]
  },
  {
   "cell_type": "code",
   "execution_count": null,
   "metadata": {},
   "outputs": [
    {
     "data": {
      "application/vnd.jupyter.widget-view+json": {
       "model_id": "dfdb81fb4d1f40dd846cc221df8086d9",
       "version_major": 2,
       "version_minor": 0
      },
      "text/plain": [
       "Output()"
      ]
     },
     "metadata": {},
     "output_type": "display_data"
    },
    {
     "data": {
      "text/html": [
       "<pre style=\"white-space:pre;overflow-x:auto;line-height:normal;font-family:Menlo,'DejaVu Sans Mono',consolas,'Courier New',monospace\"><span style=\"color: #7fbfbf; text-decoration-color: #7fbfbf\">[19:51:15] </span><span style=\"color: #008080; text-decoration-color: #008080; font-weight: bold\">🚀 Iniciando processamento de </span><span style=\"color: #008080; text-decoration-color: #008080; font-weight: bold\">1</span><span style=\"color: #008080; text-decoration-color: #008080; font-weight: bold\"> abas</span>                                                    <span style=\"color: #7f7f7f; text-decoration-color: #7f7f7f\">3010542774.py:21</span>\n",
       "</pre>\n"
      ],
      "text/plain": [
       "\u001b[2;36m[19:51:15]\u001b[0m\u001b[2;36m \u001b[0m\u001b[1;36m🚀 Iniciando processamento de \u001b[0m\u001b[1;36m1\u001b[0m\u001b[1;36m abas\u001b[0m                                                    \u001b[2m3010542774.py\u001b[0m\u001b[2m:\u001b[0m\u001b[2m21\u001b[0m\n"
      ]
     },
     "metadata": {},
     "output_type": "display_data"
    },
    {
     "data": {
      "text/html": [
       "<pre style=\"white-space:pre;overflow-x:auto;line-height:normal;font-family:Menlo,'DejaVu Sans Mono',consolas,'Courier New',monospace\"><span style=\"color: #7fbfbf; text-decoration-color: #7fbfbf\">           </span><span style=\"color: #800080; text-decoration-color: #800080; font-weight: bold\">📋 Aba </span><span style=\"color: #800080; text-decoration-color: #800080; font-weight: bold\">1</span><span style=\"color: #800080; text-decoration-color: #800080; font-weight: bold\">/</span><span style=\"color: #800080; text-decoration-color: #800080; font-weight: bold\">1</span><span style=\"color: #800080; text-decoration-color: #800080; font-weight: bold\">: </span><span style=\"color: #800080; text-decoration-color: #800080; font-weight: bold\">2025</span><span style=\"color: #800080; text-decoration-color: #800080; font-weight: bold\">-</span><span style=\"color: #800080; text-decoration-color: #800080; font-weight: bold\">01</span>                                                                     <span style=\"color: #7f7f7f; text-decoration-color: #7f7f7f\">3010542774.py:26</span>\n",
       "</pre>\n"
      ],
      "text/plain": [
       "\u001b[2;36m          \u001b[0m\u001b[2;36m \u001b[0m\u001b[1;35m📋 Aba \u001b[0m\u001b[1;35m1\u001b[0m\u001b[1;35m/\u001b[0m\u001b[1;35m1\u001b[0m\u001b[1;35m: \u001b[0m\u001b[1;35m2025\u001b[0m\u001b[1;35m-\u001b[0m\u001b[1;35m01\u001b[0m                                                                     \u001b[2m3010542774.py\u001b[0m\u001b[2m:\u001b[0m\u001b[2m26\u001b[0m\n"
      ]
     },
     "metadata": {},
     "output_type": "display_data"
    },
    {
     "data": {
      "text/html": [
       "<pre style=\"white-space:pre;overflow-x:auto;line-height:normal;font-family:Menlo,'DejaVu Sans Mono',consolas,'Courier New',monospace\"><span style=\"color: #7fbfbf; text-decoration-color: #7fbfbf\">[19:51:25] </span>Sheet <span style=\"color: #008000; text-decoration-color: #008000\">'2025-01'</span> lida com <span style=\"color: #008080; text-decoration-color: #008080; font-weight: bold\">36616</span> linhas.                                                   <span style=\"color: #7f7f7f; text-decoration-color: #7f7f7f\">168717531.py:62</span>\n",
       "</pre>\n"
      ],
      "text/plain": [
       "\u001b[2;36m[19:51:25]\u001b[0m\u001b[2;36m \u001b[0mSheet \u001b[32m'2025-01'\u001b[0m lida com \u001b[1;36m36616\u001b[0m linhas.                                                   \u001b[2m168717531.py\u001b[0m\u001b[2m:\u001b[0m\u001b[2m62\u001b[0m\n"
      ]
     },
     "metadata": {},
     "output_type": "display_data"
    },
    {
     "data": {
      "text/html": [
       "<pre style=\"white-space:pre;overflow-x:auto;line-height:normal;font-family:Menlo,'DejaVu Sans Mono',consolas,'Courier New',monospace\"><span style=\"color: #7fbfbf; text-decoration-color: #7fbfbf\">[19:52:26] </span><span style=\"color: #008000; text-decoration-color: #008000\">✓ Batch </span><span style=\"color: #008000; text-decoration-color: #008000; font-weight: bold\">1</span><span style=\"color: #008000; text-decoration-color: #008000\">: </span><span style=\"color: #008000; text-decoration-color: #008000; font-weight: bold\">2124</span><span style=\"color: #008000; text-decoration-color: #008000\"> itens </span><span style=\"color: #008000; text-decoration-color: #008000; font-weight: bold\">(</span><span style=\"color: #008000; text-decoration-color: #008000; font-weight: bold\">2124</span><span style=\"color: #008000; text-decoration-color: #008000\"> total</span><span style=\"color: #008000; text-decoration-color: #008000; font-weight: bold\">)</span>                                                      <span style=\"color: #7f7f7f; text-decoration-color: #7f7f7f\">168717531.py:115</span>\n",
       "</pre>\n"
      ],
      "text/plain": [
       "\u001b[2;36m[19:52:26]\u001b[0m\u001b[2;36m \u001b[0m\u001b[32m✓ Batch \u001b[0m\u001b[1;32m1\u001b[0m\u001b[32m: \u001b[0m\u001b[1;32m2124\u001b[0m\u001b[32m itens \u001b[0m\u001b[1;32m(\u001b[0m\u001b[1;32m2124\u001b[0m\u001b[32m total\u001b[0m\u001b[1;32m)\u001b[0m                                                      \u001b[2m168717531.py\u001b[0m\u001b[2m:\u001b[0m\u001b[2m115\u001b[0m\n"
      ]
     },
     "metadata": {},
     "output_type": "display_data"
    },
    {
     "data": {
      "text/html": [
       "<pre style=\"white-space:pre;overflow-x:auto;line-height:normal;font-family:Menlo,'DejaVu Sans Mono',consolas,'Courier New',monospace\"><span style=\"color: #7fbfbf; text-decoration-color: #7fbfbf\">[19:53:11] </span><span style=\"color: #008000; text-decoration-color: #008000\">✓ Batch </span><span style=\"color: #008000; text-decoration-color: #008000; font-weight: bold\">2</span><span style=\"color: #008000; text-decoration-color: #008000\">: </span><span style=\"color: #008000; text-decoration-color: #008000; font-weight: bold\">2447</span><span style=\"color: #008000; text-decoration-color: #008000\"> itens </span><span style=\"color: #008000; text-decoration-color: #008000; font-weight: bold\">(</span><span style=\"color: #008000; text-decoration-color: #008000; font-weight: bold\">4571</span><span style=\"color: #008000; text-decoration-color: #008000\"> total</span><span style=\"color: #008000; text-decoration-color: #008000; font-weight: bold\">)</span>                                                      <span style=\"color: #7f7f7f; text-decoration-color: #7f7f7f\">168717531.py:115</span>\n",
       "</pre>\n"
      ],
      "text/plain": [
       "\u001b[2;36m[19:53:11]\u001b[0m\u001b[2;36m \u001b[0m\u001b[32m✓ Batch \u001b[0m\u001b[1;32m2\u001b[0m\u001b[32m: \u001b[0m\u001b[1;32m2447\u001b[0m\u001b[32m itens \u001b[0m\u001b[1;32m(\u001b[0m\u001b[1;32m4571\u001b[0m\u001b[32m total\u001b[0m\u001b[1;32m)\u001b[0m                                                      \u001b[2m168717531.py\u001b[0m\u001b[2m:\u001b[0m\u001b[2m115\u001b[0m\n"
      ]
     },
     "metadata": {},
     "output_type": "display_data"
    },
    {
     "data": {
      "text/html": [
       "<pre style=\"white-space:pre;overflow-x:auto;line-height:normal;font-family:Menlo,'DejaVu Sans Mono',consolas,'Courier New',monospace\"><span style=\"color: #7fbfbf; text-decoration-color: #7fbfbf\">[19:54:11] </span><span style=\"color: #008000; text-decoration-color: #008000\">✓ Batch </span><span style=\"color: #008000; text-decoration-color: #008000; font-weight: bold\">3</span><span style=\"color: #008000; text-decoration-color: #008000\">: </span><span style=\"color: #008000; text-decoration-color: #008000; font-weight: bold\">6263</span><span style=\"color: #008000; text-decoration-color: #008000\"> itens </span><span style=\"color: #008000; text-decoration-color: #008000; font-weight: bold\">(</span><span style=\"color: #008000; text-decoration-color: #008000; font-weight: bold\">10834</span><span style=\"color: #008000; text-decoration-color: #008000\"> total</span><span style=\"color: #008000; text-decoration-color: #008000; font-weight: bold\">)</span>                                                     <span style=\"color: #7f7f7f; text-decoration-color: #7f7f7f\">168717531.py:115</span>\n",
       "</pre>\n"
      ],
      "text/plain": [
       "\u001b[2;36m[19:54:11]\u001b[0m\u001b[2;36m \u001b[0m\u001b[32m✓ Batch \u001b[0m\u001b[1;32m3\u001b[0m\u001b[32m: \u001b[0m\u001b[1;32m6263\u001b[0m\u001b[32m itens \u001b[0m\u001b[1;32m(\u001b[0m\u001b[1;32m10834\u001b[0m\u001b[32m total\u001b[0m\u001b[1;32m)\u001b[0m                                                     \u001b[2m168717531.py\u001b[0m\u001b[2m:\u001b[0m\u001b[2m115\u001b[0m\n"
      ]
     },
     "metadata": {},
     "output_type": "display_data"
    },
    {
     "data": {
      "text/html": [
       "<pre style=\"white-space:pre;overflow-x:auto;line-height:normal;font-family:Menlo,'DejaVu Sans Mono',consolas,'Courier New',monospace\"><span style=\"color: #7fbfbf; text-decoration-color: #7fbfbf\">[19:55:08] </span><span style=\"color: #008000; text-decoration-color: #008000\">✓ Batch </span><span style=\"color: #008000; text-decoration-color: #008000; font-weight: bold\">4</span><span style=\"color: #008000; text-decoration-color: #008000\">: </span><span style=\"color: #008000; text-decoration-color: #008000; font-weight: bold\">6319</span><span style=\"color: #008000; text-decoration-color: #008000\"> itens </span><span style=\"color: #008000; text-decoration-color: #008000; font-weight: bold\">(</span><span style=\"color: #008000; text-decoration-color: #008000; font-weight: bold\">17153</span><span style=\"color: #008000; text-decoration-color: #008000\"> total</span><span style=\"color: #008000; text-decoration-color: #008000; font-weight: bold\">)</span>                                                     <span style=\"color: #7f7f7f; text-decoration-color: #7f7f7f\">168717531.py:115</span>\n",
       "</pre>\n"
      ],
      "text/plain": [
       "\u001b[2;36m[19:55:08]\u001b[0m\u001b[2;36m \u001b[0m\u001b[32m✓ Batch \u001b[0m\u001b[1;32m4\u001b[0m\u001b[32m: \u001b[0m\u001b[1;32m6319\u001b[0m\u001b[32m itens \u001b[0m\u001b[1;32m(\u001b[0m\u001b[1;32m17153\u001b[0m\u001b[32m total\u001b[0m\u001b[1;32m)\u001b[0m                                                     \u001b[2m168717531.py\u001b[0m\u001b[2m:\u001b[0m\u001b[2m115\u001b[0m\n"
      ]
     },
     "metadata": {},
     "output_type": "display_data"
    },
    {
     "data": {
      "text/html": [
       "<pre style=\"white-space:pre;overflow-x:auto;line-height:normal;font-family:Menlo,'DejaVu Sans Mono',consolas,'Courier New',monospace\"><span style=\"color: #7fbfbf; text-decoration-color: #7fbfbf\">[19:56:12] </span><span style=\"color: #008000; text-decoration-color: #008000\">✓ Batch </span><span style=\"color: #008000; text-decoration-color: #008000; font-weight: bold\">5</span><span style=\"color: #008000; text-decoration-color: #008000\">: </span><span style=\"color: #008000; text-decoration-color: #008000; font-weight: bold\">6177</span><span style=\"color: #008000; text-decoration-color: #008000\"> itens </span><span style=\"color: #008000; text-decoration-color: #008000; font-weight: bold\">(</span><span style=\"color: #008000; text-decoration-color: #008000; font-weight: bold\">23330</span><span style=\"color: #008000; text-decoration-color: #008000\"> total</span><span style=\"color: #008000; text-decoration-color: #008000; font-weight: bold\">)</span>                                                     <span style=\"color: #7f7f7f; text-decoration-color: #7f7f7f\">168717531.py:115</span>\n",
       "</pre>\n"
      ],
      "text/plain": [
       "\u001b[2;36m[19:56:12]\u001b[0m\u001b[2;36m \u001b[0m\u001b[32m✓ Batch \u001b[0m\u001b[1;32m5\u001b[0m\u001b[32m: \u001b[0m\u001b[1;32m6177\u001b[0m\u001b[32m itens \u001b[0m\u001b[1;32m(\u001b[0m\u001b[1;32m23330\u001b[0m\u001b[32m total\u001b[0m\u001b[1;32m)\u001b[0m                                                     \u001b[2m168717531.py\u001b[0m\u001b[2m:\u001b[0m\u001b[2m115\u001b[0m\n"
      ]
     },
     "metadata": {},
     "output_type": "display_data"
    },
    {
     "data": {
      "text/html": [
       "<pre style=\"white-space:pre;overflow-x:auto;line-height:normal;font-family:Menlo,'DejaVu Sans Mono',consolas,'Courier New',monospace\"><span style=\"color: #7fbfbf; text-decoration-color: #7fbfbf\">[19:57:47] </span><span style=\"color: #008000; text-decoration-color: #008000\">✓ Batch </span><span style=\"color: #008000; text-decoration-color: #008000; font-weight: bold\">6</span><span style=\"color: #008000; text-decoration-color: #008000\">: </span><span style=\"color: #008000; text-decoration-color: #008000; font-weight: bold\">6067</span><span style=\"color: #008000; text-decoration-color: #008000\"> itens </span><span style=\"color: #008000; text-decoration-color: #008000; font-weight: bold\">(</span><span style=\"color: #008000; text-decoration-color: #008000; font-weight: bold\">29397</span><span style=\"color: #008000; text-decoration-color: #008000\"> total</span><span style=\"color: #008000; text-decoration-color: #008000; font-weight: bold\">)</span>                                                     <span style=\"color: #7f7f7f; text-decoration-color: #7f7f7f\">168717531.py:115</span>\n",
       "</pre>\n"
      ],
      "text/plain": [
       "\u001b[2;36m[19:57:47]\u001b[0m\u001b[2;36m \u001b[0m\u001b[32m✓ Batch \u001b[0m\u001b[1;32m6\u001b[0m\u001b[32m: \u001b[0m\u001b[1;32m6067\u001b[0m\u001b[32m itens \u001b[0m\u001b[1;32m(\u001b[0m\u001b[1;32m29397\u001b[0m\u001b[32m total\u001b[0m\u001b[1;32m)\u001b[0m                                                     \u001b[2m168717531.py\u001b[0m\u001b[2m:\u001b[0m\u001b[2m115\u001b[0m\n"
      ]
     },
     "metadata": {},
     "output_type": "display_data"
    }
   ],
   "source": [
    "\n",
    "if __name__ == \"__main__\":\n",
    "    main()"
   ]
  }
 ],
 "metadata": {
  "kernelspec": {
   "display_name": "base",
   "language": "python",
   "name": "python3"
  },
  "language_info": {
   "codemirror_mode": {
    "name": "ipython",
    "version": 3
   },
   "file_extension": ".py",
   "mimetype": "text/x-python",
   "name": "python",
   "nbconvert_exporter": "python",
   "pygments_lexer": "ipython3",
   "version": "3.12.4"
  }
 },
 "nbformat": 4,
 "nbformat_minor": 2
}
